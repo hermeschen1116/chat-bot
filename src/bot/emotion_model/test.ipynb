{
 "cells": [
  {
   "cell_type": "code",
   "id": "initial_id",
   "metadata": {
    "collapsed": true,
    "ExecuteTime": {
     "end_time": "2024-05-02T14:16:05.469823Z",
     "start_time": "2024-05-02T14:16:05.467258Z"
    }
   },
   "source": [
    "import torch\n",
    "\n",
    "a = torch.rand(7)"
   ],
   "outputs": [],
   "execution_count": 75
  },
  {
   "metadata": {
    "ExecuteTime": {
     "end_time": "2024-05-02T14:16:05.477310Z",
     "start_time": "2024-05-02T14:16:05.473569Z"
    }
   },
   "cell_type": "code",
   "source": "a",
   "id": "a050c0a38f84a9e0",
   "outputs": [
    {
     "data": {
      "text/plain": [
       "tensor([0.8513, 0.4354, 0.2082, 0.6063, 0.1916, 0.4476, 0.1020])"
      ]
     },
     "execution_count": 76,
     "metadata": {},
     "output_type": "execute_result"
    }
   ],
   "execution_count": 76
  },
  {
   "metadata": {
    "ExecuteTime": {
     "end_time": "2024-05-02T14:16:51.320870Z",
     "start_time": "2024-05-02T14:16:51.316071Z"
    }
   },
   "cell_type": "code",
   "source": "torch.softmax(a, dim=0)",
   "id": "c265fe38c2716dc1",
   "outputs": [
    {
     "data": {
      "text/plain": [
       "tensor([0.2162, 0.1426, 0.1136, 0.1692, 0.1118, 0.1444, 0.1022])"
      ]
     },
     "execution_count": 78,
     "metadata": {},
     "output_type": "execute_result"
    }
   ],
   "execution_count": 78
  },
  {
   "metadata": {
    "ExecuteTime": {
     "end_time": "2024-05-02T14:19:24.392977Z",
     "start_time": "2024-05-02T14:19:24.387848Z"
    }
   },
   "cell_type": "code",
   "source": [
    "from libs.Attention import diagonal_softmax\n",
    "\n",
    "torch.sum(diagonal_softmax(a.diag()), dim=1)"
   ],
   "id": "36f382484275869d",
   "outputs": [
    {
     "data": {
      "text/plain": [
       "tensor([0.2162, 0.1426, 0.1136, 0.1692, 0.1118, 0.1444, 0.1022])"
      ]
     },
     "execution_count": 81,
     "metadata": {},
     "output_type": "execute_result"
    }
   ],
   "execution_count": 81
  },
  {
   "metadata": {
    "ExecuteTime": {
     "end_time": "2024-05-02T15:46:51.094705Z",
     "start_time": "2024-05-02T15:46:51.091334Z"
    }
   },
   "cell_type": "code",
   "source": "b = a.unsqueeze(dim=-1)",
   "id": "36ba41326edfbe7",
   "outputs": [],
   "execution_count": 83
  },
  {
   "metadata": {
    "ExecuteTime": {
     "end_time": "2024-05-02T15:46:57.733748Z",
     "start_time": "2024-05-02T15:46:57.729027Z"
    }
   },
   "cell_type": "code",
   "source": "b.shape",
   "id": "c38037a492c56c26",
   "outputs": [
    {
     "data": {
      "text/plain": [
       "torch.Size([7, 1])"
      ]
     },
     "execution_count": 84,
     "metadata": {},
     "output_type": "execute_result"
    }
   ],
   "execution_count": 84
  },
  {
   "metadata": {
    "ExecuteTime": {
     "end_time": "2024-05-02T15:52:03.429618Z",
     "start_time": "2024-05-02T15:52:03.423781Z"
    }
   },
   "cell_type": "code",
   "source": "c = torch.rand((7, 7))",
   "id": "9afe3f599467cb5c",
   "outputs": [],
   "execution_count": 85
  },
  {
   "metadata": {
    "ExecuteTime": {
     "end_time": "2024-05-02T15:52:05.709284Z",
     "start_time": "2024-05-02T15:52:05.705921Z"
    }
   },
   "cell_type": "code",
   "source": "c",
   "id": "2f70c2bbb357b502",
   "outputs": [
    {
     "data": {
      "text/plain": [
       "tensor([[0.4443, 0.3169, 0.2581, 0.3489, 0.1448, 0.2292, 0.9881],\n",
       "        [0.4161, 0.2990, 0.4121, 0.8731, 0.2998, 0.6561, 0.2147],\n",
       "        [0.7162, 0.5696, 0.2185, 0.5104, 0.2159, 0.6640, 0.2287],\n",
       "        [0.9769, 0.8712, 0.0758, 0.8497, 0.8327, 0.5244, 0.8204],\n",
       "        [0.3970, 0.2779, 0.9599, 0.2896, 0.0038, 0.7283, 0.6736],\n",
       "        [0.2010, 0.6260, 0.1427, 0.0389, 0.0265, 0.0323, 0.3480],\n",
       "        [0.5493, 0.1155, 0.5764, 0.1937, 0.9185, 0.8141, 0.3300]])"
      ]
     },
     "execution_count": 86,
     "metadata": {},
     "output_type": "execute_result"
    }
   ],
   "execution_count": 86
  },
  {
   "metadata": {
    "ExecuteTime": {
     "end_time": "2024-05-02T16:09:15.787604Z",
     "start_time": "2024-05-02T16:09:15.778584Z"
    }
   },
   "cell_type": "code",
   "source": "torch.argmax(c, dim=1)",
   "id": "cab5d44cad68d028",
   "outputs": [
    {
     "data": {
      "text/plain": [
       "tensor([6, 3, 0, 0, 2, 1, 4])"
      ]
     },
     "execution_count": 92,
     "metadata": {},
     "output_type": "execute_result"
    }
   ],
   "execution_count": 92
  },
  {
   "metadata": {
    "ExecuteTime": {
     "end_time": "2024-05-02T15:52:12.413095Z",
     "start_time": "2024-05-02T15:52:12.409360Z"
    }
   },
   "cell_type": "code",
   "source": "a + c",
   "id": "d9ffd0490914b211",
   "outputs": [
    {
     "data": {
      "text/plain": [
       "tensor([[1.2957, 0.7523, 0.4663, 0.9552, 0.3363, 0.6768, 1.0901],\n",
       "        [1.2675, 0.7344, 0.6203, 1.4794, 0.4914, 1.1037, 0.3167],\n",
       "        [1.5676, 1.0050, 0.4267, 1.1167, 0.4074, 1.1116, 0.3307],\n",
       "        [1.8282, 1.3066, 0.2840, 1.4560, 1.0243, 0.9720, 0.9225],\n",
       "        [1.2483, 0.7133, 1.1680, 0.8960, 0.1953, 1.1759, 0.7756],\n",
       "        [1.0523, 1.0614, 0.3509, 0.6453, 0.2180, 0.4799, 0.4500],\n",
       "        [1.4006, 0.5509, 0.7846, 0.8000, 1.1101, 1.2617, 0.4321]])"
      ]
     },
     "execution_count": 87,
     "metadata": {},
     "output_type": "execute_result"
    }
   ],
   "execution_count": 87
  },
  {
   "metadata": {
    "ExecuteTime": {
     "end_time": "2024-05-02T16:03:58.828906Z",
     "start_time": "2024-05-02T16:03:58.824048Z"
    }
   },
   "cell_type": "code",
   "source": "torch.sum(c[1])",
   "id": "ed17788e93e2c0bd",
   "outputs": [
    {
     "data": {
      "text/plain": [
       "tensor(3.1709)"
      ]
     },
     "execution_count": 91,
     "metadata": {},
     "output_type": "execute_result"
    }
   ],
   "execution_count": 91
  },
  {
   "metadata": {
    "ExecuteTime": {
     "end_time": "2024-05-02T16:03:30.639914Z",
     "start_time": "2024-05-02T16:03:30.635045Z"
    }
   },
   "cell_type": "code",
   "source": "torch.sum(c, dim=1)",
   "id": "dfb41f1cc6fb0f37",
   "outputs": [
    {
     "data": {
      "text/plain": [
       "tensor([2.7302, 3.1709, 3.1232, 4.9512, 3.3300, 1.4154, 3.4976])"
      ]
     },
     "execution_count": 89,
     "metadata": {},
     "output_type": "execute_result"
    }
   ],
   "execution_count": 89
  },
  {
   "metadata": {
    "ExecuteTime": {
     "end_time": "2024-05-02T16:34:38.058109Z",
     "start_time": "2024-05-02T16:34:38.052434Z"
    }
   },
   "cell_type": "code",
   "source": "t = [1, 2, 3]",
   "id": "492cc7e27df082c3",
   "outputs": [],
   "execution_count": 93
  },
  {
   "metadata": {
    "ExecuteTime": {
     "end_time": "2024-05-02T16:34:48.998321Z",
     "start_time": "2024-05-02T16:34:48.992884Z"
    }
   },
   "cell_type": "code",
   "source": "torch.nn.functional.one_hot(torch.tensor(t), 7)",
   "id": "dae9b5baaf58be90",
   "outputs": [
    {
     "data": {
      "text/plain": [
       "tensor([[0, 1, 0, 0, 0, 0, 0],\n",
       "        [0, 0, 1, 0, 0, 0, 0],\n",
       "        [0, 0, 0, 1, 0, 0, 0]])"
      ]
     },
     "execution_count": 95,
     "metadata": {},
     "output_type": "execute_result"
    }
   ],
   "execution_count": 95
  },
  {
   "metadata": {
    "ExecuteTime": {
     "end_time": "2024-05-02T14:16:05.482312Z",
     "start_time": "2024-05-02T14:16:05.480830Z"
    }
   },
   "cell_type": "code",
   "source": "",
   "id": "ba5ed69e30ece89b",
   "outputs": [],
   "execution_count": 76
  }
 ],
 "metadata": {
  "kernelspec": {
   "display_name": "Python 3",
   "language": "python",
   "name": "python3"
  },
  "language_info": {
   "codemirror_mode": {
    "name": "ipython",
    "version": 2
   },
   "file_extension": ".py",
   "mimetype": "text/x-python",
   "name": "python",
   "nbconvert_exporter": "python",
   "pygments_lexer": "ipython2",
   "version": "2.7.6"
  }
 },
 "nbformat": 4,
 "nbformat_minor": 5
}
