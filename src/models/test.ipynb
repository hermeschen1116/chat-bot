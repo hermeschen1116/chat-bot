{
 "cells": [
  {
   "metadata": {
    "ExecuteTime": {
     "end_time": "2024-09-19T15:17:09.394201Z",
     "start_time": "2024-09-19T15:17:09.039828Z"
    }
   },
   "cell_type": "code",
   "source": "from datasets import Dataset, load_dataset",
   "id": "fc7bce785e61632",
   "outputs": [],
   "execution_count": 1
  },
  {
   "cell_type": "code",
   "id": "initial_id",
   "metadata": {
    "collapsed": true,
    "ExecuteTime": {
     "end_time": "2024-09-19T15:17:13.619855Z",
     "start_time": "2024-09-19T15:17:09.403835Z"
    }
   },
   "source": [
    "eval_dataset: Dataset = load_dataset(\n",
    "\t\"hermeschen1116/emotion_transition_from_dialog\",\n",
    "\tsplit=\"test\",\n",
    "\tnum_proc=16,\n",
    "\ttrust_remote_code=True,\n",
    ")"
   ],
   "outputs": [],
   "execution_count": 2
  },
  {
   "metadata": {
    "ExecuteTime": {
     "end_time": "2024-09-19T15:17:13.681962Z",
     "start_time": "2024-09-19T15:17:13.679045Z"
    }
   },
   "cell_type": "code",
   "source": [
    "emotion_labels: list = eval_dataset.features[\"bot_emotion\"].feature.names\n",
    "emotion_labels"
   ],
   "id": "e9797a28954762e7",
   "outputs": [
    {
     "data": {
      "text/plain": [
       "['neutral', 'anger', 'disgust', 'fear', 'happiness', 'sadness', 'surprise']"
      ]
     },
     "execution_count": 3,
     "metadata": {},
     "output_type": "execute_result"
    }
   ],
   "execution_count": 3
  }
 ],
 "metadata": {
  "kernelspec": {
   "display_name": "Python 3",
   "language": "python",
   "name": "python3"
  },
  "language_info": {
   "codemirror_mode": {
    "name": "ipython",
    "version": 2
   },
   "file_extension": ".py",
   "mimetype": "text/x-python",
   "name": "python",
   "nbconvert_exporter": "python",
   "pygments_lexer": "ipython2",
   "version": "2.7.6"
  }
 },
 "nbformat": 4,
 "nbformat_minor": 5
}
