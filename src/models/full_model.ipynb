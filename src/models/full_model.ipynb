{
 "cells": [
  {
   "cell_type": "markdown",
   "id": "8a3ca6205fd0c59f",
   "metadata": {},
   "source": "# Emotion Chat Bot"
  },
  {
   "cell_type": "code",
   "execution_count": null,
   "id": "1a2aa4f1318f3251",
   "metadata": {},
   "outputs": [],
   "source": [
    "import os.path\n",
    "import uuid\n",
    "from random import randint\n",
    "\n",
    "import torch\n",
    "from libs import (\n",
    "\tEmotionModel,\n",
    "\tEmotionPresentationSimilarityAnalyser,\n",
    "\tResponseGeneratorPipeline,\n",
    "\tgenerate_dummy_representation,\n",
    "\tget_emotion_composition,\n",
    ")\n",
    "from libs.FullModel import create_candidates_buffer, get_top_emotion, write_log_file\n",
    "from torch import Tensor\n",
    "from transformers import (\n",
    "\tAutoModelForSequenceClassification,\n",
    "\tAutoTokenizer,\n",
    "\tBitsAndBytesConfig,\n",
    "\tGenerationConfig,\n",
    "\tTextStreamer,\n",
    "\tpipeline,\n",
    ")\n",
    "from unsloth import FastLanguageModel"
   ]
  },
  {
   "cell_type": "markdown",
   "id": "7df2ec80ac934263",
   "metadata": {},
   "source": "## Load Each Module"
  },
  {
   "cell_type": "markdown",
   "id": "bbdd58114a803167",
   "metadata": {},
   "source": "### Response Generator"
  },
  {
   "cell_type": "code",
   "execution_count": null,
   "id": "4c80a1ee1d967a87",
   "metadata": {},
   "outputs": [],
   "source": [
    "model, tokenizer = FastLanguageModel.from_pretrained(\n",
    "\tmodel_name=\"hermeschen1116/response_generator_for_emotion_chat_bot\",\n",
    "\tattn_implementation=\"flash_attention_2\",\n",
    "\tpretraining_tp=1,\n",
    "\tload_in_4bit=True,\n",
    "\tdevice_map=\"auto\",\n",
    "\tlow_cpu_mem_usage=True,\n",
    "\ttrust_remote_code=True,\n",
    ")\n",
    "tokenizer.padding_side = \"left\"\n",
    "tokenizer.clean_up_tokenization_spaces = True"
   ]
  },
  {
   "cell_type": "code",
   "execution_count": null,
   "id": "7d8c87bb53c02a3b",
   "metadata": {},
   "outputs": [],
   "source": [
    "response_generator = ResponseGeneratorPipeline(\n",
    "\tmodel,\n",
    "\ttokenizer,\n",
    "\tframework=\"pt\",\n",
    "\ttask=\"conversation-generation\",\n",
    "\tnum_workers=16,\n",
    "\ttorch_dtype=\"auto\",\n",
    "\tadd_special_tokens=True,\n",
    "\ttruncation=False,\n",
    "\tpadding=True,\n",
    ")"
   ]
  },
  {
   "cell_type": "code",
   "execution_count": null,
   "id": "10795eec37f51bae",
   "metadata": {},
   "outputs": [],
   "source": [
    "FastLanguageModel.for_inference(response_generator.model)\n",
    "response_generator.model = torch.compile(response_generator.model)"
   ]
  },
  {
   "cell_type": "markdown",
   "id": "5e3a0f6986c4c83f",
   "metadata": {},
   "source": "### Sentiment Analyzer"
  },
  {
   "cell_type": "code",
   "execution_count": null,
   "id": "6e4e8f191cc8b3ef",
   "metadata": {},
   "outputs": [],
   "source": [
    "sentiment_analysis_model = AutoModelForSequenceClassification.from_pretrained(\n",
    "\t\"Shotaro30678/sentiment_analysis_for_emotion_chat_bot\",\n",
    "\tquantization_config=BitsAndBytesConfig(load_in_4bit=True, bnb_4bit_compute_dtype=torch.float16),\n",
    "\tdevice_map=\"auto\",\n",
    "\tlow_cpu_mem_usage=True,\n",
    ")"
   ]
  },
  {
   "cell_type": "code",
   "execution_count": null,
   "id": "701fbd337943d5ea",
   "metadata": {},
   "outputs": [],
   "source": [
    "sentiment_analysis_tokenizer = AutoTokenizer.from_pretrained(\n",
    "\t\"Shotaro30678/sentiment_analysis_for_emotion_chat_bot\",\n",
    "\ttrust_remote_code=True,\n",
    ")"
   ]
  },
  {
   "cell_type": "code",
   "execution_count": null,
   "id": "bd6d594d260a8043",
   "metadata": {},
   "outputs": [],
   "source": [
    "sentiment_analyzer = pipeline(\n",
    "\t\"sentiment-analysis\",\n",
    "\tmodel=sentiment_analysis_model,\n",
    "\ttokenizer=sentiment_analysis_tokenizer,\n",
    "\ttop_k=7,\n",
    "\ttorch_dtype=torch.float32,\n",
    "\tdevice_map=\"auto\",\n",
    "\ttrust_remote_code=True,\n",
    ")"
   ]
  },
  {
   "cell_type": "code",
   "execution_count": null,
   "id": "9681c0078abce320",
   "metadata": {},
   "outputs": [],
   "source": [
    "sentiment_analyzer.model = torch.compile(sentiment_analyzer.model)"
   ]
  },
  {
   "cell_type": "code",
   "execution_count": null,
   "id": "5d0c90aa00097046",
   "metadata": {},
   "outputs": [],
   "source": [
    "print(sentiment_analyzer.model)"
   ]
  },
  {
   "cell_type": "markdown",
   "id": "7b7f77a5a4fbf0e2",
   "metadata": {},
   "source": "### Emotion Predictor"
  },
  {
   "cell_type": "code",
   "execution_count": null,
   "id": "7c675bfb19becf6d",
   "metadata": {},
   "outputs": [],
   "source": [
    "emotion_predictor_model = AutoModelForSequenceClassification.from_pretrained(\n",
    "\t\"Shotaro30678/emotion_predictor_for_emotion_chat_bot\",\n",
    "\tquantization_config=BitsAndBytesConfig(load_in_4bit=True, bnb_4bit_compute_dtype=torch.float16),\n",
    "\tdevice_map=\"auto\",\n",
    "\tlow_cpu_mem_usage=True,\n",
    ")"
   ]
  },
  {
   "cell_type": "code",
   "execution_count": null,
   "id": "b1d5b572b25d2871",
   "metadata": {},
   "outputs": [],
   "source": [
    "emotion_predictor_tokenizer = AutoTokenizer.from_pretrained(\n",
    "\t\"Shotaro30678/emotion_predictor_for_emotion_chat_bot\",\n",
    "\ttrust_remote_code=True,\n",
    ")"
   ]
  },
  {
   "cell_type": "code",
   "execution_count": null,
   "id": "d3d609d13ac1305c",
   "metadata": {},
   "outputs": [],
   "source": [
    "emotion_predictor = pipeline(\n",
    "\t\"sentiment-analysis\",\n",
    "\tmodel=emotion_predictor_model,\n",
    "\ttokenizer=emotion_predictor_tokenizer,\n",
    "\ttop_k=7,\n",
    "\ttorch_dtype=torch.float32,\n",
    "\tdevice_map=\"auto\",\n",
    "\ttrust_remote_code=True,\n",
    ")"
   ]
  },
  {
   "cell_type": "code",
   "execution_count": null,
   "id": "e83e581f580f9487",
   "metadata": {},
   "outputs": [],
   "source": [
    "emotion_predictor.model = torch.compile(emotion_predictor.model)"
   ]
  },
  {
   "cell_type": "code",
   "execution_count": null,
   "id": "f08b9c106afb713e",
   "metadata": {},
   "outputs": [],
   "source": [
    "print(emotion_predictor.model)"
   ]
  },
  {
   "cell_type": "markdown",
   "id": "dceb3e74297ea1a9",
   "metadata": {},
   "source": "### Emotion Model"
  },
  {
   "cell_type": "code",
   "execution_count": null,
   "id": "8f257727afd216a9",
   "metadata": {},
   "outputs": [],
   "source": [
    "emotion_model = EmotionModel.from_pretrained(\"hermeschen1116/emotion_model_for_emotion_chat_bot\")"
   ]
  },
  {
   "cell_type": "code",
   "execution_count": null,
   "id": "5420819fd9f588af",
   "metadata": {},
   "outputs": [],
   "source": [
    "emotion_model = torch.compile(emotion_model, mode=\"reduce-overhead\")"
   ]
  },
  {
   "cell_type": "code",
   "execution_count": null,
   "id": "4ee3d7ef2f38aeba",
   "metadata": {},
   "outputs": [],
   "source": [
    "print(emotion_model)"
   ]
  },
  {
   "cell_type": "markdown",
   "id": "3614cf1c44cfd954",
   "metadata": {},
   "source": "### Similarity Analyzer"
  },
  {
   "cell_type": "code",
   "execution_count": null,
   "id": "d46904b2cf2ec820",
   "metadata": {},
   "outputs": [],
   "source": [
    "threshold: float = 0.7"
   ]
  },
  {
   "cell_type": "code",
   "execution_count": null,
   "id": "35923cab42231bf",
   "metadata": {},
   "outputs": [],
   "source": [
    "similarity_analyzer = EmotionPresentationSimilarityAnalyser(None, threshold=threshold)"
   ]
  },
  {
   "cell_type": "markdown",
   "id": "7812a7b3f8d2bb9b",
   "metadata": {},
   "source": "## Combine All Modules"
  },
  {
   "cell_type": "code",
   "execution_count": null,
   "id": "e6d48c0c4bcd7c0a",
   "metadata": {},
   "outputs": [],
   "source": [
    "emotions: list = [\n",
    "\t\"neutral\",\n",
    "\t\"anger\",\n",
    "\t\"disgust\",\n",
    "\t\"fear\",\n",
    "\t\"happiness\",\n",
    "\t\"sadness\",\n",
    "\t\"surprise\",\n",
    "]"
   ]
  },
  {
   "cell_type": "markdown",
   "id": "6246f25cb03ad24b",
   "metadata": {},
   "source": "### Initialize"
  },
  {
   "cell_type": "code",
   "execution_count": null,
   "id": "a5bba438f3869366",
   "metadata": {},
   "outputs": [],
   "source": [
    "chat_buffer_size: int = 10"
   ]
  },
  {
   "cell_type": "code",
   "execution_count": null,
   "id": "bbd8163729f358f7",
   "metadata": {},
   "outputs": [],
   "source": [
    "logfile_uuid: uuid.UUID = uuid.uuid4()\n",
    "if not os.path.isdir(\"./logs\"):\n",
    "\tos.mkdir(\"./logs\")"
   ]
  },
  {
   "cell_type": "code",
   "execution_count": null,
   "id": "bf5aaf39bbdaf0cd",
   "metadata": {},
   "outputs": [],
   "source": [
    "generation_config = GenerationConfig(\n",
    "\tmax_new_tokens=20,\n",
    "\tmin_new_tokens=5,\n",
    "\trepetition_penalty=1.5,\n",
    "\tpad_token_id=tokenizer.pad_token_id,\n",
    "\teos_token_id=tokenizer.eos_token_id,\n",
    "\tuse_cache=True,\n",
    ")"
   ]
  },
  {
   "cell_type": "code",
   "execution_count": null,
   "id": "1733c33e90049dff",
   "metadata": {},
   "outputs": [],
   "source": [
    "streamer = TextStreamer(tokenizer, skip_special_tokens=True, clean_up_tokenization_spaces=True)"
   ]
  },
  {
   "cell_type": "code",
   "execution_count": null,
   "id": "8e3e92093c478ec",
   "metadata": {},
   "outputs": [],
   "source": [
    "bot_ideal_emotion_representation: Tensor = generate_dummy_representation(randint(0, 6))\n",
    "similarity_analyzer.ideal_emotion_representation = bot_ideal_emotion_representation\n",
    "dict(zip(emotions, bot_ideal_emotion_representation.tolist()))"
   ]
  },
  {
   "cell_type": "code",
   "execution_count": null,
   "id": "a7fd1965488ecd1a",
   "metadata": {},
   "outputs": [],
   "source": [
    "bot_emotion_id: int = randint(0, 6)\n",
    "bot_emotion_representation: Tensor = generate_dummy_representation(bot_emotion_id)\n",
    "bot_emotion_representation"
   ]
  },
  {
   "cell_type": "code",
   "execution_count": null,
   "id": "322fc7f3cf905a65",
   "metadata": {},
   "outputs": [],
   "source": [
    "system_prompt: str = input(\"Enter your system prompt: \").strip()\n",
    "bot_response: dict = {\"emotion\": emotions[bot_emotion_id], \"dialog\": \"(Talk to me...)\"}"
   ]
  },
  {
   "cell_type": "code",
   "execution_count": null,
   "id": "8da454aae4c41c25",
   "metadata": {},
   "outputs": [],
   "source": [
    "chat_buffer: list = [{\"role\": \"system\", \"content\": {\"emotion\": \"\", \"dialog\": system_prompt}}]"
   ]
  },
  {
   "cell_type": "code",
   "execution_count": null,
   "id": "38d2e521a8d16664",
   "metadata": {},
   "outputs": [],
   "source": [
    "chat_buffer"
   ]
  },
  {
   "cell_type": "code",
   "execution_count": null,
   "id": "b5f10bbc9baa3309",
   "metadata": {},
   "outputs": [],
   "source": [
    "while True:\n",
    "\tuser_response: str = input(f\"Bot({bot_response[\"emotion\"]}): {bot_response[\"dialog\"]}\").strip()\n",
    "\tif user_response == \"quit\":\n",
    "\t\tbreak\n",
    "\n",
    "\tuser_emotion: list = sentiment_analyzer(user_response)[0]\n",
    "\tchat_buffer.append(\n",
    "\t\t{\n",
    "\t\t\t\"role\": \"user\",\n",
    "\t\t\t\"content\": {\n",
    "\t\t\t\t\"emotion\": get_top_emotion(user_emotion),\n",
    "\t\t\t\t\"dialog\": user_response,\n",
    "\t\t\t},\n",
    "\t\t}\n",
    "\t)\n",
    "\n",
    "\tuser_emotion_composition: Tensor = get_emotion_composition(user_emotion)\n",
    "\n",
    "\tbot_emotion_representation = emotion_model.forward(user_emotion_composition, bot_emotion_representation)\n",
    "\n",
    "\tbot_chat_simulations: list = []\n",
    "\twhile True:\n",
    "\t\tbot_chat_simulations = create_candidates_buffer(chat_buffer)\n",
    "\t\tbot_chat_simulations = [\n",
    "\t\t\tchat[0]\n",
    "\t\t\tfor chat in response_generator(bot_chat_simulations, generation_config=generation_config, streamer=streamer)\n",
    "\t\t]\n",
    "\t\tprint()\n",
    "\t\twrite_log_file(logfile_uuid, bot_chat_simulations)\n",
    "\t\tbot_chat_simulations = list(filter(lambda chat: chat[-1][\"content\"][\"dialog\"] != \"\", bot_chat_simulations))\n",
    "\t\tbot_chat_simulations = list(\n",
    "\t\t\tfilter(lambda chat: chat[-1][\"content\"][\"dialog\"].endswith((\".\", \"!\", \"?\")), bot_chat_simulations)\n",
    "\t\t)\n",
    "\t\tif len(bot_chat_simulations) != 0:\n",
    "\t\t\tbreak\n",
    "\n",
    "\tbot_response_simulations: list = [chat[-1][\"content\"] for chat in bot_chat_simulations]\n",
    "\n",
    "\tuser_future_emotion_composition_simulations: dict = {\n",
    "\t\tresponse[\"emotion\"]: get_emotion_composition(emotion_predictor(response[\"dialog\"])[0])\n",
    "\t\tfor response in bot_response_simulations\n",
    "\t}\n",
    "\n",
    "\tbot_future_emotion_representations: dict = {\n",
    "\t\tk: emotion_model.forward(v, bot_emotion_representation)\n",
    "\t\tfor k, v in user_future_emotion_composition_simulations.items()\n",
    "\t}\n",
    "\n",
    "\temotion_representation_similarity_scores: list = similarity_analyzer(\n",
    "\t\ttorch.stack(list(bot_future_emotion_representations.values())),\n",
    "\t)\n",
    "\n",
    "\tcandidate_emotion_index: int = torch.argmax(emotion_representation_similarity_scores).item()\n",
    "\tbot_best_response_emotion: str = emotions[candidate_emotion_index]\n",
    "\n",
    "\tif len(chat_buffer) == chat_buffer_size + 1:\n",
    "\t\tchat_buffer.pop(1)\n",
    "\tchat_buffer.append({\"role\": \"bot\", \"content\": {\"emotion\": bot_best_response_emotion, \"dialog\": \"\"}})\n",
    "\n",
    "\tchat_buffer = response_generator(chat_buffer, generation_config=generation_config, streamer=streamer)[0]\n",
    "\tprint()\n",
    "\tif chat_buffer[-1][\"content\"][\"dialog\"] == \"\":\n",
    "\t\tchat_buffer[-1][\"content\"][\"dialog\"] = bot_response_simulations[candidate_emotion_index][\"dialog\"]\n",
    "\tbot_response = chat_buffer[-1][\"content\"]\n",
    "\twrite_log_file(logfile_uuid, chat_buffer)"
   ]
  },
  {
   "cell_type": "code",
   "execution_count": null,
   "id": "5dd66746b625fef4",
   "metadata": {},
   "outputs": [],
   "source": []
  }
 ],
 "metadata": {
  "kernelspec": {
   "display_name": "Python 3",
   "language": "python",
   "name": "python3"
  },
  "language_info": {
   "codemirror_mode": {
    "name": "ipython",
    "version": 2
   },
   "file_extension": ".py",
   "mimetype": "text/x-python",
   "name": "python",
   "nbconvert_exporter": "python",
   "pygments_lexer": "ipython2",
   "version": "2.7.6"
  }
 },
 "nbformat": 4,
 "nbformat_minor": 5
}
