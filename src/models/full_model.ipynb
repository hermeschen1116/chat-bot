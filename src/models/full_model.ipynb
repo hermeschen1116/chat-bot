{
 "cells": [
  {
   "cell_type": "markdown",
   "id": "8a3ca6205fd0c59f",
   "metadata": {},
   "source": "# Emotion Chat Bot"
  },
  {
   "cell_type": "code",
   "execution_count": 42,
   "id": "1a2aa4f1318f3251",
   "metadata": {
    "ExecuteTime": {
     "end_time": "2024-09-17T07:54:51.575205Z",
     "start_time": "2024-09-17T07:54:51.573323Z"
    }
   },
   "outputs": [],
   "source": [
    "from operator import itemgetter\n",
    "from pprint import pprint\n",
    "\n",
    "import torch\n",
    "from libs import (\n",
    "    EmotionModel,\n",
    "    ResponseGeneratorPipeline,\n",
    "    SimilarityAnalyser,\n",
    "    generate_dummy_representation,\n",
    "    get_sentiment_composition,\n",
    ")\n",
    "from sympy.core.random import randint\n",
    "from torch import Tensor\n",
    "from transformers import (\n",
    "    AutoModelForSequenceClassification,\n",
    "    AutoTokenizer,\n",
    "    BitsAndBytesConfig,\n",
    "    TextStreamer,\n",
    "    pipeline,\n",
    ")\n",
    "from unsloth import FastLanguageModel"
   ]
  },
  {
   "cell_type": "markdown",
   "id": "7df2ec80ac934263",
   "metadata": {},
   "source": "## Load Each Module"
  },
  {
   "cell_type": "markdown",
   "id": "bbdd58114a803167",
   "metadata": {},
   "source": "### Response Generator"
  },
  {
   "cell_type": "code",
   "execution_count": 43,
   "id": "4c80a1ee1d967a87",
   "metadata": {
    "ExecuteTime": {
     "end_time": "2024-09-17T07:54:59.845053Z",
     "start_time": "2024-09-17T07:54:51.579485Z"
    }
   },
   "outputs": [
    {
     "name": "stdout",
     "output_type": "stream",
     "text": [
      "Unsloth: WARNING `trust_remote_code` is True.\n",
      "Are you certain you want to do remote code execution?\n",
      "==((====))==  Unsloth 2024.9: Fast Llama patching. Transformers = 4.44.2.\n",
      "   \\\\   /|    GPU: NVIDIA GeForce RTX 3060. Max memory: 11.754 GB. Platform = Linux.\n",
      "O^O/ \\_/ \\    Pytorch: 2.4.0+cu121. CUDA = 8.6. CUDA Toolkit = 12.1.\n",
      "\\        /    Bfloat16 = TRUE. FA [Xformers = 0.0.27.post2. FA2 = True]\n",
      " \"-____-\"     Free Apache license: http://github.com/unslothai/unsloth\n"
     ]
    },
    {
     "name": "stderr",
     "output_type": "stream",
     "text": [
      "<string>:209: SyntaxWarning: invalid escape sequence '\\ '\n",
      "<string>:210: SyntaxWarning: invalid escape sequence '\\_'\n",
      "<string>:211: SyntaxWarning: invalid escape sequence '\\ '\n",
      "<string>:209: SyntaxWarning: invalid escape sequence '\\ '\n",
      "<string>:210: SyntaxWarning: invalid escape sequence '\\_'\n",
      "<string>:211: SyntaxWarning: invalid escape sequence '\\ '\n"
     ]
    }
   ],
   "source": [
    "model, tokenizer = FastLanguageModel.from_pretrained(\n",
    "    model_name=\"hermeschen1116/response_generator_for_emotion_chat_bot\",\n",
    "    attn_implementation=\"flash_attention_2\",\n",
    "    pretraining_tp=1,\n",
    "    load_in_4bit=True,\n",
    "    device_map=\"auto\",\n",
    "    low_cpu_mem_usage=True,\n",
    "    trust_remote_code=True,\n",
    ")"
   ]
  },
  {
   "cell_type": "code",
   "execution_count": 44,
   "id": "7d8c87bb53c02a3b",
   "metadata": {
    "ExecuteTime": {
     "end_time": "2024-09-17T07:54:59.861905Z",
     "start_time": "2024-09-17T07:54:59.860099Z"
    }
   },
   "outputs": [],
   "source": [
    "response_generator = ResponseGeneratorPipeline(\n",
    "    model,\n",
    "    tokenizer,\n",
    "    framework=\"pt\",\n",
    "    task=\"conversation-generation\",\n",
    "    num_workers=16,\n",
    "    torch_dtype=\"auto\",\n",
    "    add_special_tokens=True,\n",
    "    truncation=False,\n",
    "    padding=True,\n",
    ")"
   ]
  },
  {
   "cell_type": "code",
   "execution_count": 45,
   "id": "10795eec37f51bae",
   "metadata": {
    "ExecuteTime": {
     "end_time": "2024-09-17T07:54:59.907276Z",
     "start_time": "2024-09-17T07:54:59.905415Z"
    }
   },
   "outputs": [],
   "source": [
    "FastLanguageModel.for_inference(response_generator.model)\n",
    "response_generator.model = torch.compile(\n",
    "    response_generator.model, mode=\"reduce-overhead\"\n",
    ")"
   ]
  },
  {
   "cell_type": "markdown",
   "id": "5e3a0f6986c4c83f",
   "metadata": {},
   "source": "### Sentiment Analyzer"
  },
  {
   "cell_type": "code",
   "execution_count": 46,
   "id": "6e4e8f191cc8b3ef",
   "metadata": {
    "ExecuteTime": {
     "end_time": "2024-09-17T07:55:00.998028Z",
     "start_time": "2024-09-17T07:54:59.954734Z"
    }
   },
   "outputs": [],
   "source": [
    "sentiment_analysis_model = AutoModelForSequenceClassification.from_pretrained(\n",
    "    \"Shotaro30678/sentiment_analysis_for_emotion_chat_bot\",\n",
    "    quantization_config=BitsAndBytesConfig(\n",
    "        load_in_4bit=True, bnb_4bit_compute_dtype=torch.float16\n",
    "    ),\n",
    "    device_map=\"auto\",\n",
    "    low_cpu_mem_usage=True,\n",
    ")"
   ]
  },
  {
   "cell_type": "code",
   "execution_count": 47,
   "id": "701fbd337943d5ea",
   "metadata": {
    "ExecuteTime": {
     "end_time": "2024-09-17T07:55:01.241513Z",
     "start_time": "2024-09-17T07:55:01.019927Z"
    }
   },
   "outputs": [],
   "source": [
    "sentiment_analysis_tokenizer = AutoTokenizer.from_pretrained(\n",
    "    \"Shotaro30678/sentiment_analysis_for_emotion_chat_bot\",\n",
    "    trust_remote_code=True,\n",
    ")"
   ]
  },
  {
   "cell_type": "code",
   "execution_count": 48,
   "id": "bd6d594d260a8043",
   "metadata": {
    "ExecuteTime": {
     "end_time": "2024-09-17T07:55:01.271094Z",
     "start_time": "2024-09-17T07:55:01.266352Z"
    }
   },
   "outputs": [],
   "source": [
    "sentiment_analyzer = pipeline(\n",
    "    \"sentiment-analysis\",\n",
    "    model=sentiment_analysis_model,\n",
    "    tokenizer=sentiment_analysis_tokenizer,\n",
    "    top_k=7,\n",
    "    torch_dtype=torch.float32,\n",
    "    device_map=\"auto\",\n",
    "    trust_remote_code=True,\n",
    ")"
   ]
  },
  {
   "cell_type": "code",
   "execution_count": 49,
   "id": "9681c0078abce320",
   "metadata": {
    "ExecuteTime": {
     "end_time": "2024-09-17T07:55:01.310465Z",
     "start_time": "2024-09-17T07:55:01.308700Z"
    }
   },
   "outputs": [],
   "source": [
    "sentiment_analyzer.model = torch.compile(\n",
    "    sentiment_analyzer.model, mode=\"reduce-overhead\"\n",
    ")"
   ]
  },
  {
   "cell_type": "code",
   "execution_count": 50,
   "id": "5d0c90aa00097046",
   "metadata": {
    "ExecuteTime": {
     "end_time": "2024-09-17T07:55:01.354660Z",
     "start_time": "2024-09-17T07:55:01.352730Z"
    }
   },
   "outputs": [
    {
     "name": "stdout",
     "output_type": "stream",
     "text": [
      "OptimizedModule(\n",
      "  (_orig_mod): RobertaForSequenceClassification(\n",
      "    (roberta): RobertaModel(\n",
      "      (embeddings): RobertaEmbeddings(\n",
      "        (word_embeddings): Embedding(50265, 768, padding_idx=1)\n",
      "        (position_embeddings): Embedding(514, 768, padding_idx=1)\n",
      "        (token_type_embeddings): Embedding(1, 768)\n",
      "        (LayerNorm): LayerNorm((768,), eps=1e-05, elementwise_affine=True)\n",
      "        (dropout): Dropout(p=0.1, inplace=False)\n",
      "      )\n",
      "      (encoder): RobertaEncoder(\n",
      "        (layer): ModuleList(\n",
      "          (0-5): 6 x RobertaLayer(\n",
      "            (attention): RobertaAttention(\n",
      "              (self): RobertaSelfAttention(\n",
      "                (query): Linear4bit(in_features=768, out_features=768, bias=True)\n",
      "                (key): Linear4bit(in_features=768, out_features=768, bias=True)\n",
      "                (value): Linear4bit(in_features=768, out_features=768, bias=True)\n",
      "                (dropout): Dropout(p=0.1, inplace=False)\n",
      "              )\n",
      "              (output): RobertaSelfOutput(\n",
      "                (dense): Linear4bit(in_features=768, out_features=768, bias=True)\n",
      "                (LayerNorm): LayerNorm((768,), eps=1e-05, elementwise_affine=True)\n",
      "                (dropout): Dropout(p=0.1, inplace=False)\n",
      "              )\n",
      "            )\n",
      "            (intermediate): RobertaIntermediate(\n",
      "              (dense): Linear4bit(in_features=768, out_features=3072, bias=True)\n",
      "              (intermediate_act_fn): GELUActivation()\n",
      "            )\n",
      "            (output): RobertaOutput(\n",
      "              (dense): Linear4bit(in_features=3072, out_features=768, bias=True)\n",
      "              (LayerNorm): LayerNorm((768,), eps=1e-05, elementwise_affine=True)\n",
      "              (dropout): Dropout(p=0.1, inplace=False)\n",
      "            )\n",
      "          )\n",
      "        )\n",
      "      )\n",
      "    )\n",
      "    (classifier): RobertaClassificationHead(\n",
      "      (dense): Linear4bit(in_features=768, out_features=768, bias=True)\n",
      "      (dropout): Dropout(p=0.1, inplace=False)\n",
      "      (out_proj): Linear(in_features=768, out_features=7, bias=True)\n",
      "    )\n",
      "  )\n",
      ")\n"
     ]
    }
   ],
   "source": [
    "print(sentiment_analyzer.model)"
   ]
  },
  {
   "cell_type": "markdown",
   "id": "7b7f77a5a4fbf0e2",
   "metadata": {},
   "source": "### Emotion Predictor"
  },
  {
   "cell_type": "code",
   "execution_count": 51,
   "id": "7c675bfb19becf6d",
   "metadata": {
    "ExecuteTime": {
     "end_time": "2024-09-17T07:55:02.018435Z",
     "start_time": "2024-09-17T07:55:01.453495Z"
    }
   },
   "outputs": [],
   "source": [
    "emotion_predictor_model = AutoModelForSequenceClassification.from_pretrained(\n",
    "    \"Shotaro30678/emotion_predictor_for_emotion_chat_bot\",\n",
    "    quantization_config=BitsAndBytesConfig(\n",
    "        load_in_4bit=True, bnb_4bit_compute_dtype=torch.float16\n",
    "    ),\n",
    "    device_map=\"auto\",\n",
    "    low_cpu_mem_usage=True,\n",
    ")"
   ]
  },
  {
   "cell_type": "code",
   "execution_count": 52,
   "id": "b1d5b572b25d2871",
   "metadata": {
    "ExecuteTime": {
     "end_time": "2024-09-17T07:55:02.255558Z",
     "start_time": "2024-09-17T07:55:02.031986Z"
    }
   },
   "outputs": [],
   "source": [
    "emotion_predictor_tokenizer = AutoTokenizer.from_pretrained(\n",
    "    \"Shotaro30678/emotion_predictor_for_emotion_chat_bot\",\n",
    "    trust_remote_code=True,\n",
    ")"
   ]
  },
  {
   "cell_type": "code",
   "execution_count": 53,
   "id": "d3d609d13ac1305c",
   "metadata": {
    "ExecuteTime": {
     "end_time": "2024-09-17T07:55:02.274401Z",
     "start_time": "2024-09-17T07:55:02.269683Z"
    }
   },
   "outputs": [],
   "source": [
    "emotion_predictor = pipeline(\n",
    "    \"sentiment-analysis\",\n",
    "    model=emotion_predictor_model,\n",
    "    tokenizer=emotion_predictor_tokenizer,\n",
    "    top_k=7,\n",
    "    torch_dtype=torch.float32,\n",
    "    device_map=\"auto\",\n",
    "    trust_remote_code=True,\n",
    ")"
   ]
  },
  {
   "cell_type": "code",
   "execution_count": 54,
   "id": "e83e581f580f9487",
   "metadata": {
    "ExecuteTime": {
     "end_time": "2024-09-17T07:55:02.314609Z",
     "start_time": "2024-09-17T07:55:02.312855Z"
    }
   },
   "outputs": [],
   "source": [
    "emotion_predictor.model = torch.compile(emotion_predictor.model, mode=\"reduce-overhead\")"
   ]
  },
  {
   "cell_type": "code",
   "execution_count": 55,
   "id": "f08b9c106afb713e",
   "metadata": {
    "ExecuteTime": {
     "end_time": "2024-09-17T07:55:02.358538Z",
     "start_time": "2024-09-17T07:55:02.356620Z"
    }
   },
   "outputs": [
    {
     "name": "stdout",
     "output_type": "stream",
     "text": [
      "OptimizedModule(\n",
      "  (_orig_mod): RobertaForSequenceClassification(\n",
      "    (roberta): RobertaModel(\n",
      "      (embeddings): RobertaEmbeddings(\n",
      "        (word_embeddings): Embedding(50265, 768, padding_idx=1)\n",
      "        (position_embeddings): Embedding(514, 768, padding_idx=1)\n",
      "        (token_type_embeddings): Embedding(1, 768)\n",
      "        (LayerNorm): LayerNorm((768,), eps=1e-05, elementwise_affine=True)\n",
      "        (dropout): Dropout(p=0.1, inplace=False)\n",
      "      )\n",
      "      (encoder): RobertaEncoder(\n",
      "        (layer): ModuleList(\n",
      "          (0-5): 6 x RobertaLayer(\n",
      "            (attention): RobertaAttention(\n",
      "              (self): RobertaSelfAttention(\n",
      "                (query): Linear4bit(in_features=768, out_features=768, bias=True)\n",
      "                (key): Linear4bit(in_features=768, out_features=768, bias=True)\n",
      "                (value): Linear4bit(in_features=768, out_features=768, bias=True)\n",
      "                (dropout): Dropout(p=0.1, inplace=False)\n",
      "              )\n",
      "              (output): RobertaSelfOutput(\n",
      "                (dense): Linear4bit(in_features=768, out_features=768, bias=True)\n",
      "                (LayerNorm): LayerNorm((768,), eps=1e-05, elementwise_affine=True)\n",
      "                (dropout): Dropout(p=0.1, inplace=False)\n",
      "              )\n",
      "            )\n",
      "            (intermediate): RobertaIntermediate(\n",
      "              (dense): Linear4bit(in_features=768, out_features=3072, bias=True)\n",
      "              (intermediate_act_fn): GELUActivation()\n",
      "            )\n",
      "            (output): RobertaOutput(\n",
      "              (dense): Linear4bit(in_features=3072, out_features=768, bias=True)\n",
      "              (LayerNorm): LayerNorm((768,), eps=1e-05, elementwise_affine=True)\n",
      "              (dropout): Dropout(p=0.1, inplace=False)\n",
      "            )\n",
      "          )\n",
      "        )\n",
      "      )\n",
      "    )\n",
      "    (classifier): RobertaClassificationHead(\n",
      "      (dense): Linear4bit(in_features=768, out_features=768, bias=True)\n",
      "      (dropout): Dropout(p=0.1, inplace=False)\n",
      "      (out_proj): Linear(in_features=768, out_features=7, bias=True)\n",
      "    )\n",
      "  )\n",
      ")\n"
     ]
    }
   ],
   "source": [
    "print(emotion_predictor.model)"
   ]
  },
  {
   "cell_type": "markdown",
   "id": "dceb3e74297ea1a9",
   "metadata": {},
   "source": "### Emotion Model"
  },
  {
   "cell_type": "code",
   "execution_count": 56,
   "id": "8f257727afd216a9",
   "metadata": {
    "ExecuteTime": {
     "end_time": "2024-09-17T07:55:02.819967Z",
     "start_time": "2024-09-17T07:55:02.403829Z"
    }
   },
   "outputs": [],
   "source": [
    "emotion_model = EmotionModel.from_pretrained(\n",
    "    \"hermeschen1116/emotion_model_for_emotion_chat_bot\"\n",
    ")"
   ]
  },
  {
   "cell_type": "code",
   "execution_count": 57,
   "id": "5420819fd9f588af",
   "metadata": {
    "ExecuteTime": {
     "end_time": "2024-09-17T07:55:02.835412Z",
     "start_time": "2024-09-17T07:55:02.833818Z"
    }
   },
   "outputs": [],
   "source": [
    "emotion_model = torch.compile(emotion_model, mode=\"reduce-overhead\")"
   ]
  },
  {
   "cell_type": "code",
   "execution_count": 58,
   "id": "4ee3d7ef2f38aeba",
   "metadata": {
    "ExecuteTime": {
     "end_time": "2024-09-17T07:55:02.879440Z",
     "start_time": "2024-09-17T07:55:02.877812Z"
    }
   },
   "outputs": [
    {
     "name": "stdout",
     "output_type": "stream",
     "text": [
      "OptimizedModule(\n",
      "  (_orig_mod): EmotionModel(\n",
      "    (_EmotionModel__weight_Q): Linear(in_features=7, out_features=7, bias=False)\n",
      "    (_EmotionModel__weight_K): Linear(in_features=7, out_features=7, bias=False)\n",
      "    (_EmotionModel__dropout): Dropout(p=0.5, inplace=False)\n",
      "    (_EmotionModel__weight_D): Linear(in_features=7, out_features=7, bias=True)\n",
      "  )\n",
      ")\n"
     ]
    }
   ],
   "source": [
    "print(emotion_model)"
   ]
  },
  {
   "cell_type": "markdown",
   "id": "3614cf1c44cfd954",
   "metadata": {},
   "source": "### Similarity Analyzer"
  },
  {
   "cell_type": "code",
   "execution_count": 59,
   "id": "d46904b2cf2ec820",
   "metadata": {
    "ExecuteTime": {
     "end_time": "2024-09-17T07:55:02.933679Z",
     "start_time": "2024-09-17T07:55:02.932276Z"
    }
   },
   "outputs": [],
   "source": [
    "threshold: float = 0.5"
   ]
  },
  {
   "cell_type": "code",
   "execution_count": 60,
   "id": "35923cab42231bf",
   "metadata": {
    "ExecuteTime": {
     "end_time": "2024-09-17T07:55:02.982182Z",
     "start_time": "2024-09-17T07:55:02.980706Z"
    }
   },
   "outputs": [],
   "source": [
    "similarity_analyzer = SimilarityAnalyser(threshold)"
   ]
  },
  {
   "cell_type": "markdown",
   "id": "7812a7b3f8d2bb9b",
   "metadata": {},
   "source": "## Combine All Modules"
  },
  {
   "cell_type": "markdown",
   "id": "6246f25cb03ad24b",
   "metadata": {},
   "source": "### Initialize Text Streamer"
  },
  {
   "cell_type": "code",
   "execution_count": 61,
   "id": "1733c33e90049dff",
   "metadata": {
    "ExecuteTime": {
     "end_time": "2024-09-17T07:55:03.030420Z",
     "start_time": "2024-09-17T07:55:03.028948Z"
    }
   },
   "outputs": [],
   "source": [
    "streamer = TextStreamer(\n",
    "    tokenizer, skip_special_tokens=True, clean_up_tokenization_spaces=True\n",
    ")"
   ]
  },
  {
   "cell_type": "code",
   "execution_count": 62,
   "id": "322fc7f3cf905a65",
   "metadata": {
    "ExecuteTime": {
     "end_time": "2024-09-17T07:55:03.077959Z",
     "start_time": "2024-09-17T07:55:03.076554Z"
    }
   },
   "outputs": [],
   "source": [
    "system_prompt: str = \"\"  # input(\"Enter your system prompt: \").strip()"
   ]
  },
  {
   "cell_type": "code",
   "execution_count": 63,
   "id": "8da454aae4c41c25",
   "metadata": {
    "ExecuteTime": {
     "end_time": "2024-09-17T07:55:03.122009Z",
     "start_time": "2024-09-17T07:55:03.120591Z"
    }
   },
   "outputs": [],
   "source": [
    "chat_buffer: list = [\n",
    "    {\n",
    "        \"role\": \"system\",\n",
    "        \"content\": {\"emotion\": \"\", \"dialog\": system_prompt},\n",
    "    }\n",
    "]"
   ]
  },
  {
   "cell_type": "markdown",
   "id": "59b87cd2a34315d1",
   "metadata": {},
   "source": "### Initialize Bot's Emotion Representation"
  },
  {
   "cell_type": "code",
   "execution_count": 64,
   "id": "a7fd1965488ecd1a",
   "metadata": {
    "ExecuteTime": {
     "end_time": "2024-09-17T07:55:03.171213Z",
     "start_time": "2024-09-17T07:55:03.168740Z"
    }
   },
   "outputs": [
    {
     "data": {
      "text/plain": [
       "tensor([0.7378, 0.6395, 0.9678, 0.3301, 0.2555, 0.3719, 0.9603])"
      ]
     },
     "execution_count": 64,
     "metadata": {},
     "output_type": "execute_result"
    }
   ],
   "source": [
    "bot_emotion_representation: Tensor = generate_dummy_representation(randint(0, 6))\n",
    "bot_emotion_representation"
   ]
  },
  {
   "cell_type": "code",
   "execution_count": 65,
   "id": "8e3e92093c478ec",
   "metadata": {
    "ExecuteTime": {
     "end_time": "2024-09-17T07:55:03.218104Z",
     "start_time": "2024-09-17T07:55:03.215528Z"
    }
   },
   "outputs": [
    {
     "data": {
      "text/plain": [
       "tensor([0.9431, 0.6571, 0.2676, 0.8220, 0.9937, 0.9270, 0.8024])"
      ]
     },
     "execution_count": 65,
     "metadata": {},
     "output_type": "execute_result"
    }
   ],
   "source": [
    "ideal_bot_emotion_representation: Tensor = torch.tensor(\n",
    "    [0], device=bot_emotion_representation.device\n",
    ")\n",
    "while True:\n",
    "    ideal_bot_emotion_representation = generate_dummy_representation(randint(0, 6))\n",
    "    if not ideal_bot_emotion_representation.eq(bot_emotion_representation).all():\n",
    "        break\n",
    "ideal_bot_emotion_representation"
   ]
  },
  {
   "cell_type": "code",
   "execution_count": 66,
   "id": "eb8d565d56c3d641",
   "metadata": {
    "ExecuteTime": {
     "end_time": "2024-09-17T07:55:03.264889Z",
     "start_time": "2024-09-17T07:55:03.263273Z"
    }
   },
   "outputs": [],
   "source": [
    "def get_top_emotion(input_text_emotion: list) -> str:\n",
    "    label2score: dict = {\n",
    "        emotion[\"label\"]: emotion[\"score\"] for emotion in input_text_emotion[0]\n",
    "    }\n",
    "    return max(label2score, key=label2score.get)"
   ]
  },
  {
   "cell_type": "code",
   "execution_count": 67,
   "id": "59f481da8f2af2ad",
   "metadata": {
    "ExecuteTime": {
     "end_time": "2024-09-17T07:55:07.120899Z",
     "start_time": "2024-09-17T07:55:03.312761Z"
    }
   },
   "outputs": [
    {
     "data": {
      "text/plain": [
       "[{'role': 'system', 'content': {'emotion': '', 'dialog': ''}},\n",
       " {'role': 'user',\n",
       "  'content': {'emotion': 'neutral', 'dialog': 'Hello, how are you?'}}]"
      ]
     },
     "execution_count": 67,
     "metadata": {},
     "output_type": "execute_result"
    }
   ],
   "source": [
    "input_text: str = \"Hello, how are you?\"  # input(\"Talk to bot...\").strip()\n",
    "input_text_emotion: list = sentiment_analyzer(chat_buffer[-1][\"content\"][\"dialog\"])\n",
    "chat_buffer.append(\n",
    "    {\n",
    "        \"role\": \"user\",\n",
    "        \"content\": {\n",
    "            \"emotion\": get_top_emotion(input_text_emotion),\n",
    "            \"dialog\": input_text,\n",
    "        },\n",
    "    }\n",
    ")\n",
    "chat_buffer"
   ]
  },
  {
   "cell_type": "code",
   "execution_count": 68,
   "id": "4beb79e83f295be9",
   "metadata": {
    "ExecuteTime": {
     "end_time": "2024-09-17T07:55:07.175815Z",
     "start_time": "2024-09-17T07:55:07.173182Z"
    }
   },
   "outputs": [
    {
     "data": {
      "text/plain": [
       "tensor([0.3073, 0.1151, 0.1151, 0.1151, 0.1168, 0.1153, 0.1152])"
      ]
     },
     "execution_count": 68,
     "metadata": {},
     "output_type": "execute_result"
    }
   ],
   "source": [
    "input_text_emotion_composition: Tensor = get_sentiment_composition(input_text_emotion)\n",
    "input_text_emotion_composition"
   ]
  },
  {
   "cell_type": "markdown",
   "id": "614d1ccda8b3518a",
   "metadata": {},
   "source": "### Update Current Bot's Emotion Representation"
  },
  {
   "cell_type": "code",
   "execution_count": 69,
   "id": "24dc817b84a77cdb",
   "metadata": {
    "ExecuteTime": {
     "end_time": "2024-09-17T07:55:07.501557Z",
     "start_time": "2024-09-17T07:55:07.219802Z"
    }
   },
   "outputs": [
    {
     "name": "stderr",
     "output_type": "stream",
     "text": [
      "skipping cudagraphs due to skipping cudagraphs due to cpu device (primals_5). Found from : \n",
      "   File \"/home/hermeschen/Repo/chat-bot/src/models/libs/EmotionModel.py\", line 40, in forward\n",
      "    decomposed_representation: Tensor = representation.diag().to(\n",
      "\n"
     ]
    },
    {
     "data": {
      "text/plain": [
       "tensor([0.4907, 0.2973, 0.2982, 0.2970, 0.2986, 0.2973, 0.2979],\n",
       "       device='cuda:0', grad_fn=<CompiledFunctionBackward>)"
      ]
     },
     "execution_count": 69,
     "metadata": {},
     "output_type": "execute_result"
    }
   ],
   "source": [
    "bot_emotion_representation = emotion_model.forward(\n",
    "    input_text_emotion_composition, bot_emotion_representation\n",
    ")\n",
    "bot_emotion_representation"
   ]
  },
  {
   "cell_type": "markdown",
   "id": "7ab25273bbf80b65",
   "metadata": {},
   "source": "### Generate All Possible Responses In 7 Different Emotions"
  },
  {
   "cell_type": "code",
   "execution_count": 70,
   "id": "524c57a7f522444f",
   "metadata": {
    "ExecuteTime": {
     "end_time": "2024-09-17T07:55:07.517070Z",
     "start_time": "2024-09-17T07:55:07.515216Z"
    }
   },
   "outputs": [],
   "source": [
    "def create_candidates_buffer(chat_buffer: list) -> list:\n",
    "    emotions: list = [\n",
    "        \"neutral\",\n",
    "        \"anger\",\n",
    "        \"disgust\",\n",
    "        \"fear\",\n",
    "        \"happiness\",\n",
    "        \"sadness\",\n",
    "        \"surprise\",\n",
    "    ]\n",
    "\n",
    "    candidates_buffer: list = [\n",
    "        chat_buffer\n",
    "        + [\n",
    "            {\n",
    "                \"role\": \"bot\",\n",
    "                \"content\": {\"emotion\": emotion, \"dialog\": \"\"},\n",
    "            }\n",
    "        ]\n",
    "        for emotion in emotions\n",
    "    ]\n",
    "\n",
    "    return candidates_buffer"
   ]
  },
  {
   "cell_type": "code",
   "execution_count": 71,
   "id": "ff4d752b3e6be9f6",
   "metadata": {
    "ExecuteTime": {
     "end_time": "2024-09-17T07:55:07.563136Z",
     "start_time": "2024-09-17T07:55:07.560693Z"
    }
   },
   "outputs": [
    {
     "data": {
      "text/plain": [
       "[[{'role': 'system', 'content': {'emotion': '', 'dialog': ''}},\n",
       "  {'role': 'user',\n",
       "   'content': {'emotion': 'neutral', 'dialog': 'Hello, how are you?'}},\n",
       "  {'role': 'bot', 'content': {'emotion': 'neutral', 'dialog': ''}}],\n",
       " [{'role': 'system', 'content': {'emotion': '', 'dialog': ''}},\n",
       "  {'role': 'user',\n",
       "   'content': {'emotion': 'neutral', 'dialog': 'Hello, how are you?'}},\n",
       "  {'role': 'bot', 'content': {'emotion': 'anger', 'dialog': ''}}],\n",
       " [{'role': 'system', 'content': {'emotion': '', 'dialog': ''}},\n",
       "  {'role': 'user',\n",
       "   'content': {'emotion': 'neutral', 'dialog': 'Hello, how are you?'}},\n",
       "  {'role': 'bot', 'content': {'emotion': 'disgust', 'dialog': ''}}],\n",
       " [{'role': 'system', 'content': {'emotion': '', 'dialog': ''}},\n",
       "  {'role': 'user',\n",
       "   'content': {'emotion': 'neutral', 'dialog': 'Hello, how are you?'}},\n",
       "  {'role': 'bot', 'content': {'emotion': 'fear', 'dialog': ''}}],\n",
       " [{'role': 'system', 'content': {'emotion': '', 'dialog': ''}},\n",
       "  {'role': 'user',\n",
       "   'content': {'emotion': 'neutral', 'dialog': 'Hello, how are you?'}},\n",
       "  {'role': 'bot', 'content': {'emotion': 'happiness', 'dialog': ''}}],\n",
       " [{'role': 'system', 'content': {'emotion': '', 'dialog': ''}},\n",
       "  {'role': 'user',\n",
       "   'content': {'emotion': 'neutral', 'dialog': 'Hello, how are you?'}},\n",
       "  {'role': 'bot', 'content': {'emotion': 'sadness', 'dialog': ''}}],\n",
       " [{'role': 'system', 'content': {'emotion': '', 'dialog': ''}},\n",
       "  {'role': 'user',\n",
       "   'content': {'emotion': 'neutral', 'dialog': 'Hello, how are you?'}},\n",
       "  {'role': 'bot', 'content': {'emotion': 'surprise', 'dialog': ''}}]]"
      ]
     },
     "execution_count": 71,
     "metadata": {},
     "output_type": "execute_result"
    }
   ],
   "source": [
    "candidates_buffer: list = create_candidates_buffer(chat_buffer)\n",
    "candidates_buffer"
   ]
  },
  {
   "cell_type": "code",
   "execution_count": 72,
   "id": "177d0dc31017d0a1",
   "metadata": {
    "ExecuteTime": {
     "end_time": "2024-09-17T07:55:10.041012Z",
     "start_time": "2024-09-17T07:55:07.607450Z"
    }
   },
   "outputs": [
    {
     "name": "stdout",
     "output_type": "stream",
     "text": [
      "   neutral   Hello, how are you?     neutral    Fine, thank you. \n",
      "   neutral   Hello, how are you?     anger    Hi! I'm fine! \n",
      "   neutral   Hello, how are you?     disgust   \n",
      "   neutral   Hello, how are you?     fear    Hi! I'm scared! \n",
      "   neutral   Hello, how are you?     happiness   \n",
      "   neutral   Hello, how are you?     sadness   \n",
      "   neutral   Hello, how are you?     surprise     Hi! I haven't seen you for ages! \n",
      "\n",
      "[[{'content': {'dialog': '', 'emotion': ''}, 'role': 'system'},\n",
      "  {'content': {'dialog': 'Hello, how are you?', 'emotion': 'neutral'},\n",
      "   'role': 'user'},\n",
      "  {'content': {'dialog': ' Fine, thank you. ', 'emotion': 'neutral'},\n",
      "   'role': 'bot'}],\n",
      " [{'content': {'dialog': '', 'emotion': ''}, 'role': 'system'},\n",
      "  {'content': {'dialog': 'Hello, how are you?', 'emotion': 'neutral'},\n",
      "   'role': 'user'},\n",
      "  {'content': {'dialog': \" Hi! I'm fine! \", 'emotion': 'anger'},\n",
      "   'role': 'bot'}],\n",
      " [{'content': {'dialog': '', 'emotion': ''}, 'role': 'system'},\n",
      "  {'content': {'dialog': 'Hello, how are you?', 'emotion': 'neutral'},\n",
      "   'role': 'user'},\n",
      "  {'content': {'dialog': \" Hi! I'm scared! \", 'emotion': 'fear'},\n",
      "   'role': 'bot'}],\n",
      " [{'content': {'dialog': '', 'emotion': ''}, 'role': 'system'},\n",
      "  {'content': {'dialog': 'Hello, how are you?', 'emotion': 'neutral'},\n",
      "   'role': 'user'},\n",
      "  {'content': {'dialog': \"  Hi! I haven't seen you for ages! \",\n",
      "               'emotion': 'surprise'},\n",
      "   'role': 'bot'}]]\n"
     ]
    }
   ],
   "source": [
    "generated_candidates: list = [\n",
    "    result[0][\"generated_text\"]\n",
    "    for result in response_generator(candidates_buffer, streamer=streamer)\n",
    "    if result[0][\"generated_text\"][-1][\"content\"][\"dialog\"] != \"\"\n",
    "]\n",
    "print()\n",
    "pprint(generated_candidates)"
   ]
  },
  {
   "cell_type": "markdown",
   "id": "edd1623271d26e3b",
   "metadata": {},
   "source": "### Simulate Bot's Possible Emotion Representation"
  },
  {
   "cell_type": "code",
   "execution_count": 73,
   "id": "f02b5b958b97edf6",
   "metadata": {
    "ExecuteTime": {
     "end_time": "2024-09-17T07:55:10.057892Z",
     "start_time": "2024-09-17T07:55:10.056287Z"
    }
   },
   "outputs": [],
   "source": [
    "def get_possible_response_emotion_representation(\n",
    "    candidates_buffer: list, emotion_predictor\n",
    ") -> dict:\n",
    "    possible_user_response_emotion: dict = {}\n",
    "    for candidate in candidates_buffer:\n",
    "        emotion: list = emotion_predictor(candidate[-1][\"content\"][\"dialog\"])\n",
    "        possible_user_response_emotion[candidate[-1][\"content\"][\"emotion\"]] = (\n",
    "            get_sentiment_composition(emotion)\n",
    "        )\n",
    "\n",
    "    return possible_user_response_emotion"
   ]
  },
  {
   "cell_type": "code",
   "execution_count": 74,
   "id": "adf9424c0ca6751f",
   "metadata": {
    "ExecuteTime": {
     "end_time": "2024-09-17T07:55:23.803009Z",
     "start_time": "2024-09-17T07:55:10.100796Z"
    }
   },
   "outputs": [
    {
     "data": {
      "text/plain": [
       "{'neutral': tensor([0.1371, 0.1183, 0.1180, 0.1181, 0.2714, 0.1184, 0.1187]),\n",
       " 'anger': tensor([0.1727, 0.1222, 0.1206, 0.1214, 0.2200, 0.1214, 0.1216]),\n",
       " 'fear': tensor([0.2380, 0.1309, 0.1211, 0.1292, 0.1302, 0.1248, 0.1258]),\n",
       " 'surprise': tensor([0.1770, 0.1285, 0.1226, 0.1249, 0.1973, 0.1238, 0.1259])}"
      ]
     },
     "execution_count": 74,
     "metadata": {},
     "output_type": "execute_result"
    }
   ],
   "source": [
    "possible_response_emotion_composition: dict = (\n",
    "    get_possible_response_emotion_representation(\n",
    "        generated_candidates, emotion_predictor\n",
    "    )\n",
    ")\n",
    "possible_response_emotion_composition"
   ]
  },
  {
   "cell_type": "code",
   "execution_count": 75,
   "id": "b8f0c947ddacbd18",
   "metadata": {
    "ExecuteTime": {
     "end_time": "2024-09-17T07:55:24.145856Z",
     "start_time": "2024-09-17T07:55:23.866985Z"
    }
   },
   "outputs": [
    {
     "name": "stderr",
     "output_type": "stream",
     "text": [
      "skipping cudagraphs due to skipping cudagraphs due to cpu device (primals_5). Found from : \n",
      "   File \"/home/hermeschen/Repo/chat-bot/src/models/libs/EmotionModel.py\", line 40, in forward\n",
      "    decomposed_representation: Tensor = representation.diag().to(\n",
      "\n"
     ]
    },
    {
     "data": {
      "text/plain": [
       "{'neutral': tensor([0.3206, 0.3003, 0.3010, 0.2999, 0.4532, 0.3005, 0.3015],\n",
       "        device='cuda:0', grad_fn=<CompiledFunctionBackward>),\n",
       " 'anger': tensor([0.3562, 0.3043, 0.3036, 0.3034, 0.4018, 0.3036, 0.3043],\n",
       "        device='cuda:0', grad_fn=<CompiledFunctionBackward>),\n",
       " 'fear': tensor([0.4215, 0.3131, 0.3041, 0.3110, 0.3120, 0.3068, 0.3085],\n",
       "        device='cuda:0', grad_fn=<CompiledFunctionBackward>),\n",
       " 'surprise': tensor([0.3605, 0.3105, 0.3056, 0.3068, 0.3792, 0.3059, 0.3086],\n",
       "        device='cuda:0', grad_fn=<CompiledFunctionBackward>)}"
      ]
     },
     "execution_count": 75,
     "metadata": {},
     "output_type": "execute_result"
    }
   ],
   "source": [
    "simulated_emotion_representation: dict = {\n",
    "    k: emotion_model.forward(v, bot_emotion_representation)\n",
    "    for k, v in possible_response_emotion_composition.items()\n",
    "}\n",
    "simulated_emotion_representation"
   ]
  },
  {
   "cell_type": "markdown",
   "id": "792998ccbf3b5800",
   "metadata": {},
   "source": "### Compute Similarity Score"
  },
  {
   "cell_type": "code",
   "execution_count": 76,
   "id": "8c5181a6187a50f0",
   "metadata": {
    "ExecuteTime": {
     "end_time": "2024-09-17T07:55:24.266957Z",
     "start_time": "2024-09-17T07:55:24.264297Z"
    }
   },
   "outputs": [
    {
     "data": {
      "text/plain": [
       "[0.3942907750606537,\n",
       " 0.3929142951965332,\n",
       " 0.39094415307044983,\n",
       " 0.39175572991371155]"
      ]
     },
     "execution_count": 76,
     "metadata": {},
     "output_type": "execute_result"
    }
   ],
   "source": [
    "similarity_score: list = similarity_analyzer(\n",
    "    list(simulated_emotion_representation.values()), ideal_bot_emotion_representation\n",
    ").tolist()\n",
    "similarity_score"
   ]
  },
  {
   "cell_type": "markdown",
   "id": "e8c5dd17729ed157",
   "metadata": {},
   "source": "### Get Best Response Emotion"
  },
  {
   "cell_type": "code",
   "execution_count": 77,
   "id": "b874daee7e4bec89",
   "metadata": {
    "ExecuteTime": {
     "end_time": "2024-09-17T07:55:24.317114Z",
     "start_time": "2024-09-17T07:55:24.315071Z"
    }
   },
   "outputs": [
    {
     "data": {
      "text/plain": [
       "'neutral'"
      ]
     },
     "execution_count": 77,
     "metadata": {},
     "output_type": "execute_result"
    }
   ],
   "source": [
    "emotions: list = [\n",
    "    \"neutral\",\n",
    "    \"anger\",\n",
    "    \"disgust\",\n",
    "    \"fear\",\n",
    "    \"happiness\",\n",
    "    \"sadness\",\n",
    "    \"surprise\",\n",
    "]\n",
    "best_bot_response_emotion: str = emotions[\n",
    "    max(enumerate(similarity_score), key=itemgetter(1))[0]\n",
    "]\n",
    "best_bot_response_emotion"
   ]
  },
  {
   "cell_type": "code",
   "execution_count": 78,
   "id": "d7c336275ec5988c",
   "metadata": {
    "ExecuteTime": {
     "end_time": "2024-09-17T07:55:24.368613Z",
     "start_time": "2024-09-17T07:55:24.366623Z"
    }
   },
   "outputs": [
    {
     "data": {
      "text/plain": [
       "[{'role': 'system', 'content': {'emotion': '', 'dialog': ''}},\n",
       " {'role': 'user',\n",
       "  'content': {'emotion': 'neutral', 'dialog': 'Hello, how are you?'}},\n",
       " {'role': 'bot', 'content': {'emotion': 'neutral', 'dialog': ''}}]"
      ]
     },
     "execution_count": 78,
     "metadata": {},
     "output_type": "execute_result"
    }
   ],
   "source": [
    "chat_buffer.append(\n",
    "    {\"role\": \"bot\", \"content\": {\"emotion\": best_bot_response_emotion, \"dialog\": \"\"}}\n",
    ")\n",
    "chat_buffer"
   ]
  },
  {
   "cell_type": "markdown",
   "id": "45e440aaabe2be24",
   "metadata": {},
   "source": "### Response"
  },
  {
   "cell_type": "code",
   "execution_count": 79,
   "id": "c14fd79e2ccadace",
   "metadata": {
    "ExecuteTime": {
     "end_time": "2024-09-17T07:55:24.723284Z",
     "start_time": "2024-09-17T07:55:24.415061Z"
    }
   },
   "outputs": [
    {
     "name": "stdout",
     "output_type": "stream",
     "text": [
      "   neutral   Hello, how are you?     neutral    Fine, thank you. \n"
     ]
    },
    {
     "data": {
      "text/plain": [
       "[{'role': 'system', 'content': {'emotion': '', 'dialog': ''}},\n",
       " {'role': 'user',\n",
       "  'content': {'emotion': 'neutral', 'dialog': 'Hello, how are you?'}},\n",
       " {'role': 'bot',\n",
       "  'content': {'emotion': 'neutral', 'dialog': ' Fine, thank you. '}}]"
      ]
     },
     "execution_count": 79,
     "metadata": {},
     "output_type": "execute_result"
    }
   ],
   "source": [
    "chat_buffer = response_generator(chat_buffer, streamer=streamer)[0][\"generated_text\"]\n",
    "chat_buffer"
   ]
  },
  {
   "cell_type": "code",
   "execution_count": 80,
   "id": "36e10f33e0dd37f0",
   "metadata": {
    "ExecuteTime": {
     "end_time": "2024-09-17T07:55:24.739029Z",
     "start_time": "2024-09-17T07:55:24.737163Z"
    }
   },
   "outputs": [
    {
     "data": {
      "text/plain": [
       "[{'role': 'system', 'content': {'emotion': '', 'dialog': ''}},\n",
       " {'role': 'user',\n",
       "  'content': {'emotion': 'neutral', 'dialog': 'Hello, how are you?'}},\n",
       " {'role': 'bot',\n",
       "  'content': {'emotion': 'neutral', 'dialog': ' Fine, thank you. '}}]"
      ]
     },
     "execution_count": 80,
     "metadata": {},
     "output_type": "execute_result"
    }
   ],
   "source": [
    "if len(chat_buffer) > 11:\n",
    "    chat_buffer.pop(1)\n",
    "chat_buffer"
   ]
  },
  {
   "cell_type": "code",
   "execution_count": null,
   "id": "5dd66746b625fef4",
   "metadata": {
    "ExecuteTime": {
     "end_time": "2024-09-17T07:55:24.788394Z",
     "start_time": "2024-09-17T07:55:24.787185Z"
    }
   },
   "outputs": [],
   "source": []
  }
 ],
 "metadata": {
  "kernelspec": {
   "display_name": "Python 3",
   "language": "python",
   "name": "python3"
  },
  "language_info": {
   "codemirror_mode": {
    "name": "ipython",
    "version": 2
   },
   "file_extension": ".py",
   "mimetype": "text/x-python",
   "name": "python",
   "nbconvert_exporter": "python",
   "pygments_lexer": "ipython2",
   "version": "2.7.6"
  }
 },
 "nbformat": 4,
 "nbformat_minor": 5
}
