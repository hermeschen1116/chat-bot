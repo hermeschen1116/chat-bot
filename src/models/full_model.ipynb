{
 "cells": [
  {
   "cell_type": "markdown",
   "id": "8a3ca6205fd0c59f",
   "metadata": {},
   "source": "# Emotion Chat Bot"
  },
  {
   "cell_type": "code",
   "execution_count": 1,
   "id": "1a2aa4f1318f3251",
   "metadata": {
    "ExecuteTime": {
     "end_time": "2024-09-17T06:09:45.792061Z",
     "start_time": "2024-09-17T06:09:43.138541Z"
    }
   },
   "outputs": [
    {
     "name": "stdout",
     "output_type": "stream",
     "text": [
      "🦥 Unsloth: Will patch your computer to enable 2x faster free finetuning.\n"
     ]
    }
   ],
   "source": [
    "from pprint import pprint\n",
    "\n",
    "import torch\n",
    "from libs import (\n",
    "    EmotionModel,\n",
    "    ResponseGeneratorPipeline,\n",
    "    SimilarityAnalyser,\n",
    "    generate_dummy_representation,\n",
    "    get_sentiment_composition,\n",
    ")\n",
    "from sympy.core.random import randint\n",
    "from torch import Tensor\n",
    "from transformers import (\n",
    "    AutoModelForSequenceClassification,\n",
    "    AutoTokenizer,\n",
    "    BitsAndBytesConfig,\n",
    "    TextStreamer,\n",
    "    pipeline,\n",
    ")\n",
    "from unsloth import FastLanguageModel\n",
    "\n",
    "from src.models.rg_evaluate_sft import result"
   ]
  },
  {
   "cell_type": "markdown",
   "id": "7df2ec80ac934263",
   "metadata": {},
   "source": "## Load Each Module"
  },
  {
   "cell_type": "markdown",
   "id": "bbdd58114a803167",
   "metadata": {},
   "source": "### Response Generator"
  },
  {
   "cell_type": "code",
   "execution_count": 2,
   "id": "4c80a1ee1d967a87",
   "metadata": {
    "ExecuteTime": {
     "end_time": "2024-09-17T06:09:53.335129Z",
     "start_time": "2024-09-17T06:09:45.857292Z"
    }
   },
   "outputs": [
    {
     "name": "stdout",
     "output_type": "stream",
     "text": [
      "Unsloth: WARNING `trust_remote_code` is True.\n",
      "Are you certain you want to do remote code execution?\n",
      "==((====))==  Unsloth 2024.9: Fast Llama patching. Transformers = 4.44.2.\n",
      "   \\\\   /|    GPU: NVIDIA GeForce RTX 3060. Max memory: 11.754 GB. Platform = Linux.\n",
      "O^O/ \\_/ \\    Pytorch: 2.4.0+cu121. CUDA = 8.6. CUDA Toolkit = 12.1.\n",
      "\\        /    Bfloat16 = TRUE. FA [Xformers = 0.0.27.post2. FA2 = True]\n",
      " \"-____-\"     Free Apache license: http://github.com/unslothai/unsloth\n"
     ]
    },
    {
     "name": "stderr",
     "output_type": "stream",
     "text": [
      "<string>:209: SyntaxWarning: invalid escape sequence '\\ '\n",
      "<string>:210: SyntaxWarning: invalid escape sequence '\\_'\n",
      "<string>:211: SyntaxWarning: invalid escape sequence '\\ '\n",
      "<string>:209: SyntaxWarning: invalid escape sequence '\\ '\n",
      "<string>:210: SyntaxWarning: invalid escape sequence '\\_'\n",
      "<string>:211: SyntaxWarning: invalid escape sequence '\\ '\n"
     ]
    }
   ],
   "source": [
    "model, tokenizer = FastLanguageModel.from_pretrained(\n",
    "    model_name=\"hermeschen1116/response_generator_for_emotion_chat_bot\",\n",
    "    attn_implementation=\"flash_attention_2\",\n",
    "    pretraining_tp=1,\n",
    "    load_in_4bit=True,\n",
    "    device_map=\"auto\",\n",
    "    low_cpu_mem_usage=True,\n",
    "    trust_remote_code=True,\n",
    ")"
   ]
  },
  {
   "cell_type": "code",
   "execution_count": 3,
   "id": "7d8c87bb53c02a3b",
   "metadata": {
    "ExecuteTime": {
     "end_time": "2024-09-17T06:09:53.399719Z",
     "start_time": "2024-09-17T06:09:53.397499Z"
    }
   },
   "outputs": [],
   "source": [
    "response_generator = ResponseGeneratorPipeline(\n",
    "    model,\n",
    "    tokenizer,\n",
    "    framework=\"pt\",\n",
    "    task=\"conversation-generation\",\n",
    "    num_workers=16,\n",
    "    torch_dtype=\"auto\",\n",
    "    add_special_tokens=True,\n",
    "    truncation=False,\n",
    "    padding=True,\n",
    ")"
   ]
  },
  {
   "cell_type": "code",
   "execution_count": 4,
   "id": "10795eec37f51bae",
   "metadata": {
    "ExecuteTime": {
     "end_time": "2024-09-17T06:09:53.449523Z",
     "start_time": "2024-09-17T06:09:53.445780Z"
    }
   },
   "outputs": [
    {
     "data": {
      "text/plain": [
       "LlamaForCausalLM(\n",
       "  (model): LlamaModel(\n",
       "    (embed_tokens): Embedding(32005, 4096)\n",
       "    (layers): ModuleList(\n",
       "      (0-31): 32 x LlamaDecoderLayer(\n",
       "        (self_attn): LlamaAttention(\n",
       "          (q_proj): Linear4bit(in_features=4096, out_features=4096, bias=False)\n",
       "          (k_proj): Linear4bit(in_features=4096, out_features=4096, bias=False)\n",
       "          (v_proj): Linear4bit(in_features=4096, out_features=4096, bias=False)\n",
       "          (o_proj): Linear4bit(in_features=4096, out_features=4096, bias=False)\n",
       "          (rotary_emb): LlamaRotaryEmbedding()\n",
       "        )\n",
       "        (mlp): LlamaMLP(\n",
       "          (gate_proj): Linear4bit(in_features=4096, out_features=11008, bias=False)\n",
       "          (up_proj): Linear4bit(in_features=4096, out_features=11008, bias=False)\n",
       "          (down_proj): Linear4bit(in_features=11008, out_features=4096, bias=False)\n",
       "          (act_fn): SiLU()\n",
       "        )\n",
       "        (input_layernorm): LlamaRMSNorm((4096,), eps=1e-05)\n",
       "        (post_attention_layernorm): LlamaRMSNorm((4096,), eps=1e-05)\n",
       "      )\n",
       "    )\n",
       "    (norm): LlamaRMSNorm((4096,), eps=1e-05)\n",
       "    (rotary_emb): LlamaRotaryEmbedding()\n",
       "  )\n",
       "  (lm_head): Linear(in_features=4096, out_features=32005, bias=False)\n",
       ")"
      ]
     },
     "execution_count": 4,
     "metadata": {},
     "output_type": "execute_result"
    }
   ],
   "source": [
    "# response_generator.model = torch.compile(response_generator.model, mode=\"max-autotune\")\n",
    "FastLanguageModel.for_inference(response_generator.model)"
   ]
  },
  {
   "cell_type": "code",
   "execution_count": 5,
   "id": "20a71d1723b6e4d6",
   "metadata": {
    "ExecuteTime": {
     "end_time": "2024-09-17T06:09:53.549676Z",
     "start_time": "2024-09-17T06:09:53.547133Z"
    }
   },
   "outputs": [
    {
     "name": "stdout",
     "output_type": "stream",
     "text": [
      "LlamaForCausalLM(\n",
      "  (model): LlamaModel(\n",
      "    (embed_tokens): Embedding(32005, 4096)\n",
      "    (layers): ModuleList(\n",
      "      (0-31): 32 x LlamaDecoderLayer(\n",
      "        (self_attn): LlamaAttention(\n",
      "          (q_proj): Linear4bit(in_features=4096, out_features=4096, bias=False)\n",
      "          (k_proj): Linear4bit(in_features=4096, out_features=4096, bias=False)\n",
      "          (v_proj): Linear4bit(in_features=4096, out_features=4096, bias=False)\n",
      "          (o_proj): Linear4bit(in_features=4096, out_features=4096, bias=False)\n",
      "          (rotary_emb): LlamaRotaryEmbedding()\n",
      "        )\n",
      "        (mlp): LlamaMLP(\n",
      "          (gate_proj): Linear4bit(in_features=4096, out_features=11008, bias=False)\n",
      "          (up_proj): Linear4bit(in_features=4096, out_features=11008, bias=False)\n",
      "          (down_proj): Linear4bit(in_features=11008, out_features=4096, bias=False)\n",
      "          (act_fn): SiLU()\n",
      "        )\n",
      "        (input_layernorm): LlamaRMSNorm((4096,), eps=1e-05)\n",
      "        (post_attention_layernorm): LlamaRMSNorm((4096,), eps=1e-05)\n",
      "      )\n",
      "    )\n",
      "    (norm): LlamaRMSNorm((4096,), eps=1e-05)\n",
      "    (rotary_emb): LlamaRotaryEmbedding()\n",
      "  )\n",
      "  (lm_head): Linear(in_features=4096, out_features=32005, bias=False)\n",
      ")\n"
     ]
    }
   ],
   "source": [
    "print(response_generator.model)"
   ]
  },
  {
   "cell_type": "markdown",
   "id": "5e3a0f6986c4c83f",
   "metadata": {},
   "source": "### Sentiment Analyzer"
  },
  {
   "cell_type": "code",
   "execution_count": 6,
   "id": "6e4e8f191cc8b3ef",
   "metadata": {
    "ExecuteTime": {
     "end_time": "2024-09-17T06:09:54.034682Z",
     "start_time": "2024-09-17T06:09:53.595415Z"
    }
   },
   "outputs": [],
   "source": [
    "sentiment_analysis_model = AutoModelForSequenceClassification.from_pretrained(\n",
    "    \"Shotaro30678/sentiment_analysis_for_emotion_chat_bot\",\n",
    "    quantization_config=BitsAndBytesConfig(\n",
    "        load_in_4bit=True, bnb_4bit_compute_dtype=torch.float16\n",
    "    ),\n",
    "    device_map=\"auto\",\n",
    "    low_cpu_mem_usage=True,\n",
    ")"
   ]
  },
  {
   "cell_type": "code",
   "execution_count": 7,
   "id": "701fbd337943d5ea",
   "metadata": {
    "ExecuteTime": {
     "end_time": "2024-09-17T06:09:54.285850Z",
     "start_time": "2024-09-17T06:09:54.041805Z"
    }
   },
   "outputs": [],
   "source": [
    "sentiment_analysis_tokenizer = AutoTokenizer.from_pretrained(\n",
    "    \"Shotaro30678/sentiment_analysis_for_emotion_chat_bot\",\n",
    "    trust_remote_code=True,\n",
    ")"
   ]
  },
  {
   "cell_type": "code",
   "execution_count": 8,
   "id": "bd6d594d260a8043",
   "metadata": {
    "ExecuteTime": {
     "end_time": "2024-09-17T06:09:54.297460Z",
     "start_time": "2024-09-17T06:09:54.295816Z"
    }
   },
   "outputs": [],
   "source": [
    "sentiment_analyzer = pipeline(\n",
    "    \"sentiment-analysis\",\n",
    "    model=sentiment_analysis_model,\n",
    "    tokenizer=sentiment_analysis_tokenizer,\n",
    "    top_k=7,\n",
    "    torch_dtype=torch.float32,\n",
    "    device_map=\"auto\",\n",
    "    trust_remote_code=True,\n",
    ")"
   ]
  },
  {
   "cell_type": "code",
   "execution_count": 9,
   "id": "9681c0078abce320",
   "metadata": {
    "ExecuteTime": {
     "end_time": "2024-09-17T06:09:54.339227Z",
     "start_time": "2024-09-17T06:09:54.337326Z"
    }
   },
   "outputs": [],
   "source": [
    "sentiment_analyzer.model = torch.compile(sentiment_analyzer.model, mode=\"max-autotune\")"
   ]
  },
  {
   "cell_type": "code",
   "execution_count": 10,
   "id": "5d0c90aa00097046",
   "metadata": {
    "ExecuteTime": {
     "end_time": "2024-09-17T06:09:54.384334Z",
     "start_time": "2024-09-17T06:09:54.382316Z"
    }
   },
   "outputs": [
    {
     "name": "stdout",
     "output_type": "stream",
     "text": [
      "OptimizedModule(\n",
      "  (_orig_mod): RobertaForSequenceClassification(\n",
      "    (roberta): RobertaModel(\n",
      "      (embeddings): RobertaEmbeddings(\n",
      "        (word_embeddings): Embedding(50265, 768, padding_idx=1)\n",
      "        (position_embeddings): Embedding(514, 768, padding_idx=1)\n",
      "        (token_type_embeddings): Embedding(1, 768)\n",
      "        (LayerNorm): LayerNorm((768,), eps=1e-05, elementwise_affine=True)\n",
      "        (dropout): Dropout(p=0.1, inplace=False)\n",
      "      )\n",
      "      (encoder): RobertaEncoder(\n",
      "        (layer): ModuleList(\n",
      "          (0-5): 6 x RobertaLayer(\n",
      "            (attention): RobertaAttention(\n",
      "              (self): RobertaSelfAttention(\n",
      "                (query): Linear4bit(in_features=768, out_features=768, bias=True)\n",
      "                (key): Linear4bit(in_features=768, out_features=768, bias=True)\n",
      "                (value): Linear4bit(in_features=768, out_features=768, bias=True)\n",
      "                (dropout): Dropout(p=0.1, inplace=False)\n",
      "              )\n",
      "              (output): RobertaSelfOutput(\n",
      "                (dense): Linear4bit(in_features=768, out_features=768, bias=True)\n",
      "                (LayerNorm): LayerNorm((768,), eps=1e-05, elementwise_affine=True)\n",
      "                (dropout): Dropout(p=0.1, inplace=False)\n",
      "              )\n",
      "            )\n",
      "            (intermediate): RobertaIntermediate(\n",
      "              (dense): Linear4bit(in_features=768, out_features=3072, bias=True)\n",
      "              (intermediate_act_fn): GELUActivation()\n",
      "            )\n",
      "            (output): RobertaOutput(\n",
      "              (dense): Linear4bit(in_features=3072, out_features=768, bias=True)\n",
      "              (LayerNorm): LayerNorm((768,), eps=1e-05, elementwise_affine=True)\n",
      "              (dropout): Dropout(p=0.1, inplace=False)\n",
      "            )\n",
      "          )\n",
      "        )\n",
      "      )\n",
      "    )\n",
      "    (classifier): RobertaClassificationHead(\n",
      "      (dense): Linear4bit(in_features=768, out_features=768, bias=True)\n",
      "      (dropout): Dropout(p=0.1, inplace=False)\n",
      "      (out_proj): Linear(in_features=768, out_features=7, bias=True)\n",
      "    )\n",
      "  )\n",
      ")\n"
     ]
    }
   ],
   "source": [
    "print(sentiment_analyzer.model)"
   ]
  },
  {
   "cell_type": "markdown",
   "id": "7b7f77a5a4fbf0e2",
   "metadata": {},
   "source": "### Emotion Predictor"
  },
  {
   "cell_type": "code",
   "execution_count": 11,
   "id": "7c675bfb19becf6d",
   "metadata": {
    "ExecuteTime": {
     "end_time": "2024-09-17T06:09:54.945463Z",
     "start_time": "2024-09-17T06:09:54.431485Z"
    }
   },
   "outputs": [],
   "source": [
    "emotion_predictor_model = AutoModelForSequenceClassification.from_pretrained(\n",
    "    \"Shotaro30678/emotion_predictor_for_emotion_chat_bot\",\n",
    "    quantization_config=BitsAndBytesConfig(\n",
    "        load_in_4bit=True, bnb_4bit_compute_dtype=torch.float16\n",
    "    ),\n",
    "    device_map=\"auto\",\n",
    "    low_cpu_mem_usage=True,\n",
    ")"
   ]
  },
  {
   "cell_type": "code",
   "execution_count": 12,
   "id": "b1d5b572b25d2871",
   "metadata": {
    "ExecuteTime": {
     "end_time": "2024-09-17T06:09:55.212249Z",
     "start_time": "2024-09-17T06:09:54.954156Z"
    }
   },
   "outputs": [],
   "source": [
    "emotion_predictor_tokenizer = AutoTokenizer.from_pretrained(\n",
    "    \"Shotaro30678/emotion_predictor_for_emotion_chat_bot\",\n",
    "    trust_remote_code=True,\n",
    ")"
   ]
  },
  {
   "cell_type": "code",
   "execution_count": 13,
   "id": "d3d609d13ac1305c",
   "metadata": {
    "ExecuteTime": {
     "end_time": "2024-09-17T06:09:55.224687Z",
     "start_time": "2024-09-17T06:09:55.223249Z"
    }
   },
   "outputs": [],
   "source": [
    "emotion_predictor = pipeline(\n",
    "    \"sentiment-analysis\",\n",
    "    model=emotion_predictor_model,\n",
    "    tokenizer=emotion_predictor_tokenizer,\n",
    "    top_k=7,\n",
    "    torch_dtype=torch.float32,\n",
    "    device_map=\"auto\",\n",
    "    trust_remote_code=True,\n",
    ")"
   ]
  },
  {
   "cell_type": "code",
   "execution_count": 14,
   "id": "e83e581f580f9487",
   "metadata": {
    "ExecuteTime": {
     "end_time": "2024-09-17T06:09:55.271143Z",
     "start_time": "2024-09-17T06:09:55.269335Z"
    }
   },
   "outputs": [],
   "source": [
    "emotion_predictor.model = torch.compile(emotion_predictor.model, mode=\"max-autotune\")"
   ]
  },
  {
   "cell_type": "code",
   "execution_count": 15,
   "id": "f08b9c106afb713e",
   "metadata": {
    "ExecuteTime": {
     "end_time": "2024-09-17T06:09:55.320482Z",
     "start_time": "2024-09-17T06:09:55.318487Z"
    }
   },
   "outputs": [
    {
     "name": "stdout",
     "output_type": "stream",
     "text": [
      "OptimizedModule(\n",
      "  (_orig_mod): RobertaForSequenceClassification(\n",
      "    (roberta): RobertaModel(\n",
      "      (embeddings): RobertaEmbeddings(\n",
      "        (word_embeddings): Embedding(50265, 768, padding_idx=1)\n",
      "        (position_embeddings): Embedding(514, 768, padding_idx=1)\n",
      "        (token_type_embeddings): Embedding(1, 768)\n",
      "        (LayerNorm): LayerNorm((768,), eps=1e-05, elementwise_affine=True)\n",
      "        (dropout): Dropout(p=0.1, inplace=False)\n",
      "      )\n",
      "      (encoder): RobertaEncoder(\n",
      "        (layer): ModuleList(\n",
      "          (0-5): 6 x RobertaLayer(\n",
      "            (attention): RobertaAttention(\n",
      "              (self): RobertaSelfAttention(\n",
      "                (query): Linear4bit(in_features=768, out_features=768, bias=True)\n",
      "                (key): Linear4bit(in_features=768, out_features=768, bias=True)\n",
      "                (value): Linear4bit(in_features=768, out_features=768, bias=True)\n",
      "                (dropout): Dropout(p=0.1, inplace=False)\n",
      "              )\n",
      "              (output): RobertaSelfOutput(\n",
      "                (dense): Linear4bit(in_features=768, out_features=768, bias=True)\n",
      "                (LayerNorm): LayerNorm((768,), eps=1e-05, elementwise_affine=True)\n",
      "                (dropout): Dropout(p=0.1, inplace=False)\n",
      "              )\n",
      "            )\n",
      "            (intermediate): RobertaIntermediate(\n",
      "              (dense): Linear4bit(in_features=768, out_features=3072, bias=True)\n",
      "              (intermediate_act_fn): GELUActivation()\n",
      "            )\n",
      "            (output): RobertaOutput(\n",
      "              (dense): Linear4bit(in_features=3072, out_features=768, bias=True)\n",
      "              (LayerNorm): LayerNorm((768,), eps=1e-05, elementwise_affine=True)\n",
      "              (dropout): Dropout(p=0.1, inplace=False)\n",
      "            )\n",
      "          )\n",
      "        )\n",
      "      )\n",
      "    )\n",
      "    (classifier): RobertaClassificationHead(\n",
      "      (dense): Linear4bit(in_features=768, out_features=768, bias=True)\n",
      "      (dropout): Dropout(p=0.1, inplace=False)\n",
      "      (out_proj): Linear(in_features=768, out_features=7, bias=True)\n",
      "    )\n",
      "  )\n",
      ")\n"
     ]
    }
   ],
   "source": [
    "print(emotion_predictor.model)"
   ]
  },
  {
   "cell_type": "markdown",
   "id": "dceb3e74297ea1a9",
   "metadata": {},
   "source": "### Emotion Model"
  },
  {
   "cell_type": "code",
   "execution_count": 16,
   "id": "8f257727afd216a9",
   "metadata": {
    "ExecuteTime": {
     "end_time": "2024-09-17T06:09:55.772032Z",
     "start_time": "2024-09-17T06:09:55.368090Z"
    }
   },
   "outputs": [],
   "source": [
    "emotion_model = EmotionModel.from_pretrained(\n",
    "    \"hermeschen1116/emotion_model_for_emotion_chat_bot\"\n",
    ")"
   ]
  },
  {
   "cell_type": "code",
   "execution_count": 17,
   "id": "5420819fd9f588af",
   "metadata": {
    "ExecuteTime": {
     "end_time": "2024-09-17T06:09:55.784523Z",
     "start_time": "2024-09-17T06:09:55.782855Z"
    }
   },
   "outputs": [],
   "source": [
    "emotion_model = torch.compile(emotion_model, mode=\"max-autotune\")"
   ]
  },
  {
   "cell_type": "code",
   "execution_count": 18,
   "id": "4ee3d7ef2f38aeba",
   "metadata": {
    "ExecuteTime": {
     "end_time": "2024-09-17T06:09:55.828794Z",
     "start_time": "2024-09-17T06:09:55.827117Z"
    }
   },
   "outputs": [
    {
     "name": "stdout",
     "output_type": "stream",
     "text": [
      "OptimizedModule(\n",
      "  (_orig_mod): EmotionModel(\n",
      "    (_EmotionModel__weight_Q): Linear(in_features=7, out_features=7, bias=False)\n",
      "    (_EmotionModel__weight_K): Linear(in_features=7, out_features=7, bias=False)\n",
      "    (_EmotionModel__dropout): Dropout(p=0.5, inplace=False)\n",
      "    (_EmotionModel__weight_D): Linear(in_features=7, out_features=7, bias=True)\n",
      "  )\n",
      ")\n"
     ]
    }
   ],
   "source": [
    "print(emotion_model)"
   ]
  },
  {
   "cell_type": "markdown",
   "id": "3614cf1c44cfd954",
   "metadata": {},
   "source": "### Similarity Analyzer"
  },
  {
   "cell_type": "code",
   "execution_count": 19,
   "id": "d46904b2cf2ec820",
   "metadata": {
    "ExecuteTime": {
     "end_time": "2024-09-17T06:09:55.876957Z",
     "start_time": "2024-09-17T06:09:55.875441Z"
    }
   },
   "outputs": [],
   "source": [
    "threshold: float = 0.5"
   ]
  },
  {
   "cell_type": "code",
   "execution_count": 20,
   "id": "35923cab42231bf",
   "metadata": {
    "ExecuteTime": {
     "end_time": "2024-09-17T06:09:55.926719Z",
     "start_time": "2024-09-17T06:09:55.925065Z"
    }
   },
   "outputs": [],
   "source": [
    "similarity_analyzer = SimilarityAnalyser(threshold)"
   ]
  },
  {
   "cell_type": "markdown",
   "id": "7812a7b3f8d2bb9b",
   "metadata": {},
   "source": "## Combine All Modules"
  },
  {
   "cell_type": "markdown",
   "id": "6246f25cb03ad24b",
   "metadata": {},
   "source": "### Initialize Text Streamer"
  },
  {
   "cell_type": "code",
   "execution_count": 34,
   "id": "1733c33e90049dff",
   "metadata": {
    "ExecuteTime": {
     "end_time": "2024-09-17T06:12:54.677872Z",
     "start_time": "2024-09-17T06:12:54.676094Z"
    }
   },
   "outputs": [],
   "source": [
    "streamer = TextStreamer(\n",
    "    tokenizer, skip_special_tokens=True, clean_up_tokenization_spaces=True\n",
    ")"
   ]
  },
  {
   "cell_type": "code",
   "execution_count": 71,
   "id": "322fc7f3cf905a65",
   "metadata": {
    "ExecuteTime": {
     "end_time": "2024-09-17T06:31:53.116858Z",
     "start_time": "2024-09-17T06:31:50.455956Z"
    }
   },
   "outputs": [],
   "source": [
    "system_prompt: str = input(\"Enter your system prompt: \").strip()"
   ]
  },
  {
   "cell_type": "code",
   "execution_count": 82,
   "id": "8da454aae4c41c25",
   "metadata": {
    "ExecuteTime": {
     "end_time": "2024-09-17T06:35:18.961094Z",
     "start_time": "2024-09-17T06:35:18.958772Z"
    }
   },
   "outputs": [],
   "source": [
    "chat_buffer: list = [\n",
    "    {\n",
    "        \"role\": \"system\",\n",
    "        \"content\": {\"emotion\": \"\", \"dialog\": system_prompt},\n",
    "    }\n",
    "]"
   ]
  },
  {
   "cell_type": "markdown",
   "id": "59b87cd2a34315d1",
   "metadata": {},
   "source": "### Initialize Bot's Emotion Representation"
  },
  {
   "cell_type": "code",
   "execution_count": 83,
   "id": "a7fd1965488ecd1a",
   "metadata": {
    "ExecuteTime": {
     "end_time": "2024-09-17T06:35:19.523746Z",
     "start_time": "2024-09-17T06:35:19.521165Z"
    }
   },
   "outputs": [
    {
     "data": {
      "text/plain": [
       "tensor([0.6998, 0.3871, 0.0518, 0.8533, 0.6769, 0.6137, 0.5486])"
      ]
     },
     "execution_count": 83,
     "metadata": {},
     "output_type": "execute_result"
    }
   ],
   "source": [
    "bot_emotion_representation: Tensor = generate_dummy_representation(randint(0, 6))\n",
    "bot_emotion_representation"
   ]
  },
  {
   "cell_type": "code",
   "execution_count": 84,
   "id": "eb8d565d56c3d641",
   "metadata": {
    "ExecuteTime": {
     "end_time": "2024-09-17T06:35:19.948460Z",
     "start_time": "2024-09-17T06:35:19.946752Z"
    }
   },
   "outputs": [],
   "source": [
    "def get_top_emotion(input_text_emotion: list) -> str:\n",
    "    label2score: dict = {\n",
    "        emotion[\"label\"]: emotion[\"score\"] for emotion in input_text_emotion[0]\n",
    "    }\n",
    "    return max(label2score, key=label2score.get)"
   ]
  },
  {
   "cell_type": "code",
   "execution_count": 85,
   "id": "59f481da8f2af2ad",
   "metadata": {
    "ExecuteTime": {
     "end_time": "2024-09-17T06:35:30.693127Z",
     "start_time": "2024-09-17T06:35:20.613457Z"
    }
   },
   "outputs": [
    {
     "data": {
      "text/plain": [
       "[{'role': 'system', 'content': {'emotion': '', 'dialog': ''}},\n",
       " {'role': 'user',\n",
       "  'content': {'emotion': 'neutral', 'dialog': 'Hello, how are you?'}}]"
      ]
     },
     "execution_count": 85,
     "metadata": {},
     "output_type": "execute_result"
    }
   ],
   "source": [
    "input_text: str = input(\"Talk to bot...\").strip()\n",
    "input_text_emotion: list = sentiment_analyzer(chat_buffer[-1][\"content\"][\"dialog\"])\n",
    "chat_buffer.append(\n",
    "    {\n",
    "        \"role\": \"user\",\n",
    "        \"content\": {\n",
    "            \"emotion\": get_top_emotion(input_text_emotion),\n",
    "            \"dialog\": input_text,\n",
    "        },\n",
    "    }\n",
    ")\n",
    "chat_buffer"
   ]
  },
  {
   "cell_type": "code",
   "execution_count": 86,
   "id": "4beb79e83f295be9",
   "metadata": {
    "ExecuteTime": {
     "end_time": "2024-09-17T06:35:45.175308Z",
     "start_time": "2024-09-17T06:35:45.172663Z"
    }
   },
   "outputs": [
    {
     "data": {
      "text/plain": [
       "tensor([0.3073, 0.1151, 0.1151, 0.1151, 0.1168, 0.1153, 0.1152])"
      ]
     },
     "execution_count": 86,
     "metadata": {},
     "output_type": "execute_result"
    }
   ],
   "source": [
    "input_text_emotion_composition: Tensor = get_sentiment_composition(input_text_emotion)\n",
    "input_text_emotion_composition"
   ]
  },
  {
   "cell_type": "markdown",
   "id": "614d1ccda8b3518a",
   "metadata": {},
   "source": "### Update Current Bot's Emotion Representation"
  },
  {
   "cell_type": "code",
   "execution_count": 87,
   "id": "24dc817b84a77cdb",
   "metadata": {
    "ExecuteTime": {
     "end_time": "2024-09-17T06:35:46.946789Z",
     "start_time": "2024-09-17T06:35:46.938210Z"
    }
   },
   "outputs": [
    {
     "data": {
      "text/plain": [
       "tensor([0.4908, 0.2974, 0.2981, 0.2969, 0.2986, 0.2971, 0.2979],\n",
       "       device='cuda:0', grad_fn=<CompiledFunctionBackward>)"
      ]
     },
     "execution_count": 87,
     "metadata": {},
     "output_type": "execute_result"
    }
   ],
   "source": [
    "bot_emotion_representation = emotion_model.forward(\n",
    "    input_text_emotion_composition, bot_emotion_representation\n",
    ")\n",
    "bot_emotion_representation"
   ]
  },
  {
   "cell_type": "markdown",
   "id": "7ab25273bbf80b65",
   "metadata": {},
   "source": "### Generate All Possible Responses In 7 Different Emotions"
  },
  {
   "cell_type": "code",
   "execution_count": 90,
   "id": "524c57a7f522444f",
   "metadata": {
    "ExecuteTime": {
     "end_time": "2024-09-17T06:36:28.064085Z",
     "start_time": "2024-09-17T06:36:28.062070Z"
    }
   },
   "outputs": [],
   "source": [
    "def create_candidates_buffer(chat_buffer: list) -> list:\n",
    "    emotions: list = [\n",
    "        \"neutral\",\n",
    "        \"anger\",\n",
    "        \"disgust\",\n",
    "        \"fear\",\n",
    "        \"happiness\",\n",
    "        \"sadness\",\n",
    "        \"surprise\",\n",
    "    ]\n",
    "\n",
    "    candidates_buffer: list = [\n",
    "        chat_buffer\n",
    "        + [\n",
    "            {\n",
    "                \"role\": \"bot\",\n",
    "                \"content\": {\"emotion\": emotion, \"dialog\": \"\"},\n",
    "            }\n",
    "        ]\n",
    "        for emotion in emotions\n",
    "    ]\n",
    "\n",
    "    return candidates_buffer"
   ]
  },
  {
   "cell_type": "code",
   "execution_count": 91,
   "id": "ff4d752b3e6be9f6",
   "metadata": {
    "ExecuteTime": {
     "end_time": "2024-09-17T06:36:28.846474Z",
     "start_time": "2024-09-17T06:36:28.843945Z"
    }
   },
   "outputs": [
    {
     "data": {
      "text/plain": [
       "[[{'role': 'system', 'content': {'emotion': '', 'dialog': ''}},\n",
       "  {'role': 'user',\n",
       "   'content': {'emotion': 'neutral', 'dialog': 'Hello, how are you?'}},\n",
       "  {'role': 'bot', 'content': {'emotion': 'neutral', 'dialog': ''}}],\n",
       " [{'role': 'system', 'content': {'emotion': '', 'dialog': ''}},\n",
       "  {'role': 'user',\n",
       "   'content': {'emotion': 'neutral', 'dialog': 'Hello, how are you?'}},\n",
       "  {'role': 'bot', 'content': {'emotion': 'anger', 'dialog': ''}}],\n",
       " [{'role': 'system', 'content': {'emotion': '', 'dialog': ''}},\n",
       "  {'role': 'user',\n",
       "   'content': {'emotion': 'neutral', 'dialog': 'Hello, how are you?'}},\n",
       "  {'role': 'bot', 'content': {'emotion': 'disgust', 'dialog': ''}}],\n",
       " [{'role': 'system', 'content': {'emotion': '', 'dialog': ''}},\n",
       "  {'role': 'user',\n",
       "   'content': {'emotion': 'neutral', 'dialog': 'Hello, how are you?'}},\n",
       "  {'role': 'bot', 'content': {'emotion': 'fear', 'dialog': ''}}],\n",
       " [{'role': 'system', 'content': {'emotion': '', 'dialog': ''}},\n",
       "  {'role': 'user',\n",
       "   'content': {'emotion': 'neutral', 'dialog': 'Hello, how are you?'}},\n",
       "  {'role': 'bot', 'content': {'emotion': 'happiness', 'dialog': ''}}],\n",
       " [{'role': 'system', 'content': {'emotion': '', 'dialog': ''}},\n",
       "  {'role': 'user',\n",
       "   'content': {'emotion': 'neutral', 'dialog': 'Hello, how are you?'}},\n",
       "  {'role': 'bot', 'content': {'emotion': 'sadness', 'dialog': ''}}],\n",
       " [{'role': 'system', 'content': {'emotion': '', 'dialog': ''}},\n",
       "  {'role': 'user',\n",
       "   'content': {'emotion': 'neutral', 'dialog': 'Hello, how are you?'}},\n",
       "  {'role': 'bot', 'content': {'emotion': 'surprise', 'dialog': ''}}]]"
      ]
     },
     "execution_count": 91,
     "metadata": {},
     "output_type": "execute_result"
    }
   ],
   "source": [
    "candidates_buffer: list = create_candidates_buffer(chat_buffer)\n",
    "candidates_buffer"
   ]
  },
  {
   "cell_type": "code",
   "execution_count": 106,
   "id": "177d0dc31017d0a1",
   "metadata": {
    "ExecuteTime": {
     "end_time": "2024-09-17T06:42:50.379302Z",
     "start_time": "2024-09-17T06:42:48.015961Z"
    }
   },
   "outputs": [
    {
     "name": "stdout",
     "output_type": "stream",
     "text": [
      "   neutral   Hello, how are you?     neutral    Fine, thank you. \n",
      "   neutral   Hello, how are you?     anger   \n",
      "   neutral   Hello, how are you?     disgust   \n",
      "   neutral   Hello, how are you?     fear    Hi! I'm terribly nervous. \n",
      "   neutral   Hello, how are you?     happiness     Fine, thank you. \n",
      "   neutral   Hello, how are you?     sadness   \n",
      "   neutral   Hello, how are you?     surprise    hello! I haven't seen you for ages! \n",
      "\n",
      "[[{'content': {'dialog': '', 'emotion': ''}, 'role': 'system'},\n",
      "  {'content': {'dialog': 'Hello, how are you?', 'emotion': 'neutral'},\n",
      "   'role': 'user'},\n",
      "  {'content': {'dialog': ' Fine, thank you. ', 'emotion': 'neutral'},\n",
      "   'role': 'bot'}],\n",
      " [{'content': {'dialog': '', 'emotion': ''}, 'role': 'system'},\n",
      "  {'content': {'dialog': 'Hello, how are you?', 'emotion': 'neutral'},\n",
      "   'role': 'user'},\n",
      "  {'content': {'dialog': \" Hi! I'm terribly nervous. \", 'emotion': 'fear'},\n",
      "   'role': 'bot'}],\n",
      " [{'content': {'dialog': '', 'emotion': ''}, 'role': 'system'},\n",
      "  {'content': {'dialog': 'Hello, how are you?', 'emotion': 'neutral'},\n",
      "   'role': 'user'},\n",
      "  {'content': {'dialog': '  Fine, thank you. ', 'emotion': 'happiness'},\n",
      "   'role': 'bot'}],\n",
      " [{'content': {'dialog': '', 'emotion': ''}, 'role': 'system'},\n",
      "  {'content': {'dialog': 'Hello, how are you?', 'emotion': 'neutral'},\n",
      "   'role': 'user'},\n",
      "  {'content': {'dialog': \" hello! I haven't seen you for ages! \",\n",
      "               'emotion': 'surprise'},\n",
      "   'role': 'bot'}]]\n"
     ]
    }
   ],
   "source": [
    "generated_candidates: list = [\n",
    "    result[0][\"generated_text\"]\n",
    "    for result in response_generator(candidates_buffer, streamer=streamer)\n",
    "    if result[0][\"generated_text\"][-1][\"content\"][\"dialog\"] != \"\"\n",
    "]\n",
    "print()\n",
    "pprint(generated_candidates)"
   ]
  },
  {
   "cell_type": "markdown",
   "id": "edd1623271d26e3b",
   "metadata": {},
   "source": "### Simulate Bot's Possible Emotion Representation"
  },
  {
   "cell_type": "code",
   "execution_count": null,
   "id": "f02b5b958b97edf6",
   "metadata": {},
   "outputs": [],
   "source": [
    "# def get_possible_response_emotion_representation(candidates_buffer: list) -> list:\n",
    "# \tfor"
   ]
  },
  {
   "cell_type": "code",
   "execution_count": null,
   "id": "adf9424c0ca6751f",
   "metadata": {},
   "outputs": [],
   "source": [
    "# possible_response_emotion_representation: dict ="
   ]
  },
  {
   "cell_type": "code",
   "execution_count": null,
   "id": "b8f0c947ddacbd18",
   "metadata": {
    "ExecuteTime": {
     "end_time": "2024-09-17T06:37:57.678980Z",
     "start_time": "2024-09-17T06:37:57.677781Z"
    }
   },
   "outputs": [],
   "source": []
  },
  {
   "cell_type": "code",
   "execution_count": null,
   "id": "36e10f33e0dd37f0",
   "metadata": {},
   "outputs": [],
   "source": []
  }
 ],
 "metadata": {
  "kernelspec": {
   "display_name": "Python 3",
   "language": "python",
   "name": "python3"
  },
  "language_info": {
   "codemirror_mode": {
    "name": "ipython",
    "version": 2
   },
   "file_extension": ".py",
   "mimetype": "text/x-python",
   "name": "python",
   "nbconvert_exporter": "python",
   "pygments_lexer": "ipython2",
   "version": "2.7.6"
  }
 },
 "nbformat": 4,
 "nbformat_minor": 5
}
