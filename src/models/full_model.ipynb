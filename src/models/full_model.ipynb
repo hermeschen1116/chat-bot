{
 "cells": [
  {
   "cell_type": "markdown",
   "id": "8a3ca6205fd0c59f",
   "metadata": {},
   "source": "# Emotion Chat Bot"
  },
  {
   "cell_type": "code",
   "id": "1a2aa4f1318f3251",
   "metadata": {
    "ExecuteTime": {
     "end_time": "2024-09-20T08:39:25.274276Z",
     "start_time": "2024-09-20T08:39:22.646695Z"
    }
   },
   "source": [
    "import os.path\n",
    "import uuid\n",
    "from random import randint\n",
    "\n",
    "import torch\n",
    "from torch import Tensor\n",
    "from transformers import (\n",
    "\tAutoModelForSequenceClassification,\n",
    "\tAutoTokenizer,\n",
    "\tBitsAndBytesConfig,\n",
    "\tGenerationConfig,\n",
    "\tTextClassificationPipeline,\n",
    "\tTextStreamer,\n",
    ")\n",
    "from unsloth import FastLanguageModel\n",
    "\n",
    "from src.models.libs.EmotionChatBot import create_candidates_buffer\n",
    "from src.models.libs.EmotionTransition import EmotionModel, EmotionPresentationSimilarityAnalyser, \\\n",
    "\tgenerate_dummy_representation, get_emotion_composition\n",
    "from src.models.libs.ResponseGenerationPipeline import ResponseGeneratorPipeline"
   ],
   "outputs": [
    {
     "name": "stdout",
     "output_type": "stream",
     "text": [
      "🦥 Unsloth: Will patch your computer to enable 2x faster free finetuning.\n"
     ]
    }
   ],
   "execution_count": 1
  },
  {
   "cell_type": "markdown",
   "id": "7df2ec80ac934263",
   "metadata": {},
   "source": "## Load Each Module"
  },
  {
   "cell_type": "markdown",
   "id": "bbdd58114a803167",
   "metadata": {},
   "source": "### Response Generator"
  },
  {
   "cell_type": "code",
   "execution_count": null,
   "id": "4c80a1ee1d967a87",
   "metadata": {},
   "outputs": [],
   "source": [
    "model, tokenizer = FastLanguageModel.from_pretrained(\n",
    "\tmodel_name=\"hermeschen1116/response_generator_for_emotion_chat_bot\",\n",
    "\tattn_implementation=\"flash_attention_2\",\n",
    "\tpretraining_tp=1,\n",
    "\tload_in_4bit=True,\n",
    "\tdevice_map=\"auto\",\n",
    "\tlow_cpu_mem_usage=True,\n",
    "\ttrust_remote_code=True,\n",
    ")\n",
    "tokenizer.padding_side = \"left\"\n",
    "tokenizer.clean_up_tokenization_spaces = True"
   ]
  },
  {
   "cell_type": "code",
   "execution_count": null,
   "id": "7d8c87bb53c02a3b",
   "metadata": {},
   "outputs": [],
   "source": [
    "response_generator = ResponseGeneratorPipeline(\n",
    "\tmodel,\n",
    "\ttokenizer,\n",
    "\tframework=\"pt\",\n",
    "\ttask=\"conversation-generation\",\n",
    "\tnum_workers=16,\n",
    "\ttorch_dtype=\"auto\",\n",
    "\tadd_special_tokens=True,\n",
    "\ttruncation=False,\n",
    "\tpadding=True,\n",
    ")"
   ]
  },
  {
   "cell_type": "code",
   "execution_count": null,
   "id": "10795eec37f51bae",
   "metadata": {},
   "outputs": [],
   "source": [
    "FastLanguageModel.for_inference(response_generator.model)"
   ]
  },
  {
   "cell_type": "markdown",
   "id": "5e3a0f6986c4c83f",
   "metadata": {},
   "source": "### Sentiment Analyzer"
  },
  {
   "cell_type": "code",
   "execution_count": 3,
   "id": "6e4e8f191cc8b3ef",
   "metadata": {
    "ExecuteTime": {
     "end_time": "2024-09-20T08:26:13.285954634Z",
     "start_time": "2024-09-20T06:16:18.978182Z"
    }
   },
   "outputs": [],
   "source": [
    "sentiment_analysis_model = AutoModelForSequenceClassification.from_pretrained(\n",
    "\t\"Shotaro30678/sentiment_analysis_for_emotion_chat_bot\",\n",
    "\tquantization_config=BitsAndBytesConfig(load_in_4bit=True, bnb_4bit_compute_dtype=torch.float16),\n",
    "\tdevice_map=\"auto\",\n",
    "\tlow_cpu_mem_usage=True,\n",
    ")"
   ]
  },
  {
   "cell_type": "code",
   "execution_count": 4,
   "id": "701fbd337943d5ea",
   "metadata": {
    "ExecuteTime": {
     "end_time": "2024-09-20T08:26:13.286186938Z",
     "start_time": "2024-09-20T06:16:19.556829Z"
    }
   },
   "outputs": [],
   "source": [
    "sentiment_analysis_tokenizer = AutoTokenizer.from_pretrained(\n",
    "\t\"Shotaro30678/sentiment_analysis_for_emotion_chat_bot\",\n",
    "\ttrust_remote_code=True,\n",
    ")"
   ]
  },
  {
   "cell_type": "code",
   "execution_count": 5,
   "id": "454659a48ca56370",
   "metadata": {
    "ExecuteTime": {
     "end_time": "2024-09-20T08:26:13.286673860Z",
     "start_time": "2024-09-20T06:16:19.818924Z"
    }
   },
   "outputs": [],
   "source": [
    "sentiment_analyzer = TextClassificationPipeline(\n",
    "\tmodel=sentiment_analysis_model,\n",
    "\ttokenizer=sentiment_analysis_tokenizer,\n",
    "\tframework=\"pt\",\n",
    "\ttask=\"sentiment-analysis\",\n",
    "\tnum_workers=12,\n",
    "\ttorch_dtype=\"auto\",\n",
    ")"
   ]
  },
  {
   "cell_type": "code",
   "execution_count": 17,
   "id": "859ada9159e52f35",
   "metadata": {
    "ExecuteTime": {
     "end_time": "2024-09-20T08:26:13.286855016Z",
     "start_time": "2024-09-20T06:31:41.202991Z"
    }
   },
   "outputs": [
    {
     "data": {
      "text/plain": [
       "[{'label': 'neutral', 'score': 0.690626323223114},\n",
       " {'label': 'anger', 'score': 0.00045183763722889125},\n",
       " {'label': 'disgust', 'score': 0.00014441600069403648},\n",
       " {'label': 'fear', 'score': 0.00017488074081484228},\n",
       " {'label': 'happiness', 'score': 0.3064635992050171},\n",
       " {'label': 'sadness', 'score': 0.0008070625481195748},\n",
       " {'label': 'surprise', 'score': 0.0013319212011992931}]"
      ]
     },
     "execution_count": 17,
     "metadata": {},
     "output_type": "execute_result"
    }
   ],
   "source": [
    "sentiment_analyzer(\"Hello, how are you?\", return_all_scores=True)[0]"
   ]
  },
  {
   "cell_type": "code",
   "execution_count": 28,
   "id": "5f1b35de4fbc9f2",
   "metadata": {
    "ExecuteTime": {
     "end_time": "2024-09-20T08:26:13.287053618Z",
     "start_time": "2024-09-20T06:34:17.796325Z"
    }
   },
   "outputs": [
    {
     "data": {
      "text/plain": [
       "[{'label': 'neutral', 'score': 0.052009064704179764},\n",
       " {'label': 'anger', 'score': 0.01242279727011919},\n",
       " {'label': 'disgust', 'score': 0.0010472259018570185},\n",
       " {'label': 'fear', 'score': 0.0029227114282548428},\n",
       " {'label': 'happiness', 'score': 0.9245875477790833},\n",
       " {'label': 'sadness', 'score': 0.0017131471540778875},\n",
       " {'label': 'surprise', 'score': 0.005297517869621515}]"
      ]
     },
     "execution_count": 28,
     "metadata": {},
     "output_type": "execute_result"
    }
   ],
   "source": [
    "a = sentiment_analyzer(\"Goodbye!\", return_all_scores=True, function_to_apply=\"softmax\")[0]\n",
    "a"
   ]
  },
  {
   "cell_type": "code",
   "execution_count": 29,
   "id": "3e50c24fe250b837",
   "metadata": {
    "ExecuteTime": {
     "end_time": "2024-09-20T08:26:13.287210053Z",
     "start_time": "2024-09-20T06:34:18.820067Z"
    }
   },
   "outputs": [
    {
     "data": {
      "text/plain": [
       "1.0000000121071935"
      ]
     },
     "execution_count": 29,
     "metadata": {},
     "output_type": "execute_result"
    }
   ],
   "source": [
    "sum([i[\"score\"] for i in a])"
   ]
  },
  {
   "cell_type": "code",
   "execution_count": 50,
   "id": "5e9eb8725669dd83",
   "metadata": {
    "ExecuteTime": {
     "end_time": "2024-09-20T08:26:13.287343656Z",
     "start_time": "2024-09-20T06:47:53.410310Z"
    }
   },
   "outputs": [
    {
     "data": {
      "text/plain": [
       "tensor([0.1225, 0.1178, 0.1164, 0.1167, 0.2932, 0.1165, 0.1169])"
      ]
     },
     "execution_count": 50,
     "metadata": {},
     "output_type": "execute_result"
    }
   ],
   "source": [
    "b = torch.tensor([i[\"score\"] for i in a]).softmax(dim=-1)\n",
    "b"
   ]
  },
  {
   "cell_type": "code",
   "execution_count": 51,
   "id": "28eec8b3abe777c",
   "metadata": {
    "ExecuteTime": {
     "end_time": "2024-09-20T08:26:13.287459761Z",
     "start_time": "2024-09-20T06:47:58.850741Z"
    }
   },
   "outputs": [
    {
     "data": {
      "text/plain": [
       "tensor(4)"
      ]
     },
     "execution_count": 51,
     "metadata": {},
     "output_type": "execute_result"
    }
   ],
   "source": [
    "b.argmax()"
   ]
  },
  {
   "cell_type": "code",
   "execution_count": 32,
   "id": "66833ba0f71bf89b",
   "metadata": {
    "ExecuteTime": {
     "end_time": "2024-09-20T08:26:13.287592352Z",
     "start_time": "2024-09-20T06:35:20.675634Z"
    }
   },
   "outputs": [
    {
     "data": {
      "text/plain": [
       "tensor(1.)"
      ]
     },
     "execution_count": 32,
     "metadata": {},
     "output_type": "execute_result"
    }
   ],
   "source": [
    "sum(torch.tensor([i[\"score\"] for i in a]).softmax(dim=0))"
   ]
  },
  {
   "cell_type": "code",
   "execution_count": 49,
   "id": "56540ac546b8e0e1",
   "metadata": {
    "ExecuteTime": {
     "end_time": "2024-09-20T08:26:13.288096362Z",
     "start_time": "2024-09-20T06:40:20.104365Z"
    }
   },
   "outputs": [
    {
     "data": {
      "text/plain": [
       "tensor([[0.2914, 0.4428, 0.3310, 0.8346, 0.0598, 0.7446, 0.0218]])"
      ]
     },
     "execution_count": 49,
     "metadata": {},
     "output_type": "execute_result"
    }
   ],
   "source": [
    "torch.clamp(torch.rand((1, 7), dtype=torch.float32), -1, 1)"
   ]
  },
  {
   "cell_type": "markdown",
   "id": "7b7f77a5a4fbf0e2",
   "metadata": {},
   "source": "### Emotion Predictor"
  },
  {
   "cell_type": "code",
   "execution_count": 37,
   "id": "7c675bfb19becf6d",
   "metadata": {
    "ExecuteTime": {
     "end_time": "2024-09-20T08:26:13.288259205Z",
     "start_time": "2024-09-20T06:39:45.959762Z"
    }
   },
   "outputs": [],
   "source": [
    "emotion_predictor_model = AutoModelForSequenceClassification.from_pretrained(\n",
    "\t\"Shotaro30678/emotion_predictor_for_emotion_chat_bot\",\n",
    "\tquantization_config=BitsAndBytesConfig(load_in_4bit=True, bnb_4bit_compute_dtype=torch.float16),\n",
    "\tdevice_map=\"auto\",\n",
    "\tlow_cpu_mem_usage=True,\n",
    ")"
   ]
  },
  {
   "cell_type": "code",
   "execution_count": null,
   "id": "b1d5b572b25d2871",
   "metadata": {},
   "outputs": [],
   "source": [
    "emotion_predictor_tokenizer = AutoTokenizer.from_pretrained(\n",
    "\t\"Shotaro30678/emotion_predictor_for_emotion_chat_bot\",\n",
    "\ttrust_remote_code=True,\n",
    ")"
   ]
  },
  {
   "cell_type": "code",
   "execution_count": null,
   "id": "d3d609d13ac1305c",
   "metadata": {},
   "outputs": [],
   "source": [
    "emotion_predictor = TextClassificationPipeline(\n",
    "\tmodel=emotion_predictor_model,\n",
    "\ttokenizer=emotion_predictor_tokenizer,\n",
    "\tframework=\"pt\",\n",
    "\ttask=\"sentiment-analysis\",\n",
    "\tnum_workers=12,\n",
    "\ttorch_dtype=\"auto\",\n",
    ")"
   ]
  },
  {
   "cell_type": "code",
   "execution_count": null,
   "id": "2284dc28b784f150",
   "metadata": {},
   "outputs": [],
   "source": [
    "emotion_predictor(\"Hello, how are you?\", return_all_scores=False)"
   ]
  },
  {
   "cell_type": "markdown",
   "id": "dceb3e74297ea1a9",
   "metadata": {},
   "source": "### Emotion Model"
  },
  {
   "cell_type": "code",
   "execution_count": null,
   "id": "8f257727afd216a9",
   "metadata": {},
   "outputs": [],
   "source": "emotion_model = EmotionModel.from_pretrained(\"hermeschen1116/emotion_model_for_emotion_chat_bot\")"
  },
  {
   "cell_type": "markdown",
   "id": "3614cf1c44cfd954",
   "metadata": {},
   "source": "### Similarity Analyzer"
  },
  {
   "cell_type": "code",
   "execution_count": null,
   "id": "d46904b2cf2ec820",
   "metadata": {},
   "outputs": [],
   "source": [
    "threshold: float = 0.7"
   ]
  },
  {
   "cell_type": "code",
   "execution_count": null,
   "id": "35923cab42231bf",
   "metadata": {},
   "outputs": [],
   "source": "similarity_analyzer = EmotionPresentationSimilarityAnalyser(None, threshold=threshold)"
  },
  {
   "cell_type": "markdown",
   "id": "7812a7b3f8d2bb9b",
   "metadata": {},
   "source": "## Combine All Modules"
  },
  {
   "cell_type": "code",
   "execution_count": null,
   "id": "e6d48c0c4bcd7c0a",
   "metadata": {},
   "outputs": [],
   "source": [
    "emotions: list = [\n",
    "\t\"neutral\",\n",
    "\t\"anger\",\n",
    "\t\"disgust\",\n",
    "\t\"fear\",\n",
    "\t\"happiness\",\n",
    "\t\"sadness\",\n",
    "\t\"surprise\",\n",
    "]"
   ]
  },
  {
   "cell_type": "markdown",
   "id": "6246f25cb03ad24b",
   "metadata": {},
   "source": "### Initialize"
  },
  {
   "cell_type": "code",
   "execution_count": null,
   "id": "a5bba438f3869366",
   "metadata": {},
   "outputs": [],
   "source": [
    "chat_buffer_size: int = 10"
   ]
  },
  {
   "cell_type": "code",
   "execution_count": null,
   "id": "bbd8163729f358f7",
   "metadata": {},
   "outputs": [],
   "source": [
    "logfile_uuid: uuid.UUID = uuid.uuid4()\n",
    "if not os.path.isdir(\"./logs\"):\n",
    "\tos.mkdir(\"./logs\")"
   ]
  },
  {
   "cell_type": "code",
   "execution_count": null,
   "id": "bf5aaf39bbdaf0cd",
   "metadata": {},
   "outputs": [],
   "source": [
    "generation_config = GenerationConfig(\n",
    "\tmax_new_tokens=20,\n",
    "\tmin_new_tokens=5,\n",
    "\trepetition_penalty=1.5,\n",
    "\tpad_token_id=tokenizer.pad_token_id,\n",
    "\teos_token_id=tokenizer.eos_token_id,\n",
    "\tuse_cache=True,\n",
    ")"
   ]
  },
  {
   "cell_type": "code",
   "execution_count": null,
   "id": "1733c33e90049dff",
   "metadata": {},
   "outputs": [],
   "source": [
    "streamer = TextStreamer(tokenizer, skip_special_tokens=True, clean_up_tokenization_spaces=True)"
   ]
  },
  {
   "cell_type": "code",
   "execution_count": null,
   "id": "8e3e92093c478ec",
   "metadata": {},
   "outputs": [],
   "source": [
    "bot_ideal_emotion_representation: Tensor = generate_dummy_representation(randint(0, 6))\n",
    "similarity_analyzer.ideal_emotion_representation = bot_ideal_emotion_representation\n",
    "dict(zip(emotions, bot_ideal_emotion_representation.tolist()))"
   ]
  },
  {
   "cell_type": "code",
   "execution_count": null,
   "id": "a7fd1965488ecd1a",
   "metadata": {},
   "outputs": [],
   "source": [
    "bot_emotion_id: int = randint(0, 6)\n",
    "bot_emotion_representation: Tensor = generate_dummy_representation(bot_emotion_id)\n",
    "bot_emotion_representation"
   ]
  },
  {
   "cell_type": "code",
   "execution_count": null,
   "id": "322fc7f3cf905a65",
   "metadata": {},
   "outputs": [],
   "source": [
    "system_prompt: str = input(\"Enter your system prompt: \").strip()\n",
    "bot_response: dict = {\"emotion\": emotions[bot_emotion_id], \"dialog\": \"(Talk to me...)\"}"
   ]
  },
  {
   "cell_type": "code",
   "execution_count": null,
   "id": "8da454aae4c41c25",
   "metadata": {},
   "outputs": [],
   "source": [
    "chat_buffer: list = [{\"role\": \"system\", \"content\": {\"emotion\": \"\", \"dialog\": system_prompt}}]"
   ]
  },
  {
   "cell_type": "code",
   "execution_count": null,
   "id": "38d2e521a8d16664",
   "metadata": {},
   "outputs": [],
   "source": [
    "chat_buffer"
   ]
  },
  {
   "cell_type": "code",
   "execution_count": null,
   "id": "b5f10bbc9baa3309",
   "metadata": {},
   "outputs": [],
   "source": [
    "while True:\n",
    "\tuser_response: str = input(f\"Bot({bot_response[\"emotion\"]}): {bot_response[\"dialog\"]}\").strip()\n",
    "\tif user_response == \"quit\":\n",
    "\t\tbreak\n",
    "\n",
    "\tsentiment_analysis_result: list = sentiment_analyzer(user_response, return_all_scores=True)\n",
    "\tuser_emotion_composition: Tensor = get_emotion_composition(sentiment_analysis_result[0])\n",
    "\tuser_emotion: str = emotions[user_emotion_composition.argmax()]\n",
    "\tchat_buffer.append(\n",
    "\t\t{\n",
    "\t\t\t\"role\": \"user\",\n",
    "\t\t\t\"content\": {\n",
    "\t\t\t\t\"emotion\": user_emotion,\n",
    "\t\t\t\t\"dialog\": user_response,\n",
    "\t\t\t},\n",
    "\t\t}\n",
    "\t)\n",
    "\n",
    "\tbot_emotion_representation = emotion_model.forward(user_emotion_composition, bot_emotion_representation)\n",
    "\n",
    "\tbot_chat_simulations: list = []\n",
    "\twhile True:\n",
    "\t\tbot_chat_simulations = create_candidates_buffer(chat_buffer)\n",
    "\t\tbot_chat_simulations = [\n",
    "\t\t\tchat[0]\n",
    "\t\t\tfor chat in response_generator(bot_chat_simulations, generation_config=generation_config, streamer=streamer)\n",
    "\t\t]\n",
    "\t\tbot_chat_simulations = list(filter(lambda chat: chat[-1][\"content\"][\"dialog\"] != \"\", bot_chat_simulations))\n",
    "\t\tbot_chat_simulations = list(\n",
    "\t\t\tfilter(lambda chat: chat[-1][\"content\"][\"dialog\"].endswith((\".\", \"!\", \"?\")), bot_chat_simulations)\n",
    "\t\t)\n",
    "\t\tif len(bot_chat_simulations) != 0:\n",
    "\t\t\tbreak\n",
    "\n",
    "\tbot_response_simulations: list = [chat[-1][\"content\"] for chat in bot_chat_simulations]\n",
    "\n",
    "\tuser_future_emotion_composition_simulations: dict = {\n",
    "\t\tresponse[\"emotion\"]: get_emotion_composition(emotion_predictor(response[\"dialog\"], return_all_scores=True)[0])\n",
    "\t\tfor response in bot_response_simulations\n",
    "\t}\n",
    "\n",
    "\tbot_future_emotion_representations: dict = {\n",
    "\t\tk: emotion_model.forward(v, bot_emotion_representation)\n",
    "\t\tfor k, v in user_future_emotion_composition_simulations.items()\n",
    "\t}\n",
    "\n",
    "\temotion_representation_similarity_scores: list = similarity_analyzer(\n",
    "\t\ttorch.stack(list(bot_future_emotion_representations.values())),\n",
    "\t)\n",
    "\n",
    "\tcandidate_emotion_index: int = torch.argmax(emotion_representation_similarity_scores).item()\n",
    "\tbot_best_response_emotion: str = emotions[candidate_emotion_index]\n",
    "\n",
    "\tif len(chat_buffer) == chat_buffer_size + 1:\n",
    "\t\tchat_buffer.pop(1)\n",
    "\tchat_buffer.append({\"role\": \"bot\", \"content\": {\"emotion\": bot_best_response_emotion, \"dialog\": \"\"}})\n",
    "\n",
    "\tchat_buffer = response_generator(chat_buffer, generation_config=generation_config, streamer=streamer)[0]\n",
    "\tprint()\n",
    "\tif chat_buffer[-1][\"content\"][\"dialog\"] == \"\":\n",
    "\t\tchat_buffer[-1][\"content\"][\"dialog\"] = bot_response_simulations[candidate_emotion_index][\"dialog\"]\n",
    "\tbot_response = chat_buffer[-1][\"content\"]"
   ]
  },
  {
   "cell_type": "code",
   "execution_count": null,
   "id": "5dd66746b625fef4",
   "metadata": {},
   "outputs": [],
   "source": []
  }
 ],
 "metadata": {
  "kernelspec": {
   "display_name": "Python 3",
   "language": "python",
   "name": "python3"
  },
  "language_info": {
   "codemirror_mode": {
    "name": "ipython",
    "version": 2
   },
   "file_extension": ".py",
   "mimetype": "text/x-python",
   "name": "python",
   "nbconvert_exporter": "python",
   "pygments_lexer": "ipython2",
   "version": "2.7.6"
  }
 },
 "nbformat": 4,
 "nbformat_minor": 5
}
