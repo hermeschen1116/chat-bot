{
 "cells": [
  {
   "metadata": {},
   "cell_type": "markdown",
   "source": "# Emotion Chat Bot",
   "id": "8a3ca6205fd0c59f"
  },
  {
   "metadata": {
    "ExecuteTime": {
     "end_time": "2024-09-17T06:09:45.792061Z",
     "start_time": "2024-09-17T06:09:43.138541Z"
    }
   },
   "cell_type": "code",
   "source": [
    "import torch\n",
    "from sympy.core.random import randint\n",
    "from torch import Tensor\n",
    "\n",
    "from libs import EmotionModel, ResponseGeneratorPipeline, SimilarityAnalyser, get_sentiment_composition, \\\n",
    "\tgenerate_dummy_representation\n",
    "from transformers import (\n",
    "\tAutoModelForSequenceClassification,\n",
    "\tAutoTokenizer,\n",
    "\tBitsAndBytesConfig,\n",
    "\tpipeline, TextStreamer,\n",
    ")\n",
    "from unsloth import FastLanguageModel\n",
    "from pprint import pprint\n",
    "\n",
    "from src.models.rg_evaluate_sft import result"
   ],
   "id": "1a2aa4f1318f3251",
   "outputs": [
    {
     "name": "stdout",
     "output_type": "stream",
     "text": [
      "🦥 Unsloth: Will patch your computer to enable 2x faster free finetuning.\n"
     ]
    }
   ],
   "execution_count": 1
  },
  {
   "metadata": {},
   "cell_type": "markdown",
   "source": "## Load Each Module",
   "id": "7df2ec80ac934263"
  },
  {
   "metadata": {},
   "cell_type": "markdown",
   "source": "### Response Generator",
   "id": "bbdd58114a803167"
  },
  {
   "metadata": {
    "ExecuteTime": {
     "end_time": "2024-09-17T06:09:53.335129Z",
     "start_time": "2024-09-17T06:09:45.857292Z"
    }
   },
   "cell_type": "code",
   "source": [
    "model, tokenizer = FastLanguageModel.from_pretrained(\n",
    "\tmodel_name=\"hermeschen1116/response_generator_for_emotion_chat_bot\",\n",
    "\tattn_implementation=\"flash_attention_2\",\n",
    "\tpretraining_tp=1,\n",
    "\tload_in_4bit=True,\n",
    "\tdevice_map=\"auto\",\n",
    "\tlow_cpu_mem_usage=True,\n",
    "\ttrust_remote_code=True,\n",
    ")"
   ],
   "id": "4c80a1ee1d967a87",
   "outputs": [
    {
     "name": "stdout",
     "output_type": "stream",
     "text": [
      "Unsloth: WARNING `trust_remote_code` is True.\n",
      "Are you certain you want to do remote code execution?\n",
      "==((====))==  Unsloth 2024.9: Fast Llama patching. Transformers = 4.44.2.\n",
      "   \\\\   /|    GPU: NVIDIA GeForce RTX 3060. Max memory: 11.754 GB. Platform = Linux.\n",
      "O^O/ \\_/ \\    Pytorch: 2.4.0+cu121. CUDA = 8.6. CUDA Toolkit = 12.1.\n",
      "\\        /    Bfloat16 = TRUE. FA [Xformers = 0.0.27.post2. FA2 = True]\n",
      " \"-____-\"     Free Apache license: http://github.com/unslothai/unsloth\n"
     ]
    },
    {
     "name": "stderr",
     "output_type": "stream",
     "text": [
      "<string>:209: SyntaxWarning: invalid escape sequence '\\ '\n",
      "<string>:210: SyntaxWarning: invalid escape sequence '\\_'\n",
      "<string>:211: SyntaxWarning: invalid escape sequence '\\ '\n",
      "<string>:209: SyntaxWarning: invalid escape sequence '\\ '\n",
      "<string>:210: SyntaxWarning: invalid escape sequence '\\_'\n",
      "<string>:211: SyntaxWarning: invalid escape sequence '\\ '\n"
     ]
    }
   ],
   "execution_count": 2
  },
  {
   "metadata": {
    "ExecuteTime": {
     "end_time": "2024-09-17T06:09:53.399719Z",
     "start_time": "2024-09-17T06:09:53.397499Z"
    }
   },
   "cell_type": "code",
   "source": [
    "response_generator = ResponseGeneratorPipeline(\n",
    "\tmodel,\n",
    "\ttokenizer,\n",
    "\tframework=\"pt\",\n",
    "\ttask=\"conversation-generation\",\n",
    "\tnum_workers=16,\n",
    "\ttorch_dtype=\"auto\",\n",
    "\tadd_special_tokens=True,\n",
    "\ttruncation=False,\n",
    "\tpadding=True,\n",
    ")"
   ],
   "id": "7d8c87bb53c02a3b",
   "outputs": [],
   "execution_count": 3
  },
  {
   "metadata": {
    "ExecuteTime": {
     "end_time": "2024-09-17T06:09:53.449523Z",
     "start_time": "2024-09-17T06:09:53.445780Z"
    }
   },
   "cell_type": "code",
   "source": [
    "# response_generator.model = torch.compile(response_generator.model, mode=\"max-autotune\")\n",
    "FastLanguageModel.for_inference(response_generator.model)"
   ],
   "id": "10795eec37f51bae",
   "outputs": [
    {
     "data": {
      "text/plain": [
       "LlamaForCausalLM(\n",
       "  (model): LlamaModel(\n",
       "    (embed_tokens): Embedding(32005, 4096)\n",
       "    (layers): ModuleList(\n",
       "      (0-31): 32 x LlamaDecoderLayer(\n",
       "        (self_attn): LlamaAttention(\n",
       "          (q_proj): Linear4bit(in_features=4096, out_features=4096, bias=False)\n",
       "          (k_proj): Linear4bit(in_features=4096, out_features=4096, bias=False)\n",
       "          (v_proj): Linear4bit(in_features=4096, out_features=4096, bias=False)\n",
       "          (o_proj): Linear4bit(in_features=4096, out_features=4096, bias=False)\n",
       "          (rotary_emb): LlamaRotaryEmbedding()\n",
       "        )\n",
       "        (mlp): LlamaMLP(\n",
       "          (gate_proj): Linear4bit(in_features=4096, out_features=11008, bias=False)\n",
       "          (up_proj): Linear4bit(in_features=4096, out_features=11008, bias=False)\n",
       "          (down_proj): Linear4bit(in_features=11008, out_features=4096, bias=False)\n",
       "          (act_fn): SiLU()\n",
       "        )\n",
       "        (input_layernorm): LlamaRMSNorm((4096,), eps=1e-05)\n",
       "        (post_attention_layernorm): LlamaRMSNorm((4096,), eps=1e-05)\n",
       "      )\n",
       "    )\n",
       "    (norm): LlamaRMSNorm((4096,), eps=1e-05)\n",
       "    (rotary_emb): LlamaRotaryEmbedding()\n",
       "  )\n",
       "  (lm_head): Linear(in_features=4096, out_features=32005, bias=False)\n",
       ")"
      ]
     },
     "execution_count": 4,
     "metadata": {},
     "output_type": "execute_result"
    }
   ],
   "execution_count": 4
  },
  {
   "metadata": {
    "ExecuteTime": {
     "end_time": "2024-09-17T06:09:53.549676Z",
     "start_time": "2024-09-17T06:09:53.547133Z"
    }
   },
   "cell_type": "code",
   "source": "print(response_generator.model)",
   "id": "20a71d1723b6e4d6",
   "outputs": [
    {
     "name": "stdout",
     "output_type": "stream",
     "text": [
      "LlamaForCausalLM(\n",
      "  (model): LlamaModel(\n",
      "    (embed_tokens): Embedding(32005, 4096)\n",
      "    (layers): ModuleList(\n",
      "      (0-31): 32 x LlamaDecoderLayer(\n",
      "        (self_attn): LlamaAttention(\n",
      "          (q_proj): Linear4bit(in_features=4096, out_features=4096, bias=False)\n",
      "          (k_proj): Linear4bit(in_features=4096, out_features=4096, bias=False)\n",
      "          (v_proj): Linear4bit(in_features=4096, out_features=4096, bias=False)\n",
      "          (o_proj): Linear4bit(in_features=4096, out_features=4096, bias=False)\n",
      "          (rotary_emb): LlamaRotaryEmbedding()\n",
      "        )\n",
      "        (mlp): LlamaMLP(\n",
      "          (gate_proj): Linear4bit(in_features=4096, out_features=11008, bias=False)\n",
      "          (up_proj): Linear4bit(in_features=4096, out_features=11008, bias=False)\n",
      "          (down_proj): Linear4bit(in_features=11008, out_features=4096, bias=False)\n",
      "          (act_fn): SiLU()\n",
      "        )\n",
      "        (input_layernorm): LlamaRMSNorm((4096,), eps=1e-05)\n",
      "        (post_attention_layernorm): LlamaRMSNorm((4096,), eps=1e-05)\n",
      "      )\n",
      "    )\n",
      "    (norm): LlamaRMSNorm((4096,), eps=1e-05)\n",
      "    (rotary_emb): LlamaRotaryEmbedding()\n",
      "  )\n",
      "  (lm_head): Linear(in_features=4096, out_features=32005, bias=False)\n",
      ")\n"
     ]
    }
   ],
   "execution_count": 5
  },
  {
   "metadata": {},
   "cell_type": "markdown",
   "source": "### Sentiment Analyzer",
   "id": "5e3a0f6986c4c83f"
  },
  {
   "metadata": {
    "ExecuteTime": {
     "end_time": "2024-09-17T06:09:54.034682Z",
     "start_time": "2024-09-17T06:09:53.595415Z"
    }
   },
   "cell_type": "code",
   "source": [
    "sentiment_analysis_model = AutoModelForSequenceClassification.from_pretrained(\n",
    "\t\"Shotaro30678/sentiment_analysis_for_emotion_chat_bot\",\n",
    "\tquantization_config=BitsAndBytesConfig(\n",
    "\t\tload_in_4bit=True, bnb_4bit_compute_dtype=torch.float16\n",
    "\t),\n",
    "\tdevice_map=\"auto\",\n",
    "\tlow_cpu_mem_usage=True,\n",
    ")"
   ],
   "id": "6e4e8f191cc8b3ef",
   "outputs": [],
   "execution_count": 6
  },
  {
   "metadata": {
    "ExecuteTime": {
     "end_time": "2024-09-17T06:09:54.285850Z",
     "start_time": "2024-09-17T06:09:54.041805Z"
    }
   },
   "cell_type": "code",
   "source": [
    "sentiment_analysis_tokenizer = AutoTokenizer.from_pretrained(\n",
    "\t\"Shotaro30678/sentiment_analysis_for_emotion_chat_bot\",\n",
    "\ttrust_remote_code=True,\n",
    ")"
   ],
   "id": "701fbd337943d5ea",
   "outputs": [],
   "execution_count": 7
  },
  {
   "metadata": {
    "ExecuteTime": {
     "end_time": "2024-09-17T06:09:54.297460Z",
     "start_time": "2024-09-17T06:09:54.295816Z"
    }
   },
   "cell_type": "code",
   "source": [
    "sentiment_analyzer = pipeline(\n",
    "\t\"sentiment-analysis\",\n",
    "\tmodel=sentiment_analysis_model,\n",
    "\ttokenizer=sentiment_analysis_tokenizer,\n",
    "\ttop_k=7,\n",
    "\ttorch_dtype=torch.float32,\n",
    "\tdevice_map=\"auto\",\n",
    "\ttrust_remote_code=True,\n",
    ")"
   ],
   "id": "bd6d594d260a8043",
   "outputs": [],
   "execution_count": 8
  },
  {
   "metadata": {
    "ExecuteTime": {
     "end_time": "2024-09-17T06:09:54.339227Z",
     "start_time": "2024-09-17T06:09:54.337326Z"
    }
   },
   "cell_type": "code",
   "source": "sentiment_analyzer.model = torch.compile(sentiment_analyzer.model, mode=\"max-autotune\")",
   "id": "9681c0078abce320",
   "outputs": [],
   "execution_count": 9
  },
  {
   "metadata": {
    "ExecuteTime": {
     "end_time": "2024-09-17T06:09:54.384334Z",
     "start_time": "2024-09-17T06:09:54.382316Z"
    }
   },
   "cell_type": "code",
   "source": "print(sentiment_analyzer.model)",
   "id": "5d0c90aa00097046",
   "outputs": [
    {
     "name": "stdout",
     "output_type": "stream",
     "text": [
      "OptimizedModule(\n",
      "  (_orig_mod): RobertaForSequenceClassification(\n",
      "    (roberta): RobertaModel(\n",
      "      (embeddings): RobertaEmbeddings(\n",
      "        (word_embeddings): Embedding(50265, 768, padding_idx=1)\n",
      "        (position_embeddings): Embedding(514, 768, padding_idx=1)\n",
      "        (token_type_embeddings): Embedding(1, 768)\n",
      "        (LayerNorm): LayerNorm((768,), eps=1e-05, elementwise_affine=True)\n",
      "        (dropout): Dropout(p=0.1, inplace=False)\n",
      "      )\n",
      "      (encoder): RobertaEncoder(\n",
      "        (layer): ModuleList(\n",
      "          (0-5): 6 x RobertaLayer(\n",
      "            (attention): RobertaAttention(\n",
      "              (self): RobertaSelfAttention(\n",
      "                (query): Linear4bit(in_features=768, out_features=768, bias=True)\n",
      "                (key): Linear4bit(in_features=768, out_features=768, bias=True)\n",
      "                (value): Linear4bit(in_features=768, out_features=768, bias=True)\n",
      "                (dropout): Dropout(p=0.1, inplace=False)\n",
      "              )\n",
      "              (output): RobertaSelfOutput(\n",
      "                (dense): Linear4bit(in_features=768, out_features=768, bias=True)\n",
      "                (LayerNorm): LayerNorm((768,), eps=1e-05, elementwise_affine=True)\n",
      "                (dropout): Dropout(p=0.1, inplace=False)\n",
      "              )\n",
      "            )\n",
      "            (intermediate): RobertaIntermediate(\n",
      "              (dense): Linear4bit(in_features=768, out_features=3072, bias=True)\n",
      "              (intermediate_act_fn): GELUActivation()\n",
      "            )\n",
      "            (output): RobertaOutput(\n",
      "              (dense): Linear4bit(in_features=3072, out_features=768, bias=True)\n",
      "              (LayerNorm): LayerNorm((768,), eps=1e-05, elementwise_affine=True)\n",
      "              (dropout): Dropout(p=0.1, inplace=False)\n",
      "            )\n",
      "          )\n",
      "        )\n",
      "      )\n",
      "    )\n",
      "    (classifier): RobertaClassificationHead(\n",
      "      (dense): Linear4bit(in_features=768, out_features=768, bias=True)\n",
      "      (dropout): Dropout(p=0.1, inplace=False)\n",
      "      (out_proj): Linear(in_features=768, out_features=7, bias=True)\n",
      "    )\n",
      "  )\n",
      ")\n"
     ]
    }
   ],
   "execution_count": 10
  },
  {
   "metadata": {},
   "cell_type": "markdown",
   "source": "### Emotion Predictor",
   "id": "7b7f77a5a4fbf0e2"
  },
  {
   "metadata": {
    "ExecuteTime": {
     "end_time": "2024-09-17T06:09:54.945463Z",
     "start_time": "2024-09-17T06:09:54.431485Z"
    }
   },
   "cell_type": "code",
   "source": [
    "emotion_predictor_model = AutoModelForSequenceClassification.from_pretrained(\n",
    "\t\"Shotaro30678/emotion_predictor_for_emotion_chat_bot\",\n",
    "\tquantization_config=BitsAndBytesConfig(\n",
    "\t\tload_in_4bit=True, bnb_4bit_compute_dtype=torch.float16\n",
    "\t),\n",
    "\tdevice_map=\"auto\",\n",
    "\tlow_cpu_mem_usage=True,\n",
    ")"
   ],
   "id": "7c675bfb19becf6d",
   "outputs": [],
   "execution_count": 11
  },
  {
   "metadata": {
    "ExecuteTime": {
     "end_time": "2024-09-17T06:09:55.212249Z",
     "start_time": "2024-09-17T06:09:54.954156Z"
    }
   },
   "cell_type": "code",
   "source": [
    "emotion_predictor_tokenizer = AutoTokenizer.from_pretrained(\n",
    "\t\"Shotaro30678/emotion_predictor_for_emotion_chat_bot\",\n",
    "\ttrust_remote_code=True,\n",
    ")"
   ],
   "id": "b1d5b572b25d2871",
   "outputs": [],
   "execution_count": 12
  },
  {
   "metadata": {
    "ExecuteTime": {
     "end_time": "2024-09-17T06:09:55.224687Z",
     "start_time": "2024-09-17T06:09:55.223249Z"
    }
   },
   "cell_type": "code",
   "source": [
    "emotion_predictor = pipeline(\n",
    "\t\"sentiment-analysis\",\n",
    "\tmodel=emotion_predictor_model,\n",
    "\ttokenizer=emotion_predictor_tokenizer,\n",
    "\ttop_k=7,\n",
    "\ttorch_dtype=torch.float32,\n",
    "\tdevice_map=\"auto\",\n",
    "\ttrust_remote_code=True,\n",
    ")"
   ],
   "id": "d3d609d13ac1305c",
   "outputs": [],
   "execution_count": 13
  },
  {
   "metadata": {
    "ExecuteTime": {
     "end_time": "2024-09-17T06:09:55.271143Z",
     "start_time": "2024-09-17T06:09:55.269335Z"
    }
   },
   "cell_type": "code",
   "source": "emotion_predictor.model = torch.compile(emotion_predictor.model, mode=\"max-autotune\")",
   "id": "e83e581f580f9487",
   "outputs": [],
   "execution_count": 14
  },
  {
   "metadata": {
    "ExecuteTime": {
     "end_time": "2024-09-17T06:09:55.320482Z",
     "start_time": "2024-09-17T06:09:55.318487Z"
    }
   },
   "cell_type": "code",
   "source": "print(emotion_predictor.model)",
   "id": "f08b9c106afb713e",
   "outputs": [
    {
     "name": "stdout",
     "output_type": "stream",
     "text": [
      "OptimizedModule(\n",
      "  (_orig_mod): RobertaForSequenceClassification(\n",
      "    (roberta): RobertaModel(\n",
      "      (embeddings): RobertaEmbeddings(\n",
      "        (word_embeddings): Embedding(50265, 768, padding_idx=1)\n",
      "        (position_embeddings): Embedding(514, 768, padding_idx=1)\n",
      "        (token_type_embeddings): Embedding(1, 768)\n",
      "        (LayerNorm): LayerNorm((768,), eps=1e-05, elementwise_affine=True)\n",
      "        (dropout): Dropout(p=0.1, inplace=False)\n",
      "      )\n",
      "      (encoder): RobertaEncoder(\n",
      "        (layer): ModuleList(\n",
      "          (0-5): 6 x RobertaLayer(\n",
      "            (attention): RobertaAttention(\n",
      "              (self): RobertaSelfAttention(\n",
      "                (query): Linear4bit(in_features=768, out_features=768, bias=True)\n",
      "                (key): Linear4bit(in_features=768, out_features=768, bias=True)\n",
      "                (value): Linear4bit(in_features=768, out_features=768, bias=True)\n",
      "                (dropout): Dropout(p=0.1, inplace=False)\n",
      "              )\n",
      "              (output): RobertaSelfOutput(\n",
      "                (dense): Linear4bit(in_features=768, out_features=768, bias=True)\n",
      "                (LayerNorm): LayerNorm((768,), eps=1e-05, elementwise_affine=True)\n",
      "                (dropout): Dropout(p=0.1, inplace=False)\n",
      "              )\n",
      "            )\n",
      "            (intermediate): RobertaIntermediate(\n",
      "              (dense): Linear4bit(in_features=768, out_features=3072, bias=True)\n",
      "              (intermediate_act_fn): GELUActivation()\n",
      "            )\n",
      "            (output): RobertaOutput(\n",
      "              (dense): Linear4bit(in_features=3072, out_features=768, bias=True)\n",
      "              (LayerNorm): LayerNorm((768,), eps=1e-05, elementwise_affine=True)\n",
      "              (dropout): Dropout(p=0.1, inplace=False)\n",
      "            )\n",
      "          )\n",
      "        )\n",
      "      )\n",
      "    )\n",
      "    (classifier): RobertaClassificationHead(\n",
      "      (dense): Linear4bit(in_features=768, out_features=768, bias=True)\n",
      "      (dropout): Dropout(p=0.1, inplace=False)\n",
      "      (out_proj): Linear(in_features=768, out_features=7, bias=True)\n",
      "    )\n",
      "  )\n",
      ")\n"
     ]
    }
   ],
   "execution_count": 15
  },
  {
   "metadata": {},
   "cell_type": "markdown",
   "source": "### Emotion Model",
   "id": "dceb3e74297ea1a9"
  },
  {
   "metadata": {
    "ExecuteTime": {
     "end_time": "2024-09-17T06:09:55.772032Z",
     "start_time": "2024-09-17T06:09:55.368090Z"
    }
   },
   "cell_type": "code",
   "source": [
    "emotion_model = EmotionModel.from_pretrained(\n",
    "\t\"hermeschen1116/emotion_model_for_emotion_chat_bot\"\n",
    ")"
   ],
   "id": "8f257727afd216a9",
   "outputs": [],
   "execution_count": 16
  },
  {
   "metadata": {
    "ExecuteTime": {
     "end_time": "2024-09-17T06:09:55.784523Z",
     "start_time": "2024-09-17T06:09:55.782855Z"
    }
   },
   "cell_type": "code",
   "source": "emotion_model = torch.compile(emotion_model, mode=\"max-autotune\")",
   "id": "5420819fd9f588af",
   "outputs": [],
   "execution_count": 17
  },
  {
   "metadata": {
    "ExecuteTime": {
     "end_time": "2024-09-17T06:09:55.828794Z",
     "start_time": "2024-09-17T06:09:55.827117Z"
    }
   },
   "cell_type": "code",
   "source": "print(emotion_model)",
   "id": "4ee3d7ef2f38aeba",
   "outputs": [
    {
     "name": "stdout",
     "output_type": "stream",
     "text": [
      "OptimizedModule(\n",
      "  (_orig_mod): EmotionModel(\n",
      "    (_EmotionModel__weight_Q): Linear(in_features=7, out_features=7, bias=False)\n",
      "    (_EmotionModel__weight_K): Linear(in_features=7, out_features=7, bias=False)\n",
      "    (_EmotionModel__dropout): Dropout(p=0.5, inplace=False)\n",
      "    (_EmotionModel__weight_D): Linear(in_features=7, out_features=7, bias=True)\n",
      "  )\n",
      ")\n"
     ]
    }
   ],
   "execution_count": 18
  },
  {
   "metadata": {},
   "cell_type": "markdown",
   "source": "### Similarity Analyzer",
   "id": "3614cf1c44cfd954"
  },
  {
   "metadata": {
    "ExecuteTime": {
     "end_time": "2024-09-17T06:09:55.876957Z",
     "start_time": "2024-09-17T06:09:55.875441Z"
    }
   },
   "cell_type": "code",
   "source": "threshold: float = 0.5",
   "id": "d46904b2cf2ec820",
   "outputs": [],
   "execution_count": 19
  },
  {
   "metadata": {
    "ExecuteTime": {
     "end_time": "2024-09-17T06:09:55.926719Z",
     "start_time": "2024-09-17T06:09:55.925065Z"
    }
   },
   "cell_type": "code",
   "source": "similarity_analyzer = SimilarityAnalyser(threshold)",
   "id": "35923cab42231bf",
   "outputs": [],
   "execution_count": 20
  },
  {
   "metadata": {},
   "cell_type": "markdown",
   "source": "## Combine All Modules",
   "id": "7812a7b3f8d2bb9b"
  },
  {
   "metadata": {},
   "cell_type": "markdown",
   "source": "### Initialize Text Streamer",
   "id": "6246f25cb03ad24b"
  },
  {
   "metadata": {
    "ExecuteTime": {
     "end_time": "2024-09-17T06:12:54.677872Z",
     "start_time": "2024-09-17T06:12:54.676094Z"
    }
   },
   "cell_type": "code",
   "source": [
    "streamer = TextStreamer(\n",
    "\ttokenizer, skip_special_tokens=True, clean_up_tokenization_spaces=True\n",
    ")"
   ],
   "id": "1733c33e90049dff",
   "outputs": [],
   "execution_count": 34
  },
  {
   "metadata": {
    "ExecuteTime": {
     "end_time": "2024-09-17T06:31:53.116858Z",
     "start_time": "2024-09-17T06:31:50.455956Z"
    }
   },
   "cell_type": "code",
   "source": "system_prompt: str = input(\"Enter your system prompt: \").strip()",
   "id": "322fc7f3cf905a65",
   "outputs": [],
   "execution_count": 71
  },
  {
   "metadata": {
    "ExecuteTime": {
     "end_time": "2024-09-17T06:35:18.961094Z",
     "start_time": "2024-09-17T06:35:18.958772Z"
    }
   },
   "cell_type": "code",
   "source": [
    "chat_buffer: list = [\n",
    "\t{\n",
    "\t\t\"role\": \"system\",\n",
    "\t\t\"content\": {\"emotion\": \"\", \"dialog\": system_prompt},\n",
    "\t}\n",
    "]"
   ],
   "id": "8da454aae4c41c25",
   "outputs": [],
   "execution_count": 82
  },
  {
   "metadata": {},
   "cell_type": "markdown",
   "source": "### Initialize Bot's Emotion Representation",
   "id": "59b87cd2a34315d1"
  },
  {
   "metadata": {
    "ExecuteTime": {
     "end_time": "2024-09-17T06:35:19.523746Z",
     "start_time": "2024-09-17T06:35:19.521165Z"
    }
   },
   "cell_type": "code",
   "source": [
    "bot_emotion_representation: Tensor = generate_dummy_representation(randint(0, 6))\n",
    "bot_emotion_representation"
   ],
   "id": "a7fd1965488ecd1a",
   "outputs": [
    {
     "data": {
      "text/plain": [
       "tensor([0.6998, 0.3871, 0.0518, 0.8533, 0.6769, 0.6137, 0.5486])"
      ]
     },
     "execution_count": 83,
     "metadata": {},
     "output_type": "execute_result"
    }
   ],
   "execution_count": 83
  },
  {
   "metadata": {
    "ExecuteTime": {
     "end_time": "2024-09-17T06:35:19.948460Z",
     "start_time": "2024-09-17T06:35:19.946752Z"
    }
   },
   "cell_type": "code",
   "source": [
    "def get_top_emotion(input_text_emotion: list) -> str:\n",
    "\tlabel2score: dict = {emotion[\"label\"]: emotion[\"score\"] for emotion in input_text_emotion[0]}\n",
    "\treturn max(label2score, key=label2score.get)"
   ],
   "id": "eb8d565d56c3d641",
   "outputs": [],
   "execution_count": 84
  },
  {
   "metadata": {
    "ExecuteTime": {
     "end_time": "2024-09-17T06:35:30.693127Z",
     "start_time": "2024-09-17T06:35:20.613457Z"
    }
   },
   "cell_type": "code",
   "source": [
    "input_text: str = input(\"Talk to bot...\").strip()\n",
    "input_text_emotion: list = sentiment_analyzer(chat_buffer[-1][\"content\"][\"dialog\"])\n",
    "chat_buffer.append({\n",
    "\t\"role\": \"user\",\n",
    "\t\"content\": {\"emotion\": get_top_emotion(input_text_emotion), \"dialog\": input_text},\n",
    "})\n",
    "chat_buffer"
   ],
   "id": "59f481da8f2af2ad",
   "outputs": [
    {
     "data": {
      "text/plain": [
       "[{'role': 'system', 'content': {'emotion': '', 'dialog': ''}},\n",
       " {'role': 'user',\n",
       "  'content': {'emotion': 'neutral', 'dialog': 'Hello, how are you?'}}]"
      ]
     },
     "execution_count": 85,
     "metadata": {},
     "output_type": "execute_result"
    }
   ],
   "execution_count": 85
  },
  {
   "metadata": {
    "ExecuteTime": {
     "end_time": "2024-09-17T06:35:45.175308Z",
     "start_time": "2024-09-17T06:35:45.172663Z"
    }
   },
   "cell_type": "code",
   "source": [
    "input_text_emotion_composition: Tensor = get_sentiment_composition(input_text_emotion)\n",
    "input_text_emotion_composition"
   ],
   "id": "4beb79e83f295be9",
   "outputs": [
    {
     "data": {
      "text/plain": [
       "tensor([0.3073, 0.1151, 0.1151, 0.1151, 0.1168, 0.1153, 0.1152])"
      ]
     },
     "execution_count": 86,
     "metadata": {},
     "output_type": "execute_result"
    }
   ],
   "execution_count": 86
  },
  {
   "metadata": {},
   "cell_type": "markdown",
   "source": "### Update Current Bot's Emotion Representation",
   "id": "614d1ccda8b3518a"
  },
  {
   "metadata": {
    "ExecuteTime": {
     "end_time": "2024-09-17T06:35:46.946789Z",
     "start_time": "2024-09-17T06:35:46.938210Z"
    }
   },
   "cell_type": "code",
   "source": [
    "bot_emotion_representation = emotion_model.forward(input_text_emotion_composition, bot_emotion_representation)\n",
    "bot_emotion_representation"
   ],
   "id": "24dc817b84a77cdb",
   "outputs": [
    {
     "data": {
      "text/plain": [
       "tensor([0.4908, 0.2974, 0.2981, 0.2969, 0.2986, 0.2971, 0.2979],\n",
       "       device='cuda:0', grad_fn=<CompiledFunctionBackward>)"
      ]
     },
     "execution_count": 87,
     "metadata": {},
     "output_type": "execute_result"
    }
   ],
   "execution_count": 87
  },
  {
   "metadata": {},
   "cell_type": "markdown",
   "source": "### Generate All Possible Responses In 7 Different Emotions",
   "id": "7ab25273bbf80b65"
  },
  {
   "metadata": {
    "ExecuteTime": {
     "end_time": "2024-09-17T06:36:28.064085Z",
     "start_time": "2024-09-17T06:36:28.062070Z"
    }
   },
   "cell_type": "code",
   "source": [
    "def create_candidates_buffer(chat_buffer: list) -> list:\n",
    "\temotions: list = [\n",
    "\t\t\"neutral\",\n",
    "\t\t\"anger\",\n",
    "\t\t\"disgust\",\n",
    "\t\t\"fear\",\n",
    "\t\t\"happiness\",\n",
    "\t\t\"sadness\",\n",
    "\t\t\"surprise\",\n",
    "\t]\n",
    "\t\n",
    "\tcandidates_buffer: list = [chat_buffer + [{\n",
    "\t\t\"role\": \"bot\",\n",
    "\t\t\"content\": {\"emotion\": emotion, \"dialog\": \"\"},\n",
    "\t}] for emotion in emotions]\n",
    "\t\n",
    "\treturn candidates_buffer"
   ],
   "id": "524c57a7f522444f",
   "outputs": [],
   "execution_count": 90
  },
  {
   "metadata": {
    "ExecuteTime": {
     "end_time": "2024-09-17T06:36:28.846474Z",
     "start_time": "2024-09-17T06:36:28.843945Z"
    }
   },
   "cell_type": "code",
   "source": [
    "candidates_buffer: list = create_candidates_buffer(chat_buffer)\n",
    "candidates_buffer"
   ],
   "id": "ff4d752b3e6be9f6",
   "outputs": [
    {
     "data": {
      "text/plain": [
       "[[{'role': 'system', 'content': {'emotion': '', 'dialog': ''}},\n",
       "  {'role': 'user',\n",
       "   'content': {'emotion': 'neutral', 'dialog': 'Hello, how are you?'}},\n",
       "  {'role': 'bot', 'content': {'emotion': 'neutral', 'dialog': ''}}],\n",
       " [{'role': 'system', 'content': {'emotion': '', 'dialog': ''}},\n",
       "  {'role': 'user',\n",
       "   'content': {'emotion': 'neutral', 'dialog': 'Hello, how are you?'}},\n",
       "  {'role': 'bot', 'content': {'emotion': 'anger', 'dialog': ''}}],\n",
       " [{'role': 'system', 'content': {'emotion': '', 'dialog': ''}},\n",
       "  {'role': 'user',\n",
       "   'content': {'emotion': 'neutral', 'dialog': 'Hello, how are you?'}},\n",
       "  {'role': 'bot', 'content': {'emotion': 'disgust', 'dialog': ''}}],\n",
       " [{'role': 'system', 'content': {'emotion': '', 'dialog': ''}},\n",
       "  {'role': 'user',\n",
       "   'content': {'emotion': 'neutral', 'dialog': 'Hello, how are you?'}},\n",
       "  {'role': 'bot', 'content': {'emotion': 'fear', 'dialog': ''}}],\n",
       " [{'role': 'system', 'content': {'emotion': '', 'dialog': ''}},\n",
       "  {'role': 'user',\n",
       "   'content': {'emotion': 'neutral', 'dialog': 'Hello, how are you?'}},\n",
       "  {'role': 'bot', 'content': {'emotion': 'happiness', 'dialog': ''}}],\n",
       " [{'role': 'system', 'content': {'emotion': '', 'dialog': ''}},\n",
       "  {'role': 'user',\n",
       "   'content': {'emotion': 'neutral', 'dialog': 'Hello, how are you?'}},\n",
       "  {'role': 'bot', 'content': {'emotion': 'sadness', 'dialog': ''}}],\n",
       " [{'role': 'system', 'content': {'emotion': '', 'dialog': ''}},\n",
       "  {'role': 'user',\n",
       "   'content': {'emotion': 'neutral', 'dialog': 'Hello, how are you?'}},\n",
       "  {'role': 'bot', 'content': {'emotion': 'surprise', 'dialog': ''}}]]"
      ]
     },
     "execution_count": 91,
     "metadata": {},
     "output_type": "execute_result"
    }
   ],
   "execution_count": 91
  },
  {
   "metadata": {
    "ExecuteTime": {
     "end_time": "2024-09-17T06:42:50.379302Z",
     "start_time": "2024-09-17T06:42:48.015961Z"
    }
   },
   "cell_type": "code",
   "source": [
    "generated_candidates: list = [result[0][\"generated_text\"] for result in response_generator(candidates_buffer, streamer=streamer) if result[0][\"generated_text\"][-1][\"content\"][\"dialog\"] != \"\"]\n",
    "print()\n",
    "pprint(generated_candidates)"
   ],
   "id": "177d0dc31017d0a1",
   "outputs": [
    {
     "name": "stdout",
     "output_type": "stream",
     "text": [
      "   neutral   Hello, how are you?     neutral    Fine, thank you. \n",
      "   neutral   Hello, how are you?     anger   \n",
      "   neutral   Hello, how are you?     disgust   \n",
      "   neutral   Hello, how are you?     fear    Hi! I'm terribly nervous. \n",
      "   neutral   Hello, how are you?     happiness     Fine, thank you. \n",
      "   neutral   Hello, how are you?     sadness   \n",
      "   neutral   Hello, how are you?     surprise    hello! I haven't seen you for ages! \n",
      "\n",
      "[[{'content': {'dialog': '', 'emotion': ''}, 'role': 'system'},\n",
      "  {'content': {'dialog': 'Hello, how are you?', 'emotion': 'neutral'},\n",
      "   'role': 'user'},\n",
      "  {'content': {'dialog': ' Fine, thank you. ', 'emotion': 'neutral'},\n",
      "   'role': 'bot'}],\n",
      " [{'content': {'dialog': '', 'emotion': ''}, 'role': 'system'},\n",
      "  {'content': {'dialog': 'Hello, how are you?', 'emotion': 'neutral'},\n",
      "   'role': 'user'},\n",
      "  {'content': {'dialog': \" Hi! I'm terribly nervous. \", 'emotion': 'fear'},\n",
      "   'role': 'bot'}],\n",
      " [{'content': {'dialog': '', 'emotion': ''}, 'role': 'system'},\n",
      "  {'content': {'dialog': 'Hello, how are you?', 'emotion': 'neutral'},\n",
      "   'role': 'user'},\n",
      "  {'content': {'dialog': '  Fine, thank you. ', 'emotion': 'happiness'},\n",
      "   'role': 'bot'}],\n",
      " [{'content': {'dialog': '', 'emotion': ''}, 'role': 'system'},\n",
      "  {'content': {'dialog': 'Hello, how are you?', 'emotion': 'neutral'},\n",
      "   'role': 'user'},\n",
      "  {'content': {'dialog': \" hello! I haven't seen you for ages! \",\n",
      "               'emotion': 'surprise'},\n",
      "   'role': 'bot'}]]\n"
     ]
    }
   ],
   "execution_count": 106
  },
  {
   "metadata": {},
   "cell_type": "markdown",
   "source": "### Simulate Bot's Possible Emotion Representation",
   "id": "edd1623271d26e3b"
  },
  {
   "metadata": {},
   "cell_type": "code",
   "outputs": [],
   "execution_count": null,
   "source": [
    "def get_possible_response_emotion_representation(candidates_buffer: list) -> list:\n",
    "\tfor"
   ],
   "id": "f02b5b958b97edf6"
  },
  {
   "metadata": {},
   "cell_type": "code",
   "outputs": [],
   "execution_count": null,
   "source": "possible_response_emotion_representation: dict =",
   "id": "adf9424c0ca6751f"
  },
  {
   "metadata": {
    "ExecuteTime": {
     "end_time": "2024-09-17T06:37:57.678980Z",
     "start_time": "2024-09-17T06:37:57.677781Z"
    }
   },
   "cell_type": "code",
   "source": "",
   "id": "b8f0c947ddacbd18",
   "outputs": [],
   "execution_count": null
  },
  {
   "metadata": {},
   "cell_type": "code",
   "outputs": [],
   "execution_count": null,
   "source": "",
   "id": "36e10f33e0dd37f0"
  }
 ],
 "metadata": {
  "kernelspec": {
   "display_name": "Python 3",
   "language": "python",
   "name": "python3"
  },
  "language_info": {
   "codemirror_mode": {
    "name": "ipython",
    "version": 2
   },
   "file_extension": ".py",
   "mimetype": "text/x-python",
   "name": "python",
   "nbconvert_exporter": "python",
   "pygments_lexer": "ipython2",
   "version": "2.7.6"
  }
 },
 "nbformat": 4,
 "nbformat_minor": 5
}
