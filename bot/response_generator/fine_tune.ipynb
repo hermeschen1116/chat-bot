{
 "cells": [
  {
   "cell_type": "code",
   "metadata": {
    "colab": {
     "base_uri": "https://localhost:8080/"
    },
    "execution": {
     "iopub.execute_input": "2024-03-16T23:57:33.723658Z",
     "iopub.status.busy": "2024-03-16T23:57:33.723267Z",
     "iopub.status.idle": "2024-03-16T23:57:35.229179Z",
     "shell.execute_reply": "2024-03-16T23:57:35.228635Z"
    },
    "id": "n5kH6OUjdubg",
    "outputId": "64186f8c-7b95-401c-85c1-1bd71e2c0067",
    "ExecuteTime": {
     "end_time": "2024-03-27T14:58:03.795138Z",
     "start_time": "2024-03-27T14:58:02.164258Z"
    }
   },
   "source": [
    "import os\n",
    "\n",
    "import torch\n",
    "from datasets import load_dataset\n",
    "from huggingface_hub import login\n",
    "from peft import LoraConfig\n",
    "from transformers import (\n",
    "    AutoModelForCausalLM,\n",
    "    AutoTokenizer,\n",
    "    BitsAndBytesConfig,\n",
    "    TrainingArguments\n",
    ")\n",
    "from trl import SFTTrainer"
   ],
   "outputs": [],
   "execution_count": 1
  },
  {
   "cell_type": "code",
   "metadata": {
    "collapsed": false,
    "execution": {
     "iopub.execute_input": "2024-03-16T23:57:35.230819Z",
     "iopub.status.busy": "2024-03-16T23:57:35.230661Z",
     "iopub.status.idle": "2024-03-16T23:57:35.234878Z",
     "shell.execute_reply": "2024-03-16T23:57:35.234632Z"
    },
    "ExecuteTime": {
     "end_time": "2024-03-27T14:58:03.799809Z",
     "start_time": "2024-03-27T14:58:03.795742Z"
    }
   },
   "source": [
    "# prevent env load failed\n",
    "%load_ext dotenv\n",
    "%dotenv"
   ],
   "outputs": [],
   "execution_count": 2
  },
  {
   "cell_type": "code",
   "metadata": {
    "collapsed": false,
    "execution": {
     "iopub.execute_input": "2024-03-16T23:57:35.236038Z",
     "iopub.status.busy": "2024-03-16T23:57:35.235956Z",
     "iopub.status.idle": "2024-03-16T23:57:35.484723Z",
     "shell.execute_reply": "2024-03-16T23:57:35.483075Z"
    },
    "ExecuteTime": {
     "end_time": "2024-03-27T14:58:04.008154Z",
     "start_time": "2024-03-27T14:58:03.800173Z"
    }
   },
   "source": [
    "login(token=os.environ.get(\"HF_TOKEN\", \"\"), add_to_git_credential=True)"
   ],
   "outputs": [
    {
     "name": "stdout",
     "output_type": "stream",
     "text": [
      "Token is valid (permission: read).\n",
      "Your token has been saved in your configured git credential helpers (store).\n",
      "Your token has been saved to /home/hermeschen/.cache/huggingface/token\n",
      "Login successful\n"
     ]
    }
   ],
   "execution_count": 3
  },
  {
   "cell_type": "markdown",
   "metadata": {
    "collapsed": false
   },
   "source": [
    "# Load Dataset"
   ]
  },
  {
   "cell_type": "code",
   "metadata": {
    "collapsed": false,
    "execution": {
     "iopub.execute_input": "2024-03-16T23:57:35.502423Z",
     "iopub.status.busy": "2024-03-16T23:57:35.502277Z",
     "iopub.status.idle": "2024-03-16T23:57:39.768709Z",
     "shell.execute_reply": "2024-03-16T23:57:39.768215Z"
    },
    "ExecuteTime": {
     "end_time": "2024-03-27T14:58:09.287988Z",
     "start_time": "2024-03-27T14:58:04.009063Z"
    }
   },
   "source": [
    "dataset = load_dataset(\"daily_dialog\", split=\"train\", num_proc=8, trust_remote_code=True)"
   ],
   "outputs": [],
   "execution_count": 4
  },
  {
   "cell_type": "code",
   "metadata": {
    "collapsed": false,
    "execution": {
     "iopub.execute_input": "2024-03-16T23:57:39.770601Z",
     "iopub.status.busy": "2024-03-16T23:57:39.770464Z",
     "iopub.status.idle": "2024-03-16T23:57:39.773979Z",
     "shell.execute_reply": "2024-03-16T23:57:39.773788Z"
    },
    "ExecuteTime": {
     "end_time": "2024-03-27T14:58:09.296304Z",
     "start_time": "2024-03-27T14:58:09.289339Z"
    }
   },
   "source": [
    "dataset"
   ],
   "outputs": [
    {
     "data": {
      "text/plain": [
       "Dataset({\n",
       "    features: ['dialog', 'act', 'emotion'],\n",
       "    num_rows: 11118\n",
       "})"
      ]
     },
     "execution_count": 5,
     "metadata": {},
     "output_type": "execute_result"
    }
   ],
   "execution_count": 5
  },
  {
   "cell_type": "markdown",
   "metadata": {
    "collapsed": false
   },
   "source": [
    "# Process Dataset"
   ]
  },
  {
   "cell_type": "code",
   "metadata": {
    "collapsed": false,
    "execution": {
     "iopub.execute_input": "2024-03-16T23:57:39.775160Z",
     "iopub.status.busy": "2024-03-16T23:57:39.775072Z",
     "iopub.status.idle": "2024-03-16T23:57:39.777064Z",
     "shell.execute_reply": "2024-03-16T23:57:39.776892Z"
    },
    "ExecuteTime": {
     "end_time": "2024-03-27T14:58:09.302716Z",
     "start_time": "2024-03-27T14:58:09.297490Z"
    }
   },
   "source": [
    "dataset = dataset.remove_columns(\"act\")"
   ],
   "outputs": [],
   "execution_count": 6
  },
  {
   "cell_type": "markdown",
   "metadata": {
    "collapsed": false
   },
   "source": [
    "## Process Emotion Feature (ID to Label)"
   ]
  },
  {
   "cell_type": "code",
   "metadata": {
    "collapsed": false,
    "execution": {
     "iopub.execute_input": "2024-03-16T23:57:39.778149Z",
     "iopub.status.busy": "2024-03-16T23:57:39.777970Z",
     "iopub.status.idle": "2024-03-16T23:57:39.779862Z",
     "shell.execute_reply": "2024-03-16T23:57:39.779698Z"
    },
    "ExecuteTime": {
     "end_time": "2024-03-27T14:58:09.307317Z",
     "start_time": "2024-03-27T14:58:09.303620Z"
    }
   },
   "source": [
    "dataset = dataset.rename_column(\"emotion\", \"emotion_id\")"
   ],
   "outputs": [],
   "execution_count": 7
  },
  {
   "cell_type": "code",
   "metadata": {
    "collapsed": false,
    "execution": {
     "iopub.execute_input": "2024-03-16T23:57:39.780835Z",
     "iopub.status.busy": "2024-03-16T23:57:39.780734Z",
     "iopub.status.idle": "2024-03-16T23:57:39.782710Z",
     "shell.execute_reply": "2024-03-16T23:57:39.782542Z"
    },
    "ExecuteTime": {
     "end_time": "2024-03-27T14:58:09.312472Z",
     "start_time": "2024-03-27T14:58:09.307801Z"
    }
   },
   "source": [
    "emotion_labels: list = dataset.features[\"emotion_id\"].feature.names\n",
    "emotion_labels[0] = \"neutral\"\n",
    "emotion_labels"
   ],
   "outputs": [
    {
     "data": {
      "text/plain": [
       "['neutral', 'anger', 'disgust', 'fear', 'happiness', 'sadness', 'surprise']"
      ]
     },
     "execution_count": 8,
     "metadata": {},
     "output_type": "execute_result"
    }
   ],
   "execution_count": 8
  },
  {
   "cell_type": "code",
   "metadata": {
    "collapsed": false,
    "execution": {
     "iopub.execute_input": "2024-03-16T23:57:39.783665Z",
     "iopub.status.busy": "2024-03-16T23:57:39.783573Z",
     "iopub.status.idle": "2024-03-16T23:57:39.794257Z",
     "shell.execute_reply": "2024-03-16T23:57:39.794022Z"
    },
    "ExecuteTime": {
     "end_time": "2024-03-27T14:58:10.046401Z",
     "start_time": "2024-03-27T14:58:09.739965Z"
    }
   },
   "source": [
    "dataset = dataset.map(lambda samples: {\n",
    "    \"emotion\": [[emotion_labels[emotion_id] for emotion_id in sample] for sample in samples]\n",
    "}, input_columns=\"emotion_id\", remove_columns=\"emotion_id\", batched=True, num_proc=8)"
   ],
   "outputs": [
    {
     "data": {
      "text/plain": [
       "Map (num_proc=8):   0%|          | 0/11118 [00:00<?, ? examples/s]"
      ],
      "application/vnd.jupyter.widget-view+json": {
       "version_major": 2,
       "version_minor": 0,
       "model_id": "5cb2e909c78640f8a81dfa730ce6b155"
      }
     },
     "metadata": {},
     "output_type": "display_data"
    }
   ],
   "execution_count": 9
  },
  {
   "cell_type": "code",
   "metadata": {
    "collapsed": false,
    "execution": {
     "iopub.execute_input": "2024-03-16T23:57:39.795542Z",
     "iopub.status.busy": "2024-03-16T23:57:39.795281Z",
     "iopub.status.idle": "2024-03-16T23:57:39.797241Z",
     "shell.execute_reply": "2024-03-16T23:57:39.797093Z"
    },
    "ExecuteTime": {
     "end_time": "2024-03-27T14:58:10.633794Z",
     "start_time": "2024-03-27T14:58:10.630815Z"
    }
   },
   "source": [
    "dataset[0]"
   ],
   "outputs": [
    {
     "data": {
      "text/plain": [
       "{'dialog': ['Say , Jim , how about going for a few beers after dinner ? ',\n",
       "  ' You know that is tempting but is really not good for our fitness . ',\n",
       "  ' What do you mean ? It will help us to relax . ',\n",
       "  \" Do you really think so ? I don't . It will just make us fat and act silly . Remember last time ? \",\n",
       "  \" I guess you are right.But what shall we do ? I don't feel like sitting at home . \",\n",
       "  ' I suggest a walk over to the gym where we can play singsong and meet some of our friends . ',\n",
       "  \" That's a good idea . I hear Mary and Sally often go there to play pingpong.Perhaps we can make a foursome with them . \",\n",
       "  ' Sounds great to me ! If they are willing , we could ask them to go dancing with us.That is excellent exercise and fun , too . ',\n",
       "  \" Good.Let ' s go now . \",\n",
       "  ' All right . '],\n",
       " 'emotion': ['neutral',\n",
       "  'neutral',\n",
       "  'neutral',\n",
       "  'neutral',\n",
       "  'neutral',\n",
       "  'neutral',\n",
       "  'happiness',\n",
       "  'happiness',\n",
       "  'happiness',\n",
       "  'happiness']}"
      ]
     },
     "execution_count": 10,
     "metadata": {},
     "output_type": "execute_result"
    }
   ],
   "execution_count": 10
  },
  {
   "cell_type": "markdown",
   "metadata": {
    "collapsed": false
   },
   "source": [
    "## Add Agent Feature"
   ]
  },
  {
   "cell_type": "code",
   "metadata": {
    "collapsed": false,
    "execution": {
     "iopub.execute_input": "2024-03-16T23:57:39.798132Z",
     "iopub.status.busy": "2024-03-16T23:57:39.798058Z",
     "iopub.status.idle": "2024-03-16T23:57:39.808037Z",
     "shell.execute_reply": "2024-03-16T23:57:39.807875Z"
    },
    "ExecuteTime": {
     "end_time": "2024-03-27T14:58:11.719914Z",
     "start_time": "2024-03-27T14:58:11.536162Z"
    }
   },
   "source": [
    "agents: dict = {0: 'user', 1: 'bot'}\n",
    "dataset = dataset.map(lambda samples: {\n",
    "    \"agent\": [[agents[i % 2] for i in range(len(sample))] for sample in samples[\"dialog\"]]\n",
    "}, batched=True, num_proc=8)"
   ],
   "outputs": [
    {
     "data": {
      "text/plain": [
       "Map (num_proc=8):   0%|          | 0/11118 [00:00<?, ? examples/s]"
      ],
      "application/vnd.jupyter.widget-view+json": {
       "version_major": 2,
       "version_minor": 0,
       "model_id": "b3d6582cd7f147659657632ae6562cb7"
      }
     },
     "metadata": {},
     "output_type": "display_data"
    }
   ],
   "execution_count": 11
  },
  {
   "cell_type": "code",
   "metadata": {
    "collapsed": false,
    "execution": {
     "iopub.execute_input": "2024-03-16T23:57:39.808966Z",
     "iopub.status.busy": "2024-03-16T23:57:39.808890Z",
     "iopub.status.idle": "2024-03-16T23:57:39.810888Z",
     "shell.execute_reply": "2024-03-16T23:57:39.810715Z"
    },
    "ExecuteTime": {
     "end_time": "2024-03-27T14:58:12.105726Z",
     "start_time": "2024-03-27T14:58:12.102155Z"
    }
   },
   "source": [
    "dataset[0]"
   ],
   "outputs": [
    {
     "data": {
      "text/plain": [
       "{'dialog': ['Say , Jim , how about going for a few beers after dinner ? ',\n",
       "  ' You know that is tempting but is really not good for our fitness . ',\n",
       "  ' What do you mean ? It will help us to relax . ',\n",
       "  \" Do you really think so ? I don't . It will just make us fat and act silly . Remember last time ? \",\n",
       "  \" I guess you are right.But what shall we do ? I don't feel like sitting at home . \",\n",
       "  ' I suggest a walk over to the gym where we can play singsong and meet some of our friends . ',\n",
       "  \" That's a good idea . I hear Mary and Sally often go there to play pingpong.Perhaps we can make a foursome with them . \",\n",
       "  ' Sounds great to me ! If they are willing , we could ask them to go dancing with us.That is excellent exercise and fun , too . ',\n",
       "  \" Good.Let ' s go now . \",\n",
       "  ' All right . '],\n",
       " 'emotion': ['neutral',\n",
       "  'neutral',\n",
       "  'neutral',\n",
       "  'neutral',\n",
       "  'neutral',\n",
       "  'neutral',\n",
       "  'happiness',\n",
       "  'happiness',\n",
       "  'happiness',\n",
       "  'happiness'],\n",
       " 'agent': ['user',\n",
       "  'bot',\n",
       "  'user',\n",
       "  'bot',\n",
       "  'user',\n",
       "  'bot',\n",
       "  'user',\n",
       "  'bot',\n",
       "  'user',\n",
       "  'bot']}"
      ]
     },
     "execution_count": 12,
     "metadata": {},
     "output_type": "execute_result"
    }
   ],
   "execution_count": 12
  },
  {
   "cell_type": "markdown",
   "metadata": {
    "collapsed": false
   },
   "source": [
    "## Remove Useless Spaces in Dialog"
   ]
  },
  {
   "cell_type": "code",
   "metadata": {
    "collapsed": false,
    "execution": {
     "iopub.execute_input": "2024-03-16T23:57:39.811862Z",
     "iopub.status.busy": "2024-03-16T23:57:39.811781Z",
     "iopub.status.idle": "2024-03-16T23:57:39.822199Z",
     "shell.execute_reply": "2024-03-16T23:57:39.822034Z"
    },
    "ExecuteTime": {
     "end_time": "2024-03-27T14:58:13.884837Z",
     "start_time": "2024-03-27T14:58:13.687289Z"
    }
   },
   "source": [
    "dataset = dataset.map(lambda samples: {\n",
    "    \"dialog\": [[dialog.strip() for dialog in sample] for sample in samples]\n",
    "}, input_columns=\"dialog\", batched=True, num_proc=8)"
   ],
   "outputs": [
    {
     "data": {
      "text/plain": [
       "Map (num_proc=8):   0%|          | 0/11118 [00:00<?, ? examples/s]"
      ],
      "application/vnd.jupyter.widget-view+json": {
       "version_major": 2,
       "version_minor": 0,
       "model_id": "60199d0a76b246649ca10be01af22f72"
      }
     },
     "metadata": {},
     "output_type": "display_data"
    }
   ],
   "execution_count": 13
  },
  {
   "cell_type": "code",
   "metadata": {
    "collapsed": false,
    "execution": {
     "iopub.execute_input": "2024-03-16T23:57:39.823007Z",
     "iopub.status.busy": "2024-03-16T23:57:39.822936Z",
     "iopub.status.idle": "2024-03-16T23:57:39.824711Z",
     "shell.execute_reply": "2024-03-16T23:57:39.824568Z"
    },
    "ExecuteTime": {
     "end_time": "2024-03-27T14:58:17.149566Z",
     "start_time": "2024-03-27T14:58:17.146615Z"
    }
   },
   "source": [
    "dataset[0]"
   ],
   "outputs": [
    {
     "data": {
      "text/plain": [
       "{'dialog': ['Say , Jim , how about going for a few beers after dinner ?',\n",
       "  'You know that is tempting but is really not good for our fitness .',\n",
       "  'What do you mean ? It will help us to relax .',\n",
       "  \"Do you really think so ? I don't . It will just make us fat and act silly . Remember last time ?\",\n",
       "  \"I guess you are right.But what shall we do ? I don't feel like sitting at home .\",\n",
       "  'I suggest a walk over to the gym where we can play singsong and meet some of our friends .',\n",
       "  \"That's a good idea . I hear Mary and Sally often go there to play pingpong.Perhaps we can make a foursome with them .\",\n",
       "  'Sounds great to me ! If they are willing , we could ask them to go dancing with us.That is excellent exercise and fun , too .',\n",
       "  \"Good.Let ' s go now .\",\n",
       "  'All right .'],\n",
       " 'emotion': ['neutral',\n",
       "  'neutral',\n",
       "  'neutral',\n",
       "  'neutral',\n",
       "  'neutral',\n",
       "  'neutral',\n",
       "  'happiness',\n",
       "  'happiness',\n",
       "  'happiness',\n",
       "  'happiness'],\n",
       " 'agent': ['user',\n",
       "  'bot',\n",
       "  'user',\n",
       "  'bot',\n",
       "  'user',\n",
       "  'bot',\n",
       "  'user',\n",
       "  'bot',\n",
       "  'user',\n",
       "  'bot']}"
      ]
     },
     "execution_count": 14,
     "metadata": {},
     "output_type": "execute_result"
    }
   ],
   "execution_count": 14
  },
  {
   "cell_type": "markdown",
   "metadata": {
    "collapsed": false
   },
   "source": [
    "# Test Different Formats of Prompt"
   ]
  },
  {
   "cell_type": "markdown",
   "metadata": {},
   "source": [
    "## Script Format\n",
    "{agent}({emotion}): {dialog}"
   ]
  },
  {
   "cell_type": "code",
   "execution_count": 15,
   "metadata": {
    "ExecuteTime": {
     "end_time": "2024-03-16T23:44:50.548717Z",
     "start_time": "2024-03-16T23:44:50.546654Z"
    },
    "collapsed": false,
    "execution": {
     "iopub.execute_input": "2024-03-16T23:57:39.825529Z",
     "iopub.status.busy": "2024-03-16T23:57:39.825466Z",
     "iopub.status.idle": "2024-03-16T23:57:39.826655Z",
     "shell.execute_reply": "2024-03-16T23:57:39.826517Z"
    }
   },
   "outputs": [],
   "source": [
    "prompt_type = \"script\""
   ]
  },
  {
   "cell_type": "code",
   "execution_count": 16,
   "metadata": {
    "ExecuteTime": {
     "end_time": "2024-03-16T23:44:50.570160Z",
     "start_time": "2024-03-16T23:44:50.549145Z"
    },
    "collapsed": false,
    "execution": {
     "iopub.execute_input": "2024-03-16T23:57:39.827408Z",
     "iopub.status.busy": "2024-03-16T23:57:39.827345Z",
     "iopub.status.idle": "2024-03-16T23:57:39.838240Z",
     "shell.execute_reply": "2024-03-16T23:57:39.838077Z"
    }
   },
   "outputs": [],
   "source": [
    "train_data = dataset.map(lambda samples: {\n",
    "    \"lines\": [[f\"{agent}({emotion}): {dialog}\"\n",
    "               for agent, emotion, dialog in zip(sample[0], sample[1], sample[2])]\n",
    "              for sample in zip(samples[\"agent\"], samples[\"emotion\"], samples[\"dialog\"])]\n",
    "}, batched=True, num_proc=8)"
   ]
  },
  {
   "cell_type": "code",
   "execution_count": 17,
   "metadata": {
    "ExecuteTime": {
     "end_time": "2024-03-16T23:44:50.587354Z",
     "start_time": "2024-03-16T23:44:50.570871Z"
    },
    "collapsed": false,
    "execution": {
     "iopub.execute_input": "2024-03-16T23:57:39.839016Z",
     "iopub.status.busy": "2024-03-16T23:57:39.838950Z",
     "iopub.status.idle": "2024-03-16T23:57:39.848230Z",
     "shell.execute_reply": "2024-03-16T23:57:39.848066Z"
    }
   },
   "outputs": [],
   "source": [
    "enter = \"\\n\"  # for Python 3.11\n",
    "train_data = train_data.map(lambda samples: {\n",
    "    \"prompt\": [f\"\"\"### {f'{enter}### '.join(sample)}\"\"\" for sample in samples]\n",
    "}, input_columns=\"lines\", remove_columns=[\"agent\", \"emotion\", \"dialog\", \"lines\"], batched=True, num_proc=8)"
   ]
  },
  {
   "cell_type": "code",
   "execution_count": 18,
   "metadata": {
    "ExecuteTime": {
     "end_time": "2024-03-16T23:44:50.589443Z",
     "start_time": "2024-03-16T23:44:50.587875Z"
    },
    "collapsed": false,
    "execution": {
     "iopub.execute_input": "2024-03-16T23:57:39.849010Z",
     "iopub.status.busy": "2024-03-16T23:57:39.848944Z",
     "iopub.status.idle": "2024-03-16T23:57:39.850432Z",
     "shell.execute_reply": "2024-03-16T23:57:39.850273Z"
    }
   },
   "outputs": [
    {
     "name": "stdout",
     "output_type": "stream",
     "text": [
      "### user(neutral): Say , Jim , how about going for a few beers after dinner ?\n",
      "### bot(neutral): You know that is tempting but is really not good for our fitness .\n",
      "### user(neutral): What do you mean ? It will help us to relax .\n",
      "### bot(neutral): Do you really think so ? I don't . It will just make us fat and act silly . Remember last time ?\n",
      "### user(neutral): I guess you are right.But what shall we do ? I don't feel like sitting at home .\n",
      "### bot(neutral): I suggest a walk over to the gym where we can play singsong and meet some of our friends .\n",
      "### user(happiness): That's a good idea . I hear Mary and Sally often go there to play pingpong.Perhaps we can make a foursome with them .\n",
      "### bot(happiness): Sounds great to me ! If they are willing , we could ask them to go dancing with us.That is excellent exercise and fun , too .\n",
      "### user(happiness): Good.Let ' s go now .\n",
      "### bot(happiness): All right .\n"
     ]
    }
   ],
   "source": [
    "print(train_data[0][\"prompt\"])"
   ]
  },
  {
   "cell_type": "markdown",
   "metadata": {},
   "source": [
    "## JSON format"
   ]
  },
  {
   "cell_type": "code",
   "execution_count": 19,
   "metadata": {
    "ExecuteTime": {
     "end_time": "2024-03-16T23:44:50.592709Z",
     "start_time": "2024-03-16T23:44:50.589883Z"
    },
    "collapsed": false,
    "execution": {
     "iopub.execute_input": "2024-03-16T23:57:39.851216Z",
     "iopub.status.busy": "2024-03-16T23:57:39.851150Z",
     "iopub.status.idle": "2024-03-16T23:57:39.852346Z",
     "shell.execute_reply": "2024-03-16T23:57:39.852198Z"
    }
   },
   "outputs": [],
   "source": [
    "prompt_type = \"JSON\""
   ]
  },
  {
   "cell_type": "code",
   "execution_count": 20,
   "metadata": {
    "ExecuteTime": {
     "end_time": "2024-03-16T23:44:50.617322Z",
     "start_time": "2024-03-16T23:44:50.593248Z"
    },
    "execution": {
     "iopub.execute_input": "2024-03-16T23:57:39.853099Z",
     "iopub.status.busy": "2024-03-16T23:57:39.853036Z",
     "iopub.status.idle": "2024-03-16T23:57:39.863743Z",
     "shell.execute_reply": "2024-03-16T23:57:39.863585Z"
    }
   },
   "outputs": [],
   "source": [
    "train_data = dataset.map(lambda samples: {\n",
    "    \"lines\": [[f'{{\"agent\": \"{agent}\", \"emotion\": \"{emotion}\", \"dialog\": \"{dialog}\"}}'\n",
    "               for agent, emotion, dialog in zip(sample[0], sample[1], sample[2])]\n",
    "              for sample in zip(samples[\"agent\"], samples[\"emotion\"], samples[\"dialog\"])]\n",
    "}, batched=True, num_proc=8)"
   ]
  },
  {
   "cell_type": "code",
   "execution_count": 21,
   "metadata": {
    "ExecuteTime": {
     "end_time": "2024-03-16T23:44:50.631587Z",
     "start_time": "2024-03-16T23:44:50.618065Z"
    },
    "collapsed": false,
    "execution": {
     "iopub.execute_input": "2024-03-16T23:57:39.864503Z",
     "iopub.status.busy": "2024-03-16T23:57:39.864438Z",
     "iopub.status.idle": "2024-03-16T23:57:39.873681Z",
     "shell.execute_reply": "2024-03-16T23:57:39.873522Z"
    }
   },
   "outputs": [],
   "source": [
    "enter = \"\\n\"  # for Python 3.11\n",
    "train_data = train_data.map(lambda samples: {\n",
    "    \"prompt\": [f\"\"\"[{f',{enter}'.join(sample)}]\"\"\" for sample in samples]\n",
    "}, input_columns=\"lines\", remove_columns=[\"agent\", \"emotion\", \"dialog\", \"lines\"], batched=True, num_proc=8)"
   ]
  },
  {
   "cell_type": "code",
   "execution_count": 22,
   "metadata": {
    "ExecuteTime": {
     "end_time": "2024-03-16T23:44:50.634358Z",
     "start_time": "2024-03-16T23:44:50.632423Z"
    },
    "collapsed": false,
    "execution": {
     "iopub.execute_input": "2024-03-16T23:57:39.874469Z",
     "iopub.status.busy": "2024-03-16T23:57:39.874399Z",
     "iopub.status.idle": "2024-03-16T23:57:39.875856Z",
     "shell.execute_reply": "2024-03-16T23:57:39.875703Z"
    }
   },
   "outputs": [
    {
     "name": "stdout",
     "output_type": "stream",
     "text": [
      "[{\"agent\": \"user\", \"emotion\": \"neutral\", \"dialog\": \"Say , Jim , how about going for a few beers after dinner ?\"},\n",
      "{\"agent\": \"bot\", \"emotion\": \"neutral\", \"dialog\": \"You know that is tempting but is really not good for our fitness .\"},\n",
      "{\"agent\": \"user\", \"emotion\": \"neutral\", \"dialog\": \"What do you mean ? It will help us to relax .\"},\n",
      "{\"agent\": \"bot\", \"emotion\": \"neutral\", \"dialog\": \"Do you really think so ? I don't . It will just make us fat and act silly . Remember last time ?\"},\n",
      "{\"agent\": \"user\", \"emotion\": \"neutral\", \"dialog\": \"I guess you are right.But what shall we do ? I don't feel like sitting at home .\"},\n",
      "{\"agent\": \"bot\", \"emotion\": \"neutral\", \"dialog\": \"I suggest a walk over to the gym where we can play singsong and meet some of our friends .\"},\n",
      "{\"agent\": \"user\", \"emotion\": \"happiness\", \"dialog\": \"That's a good idea . I hear Mary and Sally often go there to play pingpong.Perhaps we can make a foursome with them .\"},\n",
      "{\"agent\": \"bot\", \"emotion\": \"happiness\", \"dialog\": \"Sounds great to me ! If they are willing , we could ask them to go dancing with us.That is excellent exercise and fun , too .\"},\n",
      "{\"agent\": \"user\", \"emotion\": \"happiness\", \"dialog\": \"Good.Let ' s go now .\"},\n",
      "{\"agent\": \"bot\", \"emotion\": \"happiness\", \"dialog\": \"All right .\"}]\n"
     ]
    }
   ],
   "source": [
    "print(train_data[0][\"prompt\"])"
   ]
  },
  {
   "cell_type": "code",
   "execution_count": 23,
   "metadata": {
    "ExecuteTime": {
     "end_time": "2024-03-16T23:44:50.638306Z",
     "start_time": "2024-03-16T23:44:50.634840Z"
    },
    "execution": {
     "iopub.execute_input": "2024-03-16T23:57:39.876565Z",
     "iopub.status.busy": "2024-03-16T23:57:39.876497Z",
     "iopub.status.idle": "2024-03-16T23:57:39.878077Z",
     "shell.execute_reply": "2024-03-16T23:57:39.877924Z"
    }
   },
   "outputs": [
    {
     "name": "stdout",
     "output_type": "stream",
     "text": [
      "[\n",
      "  {\n",
      "    \"agent\": \"user\",\n",
      "    \"emotion\": \"neutral\",\n",
      "    \"dialog\": \"Say , Jim , how about going for a few beers after dinner ?\"\n",
      "  },\n",
      "  {\n",
      "    \"agent\": \"bot\",\n",
      "    \"emotion\": \"neutral\",\n",
      "    \"dialog\": \"You know that is tempting but is really not good for our fitness .\"\n",
      "  },\n",
      "  {\n",
      "    \"agent\": \"user\",\n",
      "    \"emotion\": \"neutral\",\n",
      "    \"dialog\": \"What do you mean ? It will help us to relax .\"\n",
      "  },\n",
      "  {\n",
      "    \"agent\": \"bot\",\n",
      "    \"emotion\": \"neutral\",\n",
      "    \"dialog\": \"Do you really think so ? I don't . It will just make us fat and act silly . Remember last time ?\"\n",
      "  },\n",
      "  {\n",
      "    \"agent\": \"user\",\n",
      "    \"emotion\": \"neutral\",\n",
      "    \"dialog\": \"I guess you are right.But what shall we do ? I don't feel like sitting at home .\"\n",
      "  },\n",
      "  {\n",
      "    \"agent\": \"bot\",\n",
      "    \"emotion\": \"neutral\",\n",
      "    \"dialog\": \"I suggest a walk over to the gym where we can play singsong and meet some of our friends .\"\n",
      "  },\n",
      "  {\n",
      "    \"agent\": \"user\",\n",
      "    \"emotion\": \"happiness\",\n",
      "    \"dialog\": \"That's a good idea . I hear Mary and Sally often go there to play pingpong.Perhaps we can make a foursome with them .\"\n",
      "  },\n",
      "  {\n",
      "    \"agent\": \"bot\",\n",
      "    \"emotion\": \"happiness\",\n",
      "    \"dialog\": \"Sounds great to me ! If they are willing , we could ask them to go dancing with us.That is excellent exercise and fun , too .\"\n",
      "  },\n",
      "  {\n",
      "    \"agent\": \"user\",\n",
      "    \"emotion\": \"happiness\",\n",
      "    \"dialog\": \"Good.Let ' s go now .\"\n",
      "  },\n",
      "  {\n",
      "    \"agent\": \"bot\",\n",
      "    \"emotion\": \"happiness\",\n",
      "    \"dialog\": \"All right .\"\n",
      "  }\n",
      "]\n"
     ]
    }
   ],
   "source": [
    "import json\n",
    "\n",
    "print(json.dumps(eval(train_data[0][\"prompt\"]), indent=2))"
   ]
  },
  {
   "metadata": {},
   "cell_type": "markdown",
   "source": "## History format"
  },
  {
   "metadata": {
    "ExecuteTime": {
     "end_time": "2024-03-27T15:04:39.433077Z",
     "start_time": "2024-03-27T15:04:39.430644Z"
    }
   },
   "cell_type": "code",
   "source": "prompt_type = \"history\"",
   "outputs": [],
   "execution_count": 33
  },
  {
   "metadata": {
    "ExecuteTime": {
     "end_time": "2024-03-27T15:04:39.710040Z",
     "start_time": "2024-03-27T15:04:39.695490Z"
    }
   },
   "cell_type": "code",
   "source": [
    "train_data = dataset.map(lambda samples: {\n",
    "    \"history\": [\"\\n\".join(sample[:-1]) for sample in samples]\n",
    "}, input_columns=\"dialog\", batched=True, num_proc=8)"
   ],
   "outputs": [],
   "execution_count": 34
  },
  {
   "metadata": {
    "ExecuteTime": {
     "end_time": "2024-03-27T15:04:40.253714Z",
     "start_time": "2024-03-27T15:04:40.027343Z"
    }
   },
   "cell_type": "code",
   "source": [
    "enter = \"\\n\"  # for Python 3.11\n",
    "train_data = train_data.map(lambda samples: {\n",
    "    \"prompt\": [f\"HISTORY: {sample[0]}{enter}EMOTION: {sample[1][-1]}{enter}DIALOG: {sample[2][-1]}\"\n",
    "              for sample in zip(samples[\"history\"], samples[\"emotion\"], samples[\"dialog\"])]\n",
    "}, remove_columns=[\"agent\", \"emotion\", \"dialog\", \"history\"], batched=True, num_proc=8)"
   ],
   "outputs": [
    {
     "data": {
      "text/plain": [
       "Map (num_proc=8):   0%|          | 0/11118 [00:00<?, ? examples/s]"
      ],
      "application/vnd.jupyter.widget-view+json": {
       "version_major": 2,
       "version_minor": 0,
       "model_id": "1a9a8dda50984ea9becb624c7d45a4a6"
      }
     },
     "metadata": {},
     "output_type": "display_data"
    }
   ],
   "execution_count": 35
  },
  {
   "metadata": {
    "ExecuteTime": {
     "end_time": "2024-03-27T15:04:40.385643Z",
     "start_time": "2024-03-27T15:04:40.383708Z"
    }
   },
   "cell_type": "code",
   "source": "print(train_data[0][\"prompt\"])",
   "outputs": [
    {
     "name": "stdout",
     "output_type": "stream",
     "text": [
      "HISTORY: Say , Jim , how about going for a few beers after dinner ?\n",
      "You know that is tempting but is really not good for our fitness .\n",
      "What do you mean ? It will help us to relax .\n",
      "Do you really think so ? I don't . It will just make us fat and act silly . Remember last time ?\n",
      "I guess you are right.But what shall we do ? I don't feel like sitting at home .\n",
      "I suggest a walk over to the gym where we can play singsong and meet some of our friends .\n",
      "That's a good idea . I hear Mary and Sally often go there to play pingpong.Perhaps we can make a foursome with them .\n",
      "Sounds great to me ! If they are willing , we could ask them to go dancing with us.That is excellent exercise and fun , too .\n",
      "Good.Let ' s go now .\n",
      "EMOTION: happiness\n",
      "DIALOG: All right .\n"
     ]
    }
   ],
   "execution_count": 36
  },
  {
   "cell_type": "markdown",
   "metadata": {
    "collapsed": false
   },
   "source": [
    "# Fine Tune"
   ]
  },
  {
   "cell_type": "code",
   "execution_count": 24,
   "metadata": {
    "ExecuteTime": {
     "end_time": "2024-03-16T23:44:50.641391Z",
     "start_time": "2024-03-16T23:44:50.638722Z"
    },
    "collapsed": false,
    "execution": {
     "iopub.execute_input": "2024-03-16T23:57:39.878803Z",
     "iopub.status.busy": "2024-03-16T23:57:39.878735Z",
     "iopub.status.idle": "2024-03-16T23:57:39.880010Z",
     "shell.execute_reply": "2024-03-16T23:57:39.879864Z"
    }
   },
   "outputs": [],
   "source": [
    "base_model_name: str = \"meta-llama/Llama-2-7b-chat-hf\"\n",
    "fine_tuned_model_name: str = f\"response_generator_llama_on_daily_dialog_type_{prompt_type}\""
   ]
  },
  {
   "cell_type": "markdown",
   "metadata": {
    "collapsed": false
   },
   "source": [
    "## Load Tokenizer"
   ]
  },
  {
   "cell_type": "code",
   "execution_count": 25,
   "metadata": {
    "ExecuteTime": {
     "end_time": "2024-03-16T23:44:51.291451Z",
     "start_time": "2024-03-16T23:44:50.641924Z"
    },
    "collapsed": false,
    "execution": {
     "iopub.execute_input": "2024-03-16T23:57:39.880713Z",
     "iopub.status.busy": "2024-03-16T23:57:39.880651Z",
     "iopub.status.idle": "2024-03-16T23:57:40.123038Z",
     "shell.execute_reply": "2024-03-16T23:57:40.122721Z"
    }
   },
   "outputs": [],
   "source": [
    "tokenizer = AutoTokenizer.from_pretrained(base_model_name, truncation=True, trust_remote_code=True)\n",
    "tokenizer.pad_token = tokenizer.eos_token\n",
    "tokenizer.padding_side = \"right\"  # Fix for fp16\n",
    "tokenizer.truncation_side = \"right\""
   ]
  },
  {
   "cell_type": "markdown",
   "metadata": {
    "collapsed": false
   },
   "source": [
    "## Configurations"
   ]
  },
  {
   "cell_type": "code",
   "execution_count": 26,
   "metadata": {
    "ExecuteTime": {
     "end_time": "2024-03-16T23:44:51.294120Z",
     "start_time": "2024-03-16T23:44:51.292191Z"
    },
    "collapsed": false,
    "execution": {
     "iopub.execute_input": "2024-03-16T23:57:40.124510Z",
     "iopub.status.busy": "2024-03-16T23:57:40.124435Z",
     "iopub.status.idle": "2024-03-16T23:57:40.126589Z",
     "shell.execute_reply": "2024-03-16T23:57:40.126420Z"
    }
   },
   "outputs": [],
   "source": [
    "quantization_config = BitsAndBytesConfig(\n",
    "    load_in_4bit=True,\n",
    "    bnb_4bit_quant_type=\"nf4\",\n",
    "    bnb_4bit_compute_dtype=torch.float16,\n",
    "    bnb_4bit_use_double_quant=False\n",
    ")"
   ]
  },
  {
   "cell_type": "code",
   "execution_count": 27,
   "metadata": {
    "ExecuteTime": {
     "end_time": "2024-03-16T23:44:51.298142Z",
     "start_time": "2024-03-16T23:44:51.294521Z"
    },
    "collapsed": false,
    "execution": {
     "iopub.execute_input": "2024-03-16T23:57:40.127624Z",
     "iopub.status.busy": "2024-03-16T23:57:40.127535Z",
     "iopub.status.idle": "2024-03-16T23:57:40.128904Z",
     "shell.execute_reply": "2024-03-16T23:57:40.128749Z"
    }
   },
   "outputs": [],
   "source": [
    "peft_parameters = LoraConfig(\n",
    "    lora_alpha=16,\n",
    "    lora_dropout=0.1,\n",
    "    r=8,\n",
    "    bias=\"none\",\n",
    "    task_type=\"CAUSAL_LM\"\n",
    ")"
   ]
  },
  {
   "cell_type": "code",
   "execution_count": 28,
   "metadata": {
    "ExecuteTime": {
     "end_time": "2024-03-16T23:44:51.301592Z",
     "start_time": "2024-03-16T23:44:51.298653Z"
    },
    "execution": {
     "iopub.execute_input": "2024-03-16T23:57:40.129883Z",
     "iopub.status.busy": "2024-03-16T23:57:40.129779Z",
     "iopub.status.idle": "2024-03-16T23:57:40.130993Z",
     "shell.execute_reply": "2024-03-16T23:57:40.130849Z"
    }
   },
   "outputs": [],
   "source": [
    "num_train_epochs: int = 3"
   ]
  },
  {
   "cell_type": "code",
   "execution_count": 29,
   "metadata": {
    "ExecuteTime": {
     "end_time": "2024-03-16T23:44:51.316544Z",
     "start_time": "2024-03-16T23:44:51.302124Z"
    },
    "collapsed": false,
    "execution": {
     "iopub.execute_input": "2024-03-16T23:57:40.131918Z",
     "iopub.status.busy": "2024-03-16T23:57:40.131814Z",
     "iopub.status.idle": "2024-03-16T23:57:40.144189Z",
     "shell.execute_reply": "2024-03-16T23:57:40.143996Z"
    }
   },
   "outputs": [],
   "source": [
    "train_params = TrainingArguments(\n",
    "    output_dir=f\"./checkpoints_{fine_tuned_model_name}\",\n",
    "    num_train_epochs=num_train_epochs,\n",
    "    per_device_train_batch_size=4,\n",
    "    gradient_accumulation_steps=1,\n",
    "    optim=\"paged_adamw_32bit\",\n",
    "    save_steps=25,\n",
    "    logging_steps=25,\n",
    "    learning_rate=2e-4,\n",
    "    weight_decay=0.001,\n",
    "    fp16=False,\n",
    "    bf16=False,\n",
    "    max_grad_norm=0.3,\n",
    "    max_steps=-1,\n",
    "    warmup_ratio=0.03,\n",
    "    group_by_length=True,\n",
    "    lr_scheduler_type=\"constant\",\n",
    "    report_to=[\"tensorboard\"],\n",
    "    gradient_checkpointing=True,\n",
    "    gradient_checkpointing_kwargs={\"use_reentrant\": True}\n",
    ")"
   ]
  },
  {
   "cell_type": "markdown",
   "metadata": {
    "collapsed": false
   },
   "source": [
    "## Load Model"
   ]
  },
  {
   "cell_type": "code",
   "execution_count": 30,
   "metadata": {
    "ExecuteTime": {
     "end_time": "2024-03-16T23:44:57.812031Z",
     "start_time": "2024-03-16T23:44:51.317086Z"
    },
    "collapsed": false,
    "execution": {
     "iopub.execute_input": "2024-03-16T23:57:40.145206Z",
     "iopub.status.busy": "2024-03-16T23:57:40.145104Z",
     "iopub.status.idle": "2024-03-16T23:57:43.983811Z",
     "shell.execute_reply": "2024-03-16T23:57:43.983512Z"
    }
   },
   "outputs": [
    {
     "data": {
      "application/vnd.jupyter.widget-view+json": {
       "model_id": "f4010bea48cf46569f8f2578a7830461",
       "version_major": 2,
       "version_minor": 0
      },
      "text/plain": [
       "Loading checkpoint shards:   0%|          | 0/2 [00:00<?, ?it/s]"
      ]
     },
     "metadata": {},
     "output_type": "display_data"
    }
   ],
   "source": [
    "base_model = AutoModelForCausalLM.from_pretrained(\n",
    "    base_model_name,\n",
    "    quantization_config=quantization_config if torch.cuda.is_available() else None,\n",
    "    device_map=\"auto\" if torch.cuda.is_available() else \"cpu\",\n",
    "    low_cpu_mem_usage=True\n",
    ")"
   ]
  },
  {
   "cell_type": "code",
   "execution_count": 31,
   "metadata": {
    "ExecuteTime": {
     "end_time": "2024-03-16T23:44:57.814558Z",
     "start_time": "2024-03-16T23:44:57.812623Z"
    },
    "execution": {
     "iopub.execute_input": "2024-03-16T23:57:43.985006Z",
     "iopub.status.busy": "2024-03-16T23:57:43.984933Z",
     "iopub.status.idle": "2024-03-16T23:57:43.986531Z",
     "shell.execute_reply": "2024-03-16T23:57:43.986366Z"
    }
   },
   "outputs": [],
   "source": [
    "base_model.config.use_cache = False\n",
    "base_model.config.pretraining_tp = 1"
   ]
  },
  {
   "cell_type": "markdown",
   "metadata": {
    "collapsed": false
   },
   "source": [
    "## Setup Tuner"
   ]
  },
  {
   "cell_type": "code",
   "execution_count": 32,
   "metadata": {
    "ExecuteTime": {
     "end_time": "2024-03-16T23:44:57.916675Z",
     "start_time": "2024-03-16T23:44:57.814956Z"
    },
    "colab": {
     "base_uri": "https://localhost:8080/",
     "height": 508,
     "referenced_widgets": [
      "636a931c33cd415ba1eb6c4721080fd2",
      "dda7944038c34f70803c926436ffcfaf",
      "d25d9974d04344509944bbea7b8e3268",
      "8a836fa75d6b400fb3187ec1bf87946a",
      "f5404ba31d8a4295b9da0c26db9b2439",
      "1f14aff2634a48b493cd94733c356a2a",
      "edcdc867e2f44851a25fca997a0944de",
      "1ed8684669ed48629790b5b902c577ba",
      "c55e6bd1be2643d1b846f2d7b8cbf234",
      "d03a30aa2db84d29a8c4a3e34466644d",
      "12c4eef0a8c640349e257d0973a58a41"
     ]
    },
    "execution": {
     "iopub.execute_input": "2024-03-16T23:57:43.987566Z",
     "iopub.status.busy": "2024-03-16T23:57:43.987450Z",
     "iopub.status.idle": "2024-03-16T23:57:44.057094Z",
     "shell.execute_reply": "2024-03-16T23:57:44.056880Z"
    },
    "id": "TSsPNqspeFt5",
    "outputId": "58856f44-014b-478e-edd1-fef917d76766"
   },
   "outputs": [],
   "source": [
    "tuner = SFTTrainer(\n",
    "    model=base_model,\n",
    "    train_dataset=train_data,\n",
    "    dataset_text_field=\"prompt\",\n",
    "    tokenizer=tokenizer,\n",
    "    peft_config=peft_parameters,\n",
    "    args=train_params,\n",
    "    max_seq_length=1024\n",
    ")"
   ]
  },
  {
   "cell_type": "code",
   "execution_count": 33,
   "metadata": {
    "ExecuteTime": {
     "start_time": "2024-03-16T23:44:57.917151Z"
    },
    "collapsed": false,
    "execution": {
     "iopub.execute_input": "2024-03-16T23:57:44.058478Z",
     "iopub.status.busy": "2024-03-16T23:57:44.058352Z",
     "iopub.status.idle": "2024-03-17T17:29:31.299778Z",
     "shell.execute_reply": "2024-03-17T17:29:31.299586Z"
    }
   },
   "outputs": [
    {
     "data": {
      "text/html": [
       "\n",
       "    <div>\n",
       "      \n",
       "      <progress value='8340' max='8340' style='width:300px; height:20px; vertical-align: middle;'></progress>\n",
       "      [8340/8340 17:31:20, Epoch 3/3]\n",
       "    </div>\n",
       "    <table border=\"1\" class=\"dataframe\">\n",
       "  <thead>\n",
       " <tr style=\"text-align: left;\">\n",
       "      <th>Step</th>\n",
       "      <th>Training Loss</th>\n",
       "    </tr>\n",
       "  </thead>\n",
       "  <tbody>\n",
       "    <tr>\n",
       "      <td>25</td>\n",
       "      <td>1.211500</td>\n",
       "    </tr>\n",
       "    <tr>\n",
       "      <td>50</td>\n",
       "      <td>0.911800</td>\n",
       "    </tr>\n",
       "    <tr>\n",
       "      <td>75</td>\n",
       "      <td>0.911400</td>\n",
       "    </tr>\n",
       "    <tr>\n",
       "      <td>100</td>\n",
       "      <td>0.843400</td>\n",
       "    </tr>\n",
       "    <tr>\n",
       "      <td>125</td>\n",
       "      <td>0.920900</td>\n",
       "    </tr>\n",
       "    <tr>\n",
       "      <td>150</td>\n",
       "      <td>0.843200</td>\n",
       "    </tr>\n",
       "    <tr>\n",
       "      <td>175</td>\n",
       "      <td>0.909000</td>\n",
       "    </tr>\n",
       "    <tr>\n",
       "      <td>200</td>\n",
       "      <td>0.856900</td>\n",
       "    </tr>\n",
       "    <tr>\n",
       "      <td>225</td>\n",
       "      <td>0.900200</td>\n",
       "    </tr>\n",
       "    <tr>\n",
       "      <td>250</td>\n",
       "      <td>0.831600</td>\n",
       "    </tr>\n",
       "    <tr>\n",
       "      <td>275</td>\n",
       "      <td>0.953000</td>\n",
       "    </tr>\n",
       "    <tr>\n",
       "      <td>300</td>\n",
       "      <td>0.773500</td>\n",
       "    </tr>\n",
       "    <tr>\n",
       "      <td>325</td>\n",
       "      <td>0.914300</td>\n",
       "    </tr>\n",
       "    <tr>\n",
       "      <td>350</td>\n",
       "      <td>0.787800</td>\n",
       "    </tr>\n",
       "    <tr>\n",
       "      <td>375</td>\n",
       "      <td>0.872300</td>\n",
       "    </tr>\n",
       "    <tr>\n",
       "      <td>400</td>\n",
       "      <td>0.827200</td>\n",
       "    </tr>\n",
       "    <tr>\n",
       "      <td>425</td>\n",
       "      <td>0.937200</td>\n",
       "    </tr>\n",
       "    <tr>\n",
       "      <td>450</td>\n",
       "      <td>0.780200</td>\n",
       "    </tr>\n",
       "    <tr>\n",
       "      <td>475</td>\n",
       "      <td>0.870800</td>\n",
       "    </tr>\n",
       "    <tr>\n",
       "      <td>500</td>\n",
       "      <td>0.838100</td>\n",
       "    </tr>\n",
       "    <tr>\n",
       "      <td>525</td>\n",
       "      <td>0.889300</td>\n",
       "    </tr>\n",
       "    <tr>\n",
       "      <td>550</td>\n",
       "      <td>0.860200</td>\n",
       "    </tr>\n",
       "    <tr>\n",
       "      <td>575</td>\n",
       "      <td>0.889100</td>\n",
       "    </tr>\n",
       "    <tr>\n",
       "      <td>600</td>\n",
       "      <td>0.775900</td>\n",
       "    </tr>\n",
       "    <tr>\n",
       "      <td>625</td>\n",
       "      <td>0.901800</td>\n",
       "    </tr>\n",
       "    <tr>\n",
       "      <td>650</td>\n",
       "      <td>0.817700</td>\n",
       "    </tr>\n",
       "    <tr>\n",
       "      <td>675</td>\n",
       "      <td>0.916500</td>\n",
       "    </tr>\n",
       "    <tr>\n",
       "      <td>700</td>\n",
       "      <td>0.835700</td>\n",
       "    </tr>\n",
       "    <tr>\n",
       "      <td>725</td>\n",
       "      <td>0.949500</td>\n",
       "    </tr>\n",
       "    <tr>\n",
       "      <td>750</td>\n",
       "      <td>0.795800</td>\n",
       "    </tr>\n",
       "    <tr>\n",
       "      <td>775</td>\n",
       "      <td>0.903100</td>\n",
       "    </tr>\n",
       "    <tr>\n",
       "      <td>800</td>\n",
       "      <td>0.773300</td>\n",
       "    </tr>\n",
       "    <tr>\n",
       "      <td>825</td>\n",
       "      <td>0.896500</td>\n",
       "    </tr>\n",
       "    <tr>\n",
       "      <td>850</td>\n",
       "      <td>0.851100</td>\n",
       "    </tr>\n",
       "    <tr>\n",
       "      <td>875</td>\n",
       "      <td>0.889700</td>\n",
       "    </tr>\n",
       "    <tr>\n",
       "      <td>900</td>\n",
       "      <td>0.809900</td>\n",
       "    </tr>\n",
       "    <tr>\n",
       "      <td>925</td>\n",
       "      <td>0.917200</td>\n",
       "    </tr>\n",
       "    <tr>\n",
       "      <td>950</td>\n",
       "      <td>0.842300</td>\n",
       "    </tr>\n",
       "    <tr>\n",
       "      <td>975</td>\n",
       "      <td>0.855600</td>\n",
       "    </tr>\n",
       "    <tr>\n",
       "      <td>1000</td>\n",
       "      <td>0.806400</td>\n",
       "    </tr>\n",
       "    <tr>\n",
       "      <td>1025</td>\n",
       "      <td>0.904000</td>\n",
       "    </tr>\n",
       "    <tr>\n",
       "      <td>1050</td>\n",
       "      <td>0.839400</td>\n",
       "    </tr>\n",
       "    <tr>\n",
       "      <td>1075</td>\n",
       "      <td>0.884900</td>\n",
       "    </tr>\n",
       "    <tr>\n",
       "      <td>1100</td>\n",
       "      <td>0.815000</td>\n",
       "    </tr>\n",
       "    <tr>\n",
       "      <td>1125</td>\n",
       "      <td>0.899100</td>\n",
       "    </tr>\n",
       "    <tr>\n",
       "      <td>1150</td>\n",
       "      <td>0.809000</td>\n",
       "    </tr>\n",
       "    <tr>\n",
       "      <td>1175</td>\n",
       "      <td>0.891200</td>\n",
       "    </tr>\n",
       "    <tr>\n",
       "      <td>1200</td>\n",
       "      <td>0.838700</td>\n",
       "    </tr>\n",
       "    <tr>\n",
       "      <td>1225</td>\n",
       "      <td>0.867100</td>\n",
       "    </tr>\n",
       "    <tr>\n",
       "      <td>1250</td>\n",
       "      <td>0.793500</td>\n",
       "    </tr>\n",
       "    <tr>\n",
       "      <td>1275</td>\n",
       "      <td>0.908000</td>\n",
       "    </tr>\n",
       "    <tr>\n",
       "      <td>1300</td>\n",
       "      <td>0.794600</td>\n",
       "    </tr>\n",
       "    <tr>\n",
       "      <td>1325</td>\n",
       "      <td>0.888700</td>\n",
       "    </tr>\n",
       "    <tr>\n",
       "      <td>1350</td>\n",
       "      <td>0.772600</td>\n",
       "    </tr>\n",
       "    <tr>\n",
       "      <td>1375</td>\n",
       "      <td>0.908700</td>\n",
       "    </tr>\n",
       "    <tr>\n",
       "      <td>1400</td>\n",
       "      <td>0.798600</td>\n",
       "    </tr>\n",
       "    <tr>\n",
       "      <td>1425</td>\n",
       "      <td>0.929800</td>\n",
       "    </tr>\n",
       "    <tr>\n",
       "      <td>1450</td>\n",
       "      <td>0.797300</td>\n",
       "    </tr>\n",
       "    <tr>\n",
       "      <td>1475</td>\n",
       "      <td>0.902100</td>\n",
       "    </tr>\n",
       "    <tr>\n",
       "      <td>1500</td>\n",
       "      <td>0.788200</td>\n",
       "    </tr>\n",
       "    <tr>\n",
       "      <td>1525</td>\n",
       "      <td>0.889600</td>\n",
       "    </tr>\n",
       "    <tr>\n",
       "      <td>1550</td>\n",
       "      <td>0.822000</td>\n",
       "    </tr>\n",
       "    <tr>\n",
       "      <td>1575</td>\n",
       "      <td>0.904700</td>\n",
       "    </tr>\n",
       "    <tr>\n",
       "      <td>1600</td>\n",
       "      <td>0.751400</td>\n",
       "    </tr>\n",
       "    <tr>\n",
       "      <td>1625</td>\n",
       "      <td>0.897900</td>\n",
       "    </tr>\n",
       "    <tr>\n",
       "      <td>1650</td>\n",
       "      <td>0.834500</td>\n",
       "    </tr>\n",
       "    <tr>\n",
       "      <td>1675</td>\n",
       "      <td>0.857100</td>\n",
       "    </tr>\n",
       "    <tr>\n",
       "      <td>1700</td>\n",
       "      <td>0.783100</td>\n",
       "    </tr>\n",
       "    <tr>\n",
       "      <td>1725</td>\n",
       "      <td>0.896400</td>\n",
       "    </tr>\n",
       "    <tr>\n",
       "      <td>1750</td>\n",
       "      <td>0.817000</td>\n",
       "    </tr>\n",
       "    <tr>\n",
       "      <td>1775</td>\n",
       "      <td>0.845100</td>\n",
       "    </tr>\n",
       "    <tr>\n",
       "      <td>1800</td>\n",
       "      <td>0.813000</td>\n",
       "    </tr>\n",
       "    <tr>\n",
       "      <td>1825</td>\n",
       "      <td>0.843700</td>\n",
       "    </tr>\n",
       "    <tr>\n",
       "      <td>1850</td>\n",
       "      <td>0.779900</td>\n",
       "    </tr>\n",
       "    <tr>\n",
       "      <td>1875</td>\n",
       "      <td>0.816800</td>\n",
       "    </tr>\n",
       "    <tr>\n",
       "      <td>1900</td>\n",
       "      <td>0.800100</td>\n",
       "    </tr>\n",
       "    <tr>\n",
       "      <td>1925</td>\n",
       "      <td>0.834000</td>\n",
       "    </tr>\n",
       "    <tr>\n",
       "      <td>1950</td>\n",
       "      <td>0.830300</td>\n",
       "    </tr>\n",
       "    <tr>\n",
       "      <td>1975</td>\n",
       "      <td>0.904700</td>\n",
       "    </tr>\n",
       "    <tr>\n",
       "      <td>2000</td>\n",
       "      <td>0.773700</td>\n",
       "    </tr>\n",
       "    <tr>\n",
       "      <td>2025</td>\n",
       "      <td>0.868800</td>\n",
       "    </tr>\n",
       "    <tr>\n",
       "      <td>2050</td>\n",
       "      <td>0.799100</td>\n",
       "    </tr>\n",
       "    <tr>\n",
       "      <td>2075</td>\n",
       "      <td>0.914000</td>\n",
       "    </tr>\n",
       "    <tr>\n",
       "      <td>2100</td>\n",
       "      <td>0.853100</td>\n",
       "    </tr>\n",
       "    <tr>\n",
       "      <td>2125</td>\n",
       "      <td>0.890600</td>\n",
       "    </tr>\n",
       "    <tr>\n",
       "      <td>2150</td>\n",
       "      <td>0.767600</td>\n",
       "    </tr>\n",
       "    <tr>\n",
       "      <td>2175</td>\n",
       "      <td>0.895400</td>\n",
       "    </tr>\n",
       "    <tr>\n",
       "      <td>2200</td>\n",
       "      <td>0.811400</td>\n",
       "    </tr>\n",
       "    <tr>\n",
       "      <td>2225</td>\n",
       "      <td>0.901200</td>\n",
       "    </tr>\n",
       "    <tr>\n",
       "      <td>2250</td>\n",
       "      <td>0.840600</td>\n",
       "    </tr>\n",
       "    <tr>\n",
       "      <td>2275</td>\n",
       "      <td>0.875300</td>\n",
       "    </tr>\n",
       "    <tr>\n",
       "      <td>2300</td>\n",
       "      <td>0.772900</td>\n",
       "    </tr>\n",
       "    <tr>\n",
       "      <td>2325</td>\n",
       "      <td>0.890600</td>\n",
       "    </tr>\n",
       "    <tr>\n",
       "      <td>2350</td>\n",
       "      <td>0.851600</td>\n",
       "    </tr>\n",
       "    <tr>\n",
       "      <td>2375</td>\n",
       "      <td>0.849700</td>\n",
       "    </tr>\n",
       "    <tr>\n",
       "      <td>2400</td>\n",
       "      <td>0.764400</td>\n",
       "    </tr>\n",
       "    <tr>\n",
       "      <td>2425</td>\n",
       "      <td>0.856100</td>\n",
       "    </tr>\n",
       "    <tr>\n",
       "      <td>2450</td>\n",
       "      <td>0.801900</td>\n",
       "    </tr>\n",
       "    <tr>\n",
       "      <td>2475</td>\n",
       "      <td>0.884800</td>\n",
       "    </tr>\n",
       "    <tr>\n",
       "      <td>2500</td>\n",
       "      <td>0.749600</td>\n",
       "    </tr>\n",
       "    <tr>\n",
       "      <td>2525</td>\n",
       "      <td>0.848800</td>\n",
       "    </tr>\n",
       "    <tr>\n",
       "      <td>2550</td>\n",
       "      <td>0.790300</td>\n",
       "    </tr>\n",
       "    <tr>\n",
       "      <td>2575</td>\n",
       "      <td>0.861500</td>\n",
       "    </tr>\n",
       "    <tr>\n",
       "      <td>2600</td>\n",
       "      <td>0.834600</td>\n",
       "    </tr>\n",
       "    <tr>\n",
       "      <td>2625</td>\n",
       "      <td>0.933300</td>\n",
       "    </tr>\n",
       "    <tr>\n",
       "      <td>2650</td>\n",
       "      <td>0.803400</td>\n",
       "    </tr>\n",
       "    <tr>\n",
       "      <td>2675</td>\n",
       "      <td>0.877200</td>\n",
       "    </tr>\n",
       "    <tr>\n",
       "      <td>2700</td>\n",
       "      <td>0.749900</td>\n",
       "    </tr>\n",
       "    <tr>\n",
       "      <td>2725</td>\n",
       "      <td>0.872700</td>\n",
       "    </tr>\n",
       "    <tr>\n",
       "      <td>2750</td>\n",
       "      <td>0.817900</td>\n",
       "    </tr>\n",
       "    <tr>\n",
       "      <td>2775</td>\n",
       "      <td>0.854500</td>\n",
       "    </tr>\n",
       "    <tr>\n",
       "      <td>2800</td>\n",
       "      <td>0.840400</td>\n",
       "    </tr>\n",
       "    <tr>\n",
       "      <td>2825</td>\n",
       "      <td>0.781600</td>\n",
       "    </tr>\n",
       "    <tr>\n",
       "      <td>2850</td>\n",
       "      <td>0.843300</td>\n",
       "    </tr>\n",
       "    <tr>\n",
       "      <td>2875</td>\n",
       "      <td>0.812500</td>\n",
       "    </tr>\n",
       "    <tr>\n",
       "      <td>2900</td>\n",
       "      <td>0.827000</td>\n",
       "    </tr>\n",
       "    <tr>\n",
       "      <td>2925</td>\n",
       "      <td>0.819600</td>\n",
       "    </tr>\n",
       "    <tr>\n",
       "      <td>2950</td>\n",
       "      <td>0.823800</td>\n",
       "    </tr>\n",
       "    <tr>\n",
       "      <td>2975</td>\n",
       "      <td>0.813700</td>\n",
       "    </tr>\n",
       "    <tr>\n",
       "      <td>3000</td>\n",
       "      <td>0.788000</td>\n",
       "    </tr>\n",
       "    <tr>\n",
       "      <td>3025</td>\n",
       "      <td>0.818400</td>\n",
       "    </tr>\n",
       "    <tr>\n",
       "      <td>3050</td>\n",
       "      <td>0.845700</td>\n",
       "    </tr>\n",
       "    <tr>\n",
       "      <td>3075</td>\n",
       "      <td>0.819300</td>\n",
       "    </tr>\n",
       "    <tr>\n",
       "      <td>3100</td>\n",
       "      <td>0.869500</td>\n",
       "    </tr>\n",
       "    <tr>\n",
       "      <td>3125</td>\n",
       "      <td>0.764700</td>\n",
       "    </tr>\n",
       "    <tr>\n",
       "      <td>3150</td>\n",
       "      <td>0.794300</td>\n",
       "    </tr>\n",
       "    <tr>\n",
       "      <td>3175</td>\n",
       "      <td>0.797600</td>\n",
       "    </tr>\n",
       "    <tr>\n",
       "      <td>3200</td>\n",
       "      <td>0.807700</td>\n",
       "    </tr>\n",
       "    <tr>\n",
       "      <td>3225</td>\n",
       "      <td>0.808900</td>\n",
       "    </tr>\n",
       "    <tr>\n",
       "      <td>3250</td>\n",
       "      <td>0.820100</td>\n",
       "    </tr>\n",
       "    <tr>\n",
       "      <td>3275</td>\n",
       "      <td>0.800600</td>\n",
       "    </tr>\n",
       "    <tr>\n",
       "      <td>3300</td>\n",
       "      <td>0.839100</td>\n",
       "    </tr>\n",
       "    <tr>\n",
       "      <td>3325</td>\n",
       "      <td>0.770500</td>\n",
       "    </tr>\n",
       "    <tr>\n",
       "      <td>3350</td>\n",
       "      <td>0.827200</td>\n",
       "    </tr>\n",
       "    <tr>\n",
       "      <td>3375</td>\n",
       "      <td>0.791000</td>\n",
       "    </tr>\n",
       "    <tr>\n",
       "      <td>3400</td>\n",
       "      <td>0.839100</td>\n",
       "    </tr>\n",
       "    <tr>\n",
       "      <td>3425</td>\n",
       "      <td>0.789200</td>\n",
       "    </tr>\n",
       "    <tr>\n",
       "      <td>3450</td>\n",
       "      <td>0.795800</td>\n",
       "    </tr>\n",
       "    <tr>\n",
       "      <td>3475</td>\n",
       "      <td>0.757200</td>\n",
       "    </tr>\n",
       "    <tr>\n",
       "      <td>3500</td>\n",
       "      <td>0.818500</td>\n",
       "    </tr>\n",
       "    <tr>\n",
       "      <td>3525</td>\n",
       "      <td>0.770200</td>\n",
       "    </tr>\n",
       "    <tr>\n",
       "      <td>3550</td>\n",
       "      <td>0.825400</td>\n",
       "    </tr>\n",
       "    <tr>\n",
       "      <td>3575</td>\n",
       "      <td>0.768600</td>\n",
       "    </tr>\n",
       "    <tr>\n",
       "      <td>3600</td>\n",
       "      <td>0.788100</td>\n",
       "    </tr>\n",
       "    <tr>\n",
       "      <td>3625</td>\n",
       "      <td>0.792300</td>\n",
       "    </tr>\n",
       "    <tr>\n",
       "      <td>3650</td>\n",
       "      <td>0.809900</td>\n",
       "    </tr>\n",
       "    <tr>\n",
       "      <td>3675</td>\n",
       "      <td>0.821200</td>\n",
       "    </tr>\n",
       "    <tr>\n",
       "      <td>3700</td>\n",
       "      <td>0.826600</td>\n",
       "    </tr>\n",
       "    <tr>\n",
       "      <td>3725</td>\n",
       "      <td>0.771000</td>\n",
       "    </tr>\n",
       "    <tr>\n",
       "      <td>3750</td>\n",
       "      <td>0.867300</td>\n",
       "    </tr>\n",
       "    <tr>\n",
       "      <td>3775</td>\n",
       "      <td>0.800700</td>\n",
       "    </tr>\n",
       "    <tr>\n",
       "      <td>3800</td>\n",
       "      <td>0.808500</td>\n",
       "    </tr>\n",
       "    <tr>\n",
       "      <td>3825</td>\n",
       "      <td>0.774900</td>\n",
       "    </tr>\n",
       "    <tr>\n",
       "      <td>3850</td>\n",
       "      <td>0.786400</td>\n",
       "    </tr>\n",
       "    <tr>\n",
       "      <td>3875</td>\n",
       "      <td>0.765600</td>\n",
       "    </tr>\n",
       "    <tr>\n",
       "      <td>3900</td>\n",
       "      <td>0.854000</td>\n",
       "    </tr>\n",
       "    <tr>\n",
       "      <td>3925</td>\n",
       "      <td>0.786400</td>\n",
       "    </tr>\n",
       "    <tr>\n",
       "      <td>3950</td>\n",
       "      <td>0.785400</td>\n",
       "    </tr>\n",
       "    <tr>\n",
       "      <td>3975</td>\n",
       "      <td>0.811000</td>\n",
       "    </tr>\n",
       "    <tr>\n",
       "      <td>4000</td>\n",
       "      <td>0.785400</td>\n",
       "    </tr>\n",
       "    <tr>\n",
       "      <td>4025</td>\n",
       "      <td>0.787900</td>\n",
       "    </tr>\n",
       "    <tr>\n",
       "      <td>4050</td>\n",
       "      <td>0.797000</td>\n",
       "    </tr>\n",
       "    <tr>\n",
       "      <td>4075</td>\n",
       "      <td>0.770100</td>\n",
       "    </tr>\n",
       "    <tr>\n",
       "      <td>4100</td>\n",
       "      <td>0.825400</td>\n",
       "    </tr>\n",
       "    <tr>\n",
       "      <td>4125</td>\n",
       "      <td>0.764300</td>\n",
       "    </tr>\n",
       "    <tr>\n",
       "      <td>4150</td>\n",
       "      <td>0.773900</td>\n",
       "    </tr>\n",
       "    <tr>\n",
       "      <td>4175</td>\n",
       "      <td>0.772900</td>\n",
       "    </tr>\n",
       "    <tr>\n",
       "      <td>4200</td>\n",
       "      <td>0.778000</td>\n",
       "    </tr>\n",
       "    <tr>\n",
       "      <td>4225</td>\n",
       "      <td>0.800300</td>\n",
       "    </tr>\n",
       "    <tr>\n",
       "      <td>4250</td>\n",
       "      <td>0.842600</td>\n",
       "    </tr>\n",
       "    <tr>\n",
       "      <td>4275</td>\n",
       "      <td>0.740200</td>\n",
       "    </tr>\n",
       "    <tr>\n",
       "      <td>4300</td>\n",
       "      <td>0.811500</td>\n",
       "    </tr>\n",
       "    <tr>\n",
       "      <td>4325</td>\n",
       "      <td>0.750000</td>\n",
       "    </tr>\n",
       "    <tr>\n",
       "      <td>4350</td>\n",
       "      <td>0.804900</td>\n",
       "    </tr>\n",
       "    <tr>\n",
       "      <td>4375</td>\n",
       "      <td>0.779300</td>\n",
       "    </tr>\n",
       "    <tr>\n",
       "      <td>4400</td>\n",
       "      <td>0.845600</td>\n",
       "    </tr>\n",
       "    <tr>\n",
       "      <td>4425</td>\n",
       "      <td>0.779800</td>\n",
       "    </tr>\n",
       "    <tr>\n",
       "      <td>4450</td>\n",
       "      <td>0.773300</td>\n",
       "    </tr>\n",
       "    <tr>\n",
       "      <td>4475</td>\n",
       "      <td>0.786000</td>\n",
       "    </tr>\n",
       "    <tr>\n",
       "      <td>4500</td>\n",
       "      <td>0.759000</td>\n",
       "    </tr>\n",
       "    <tr>\n",
       "      <td>4525</td>\n",
       "      <td>0.847500</td>\n",
       "    </tr>\n",
       "    <tr>\n",
       "      <td>4550</td>\n",
       "      <td>0.825600</td>\n",
       "    </tr>\n",
       "    <tr>\n",
       "      <td>4575</td>\n",
       "      <td>0.759100</td>\n",
       "    </tr>\n",
       "    <tr>\n",
       "      <td>4600</td>\n",
       "      <td>0.829400</td>\n",
       "    </tr>\n",
       "    <tr>\n",
       "      <td>4625</td>\n",
       "      <td>0.757600</td>\n",
       "    </tr>\n",
       "    <tr>\n",
       "      <td>4650</td>\n",
       "      <td>0.822000</td>\n",
       "    </tr>\n",
       "    <tr>\n",
       "      <td>4675</td>\n",
       "      <td>0.785900</td>\n",
       "    </tr>\n",
       "    <tr>\n",
       "      <td>4700</td>\n",
       "      <td>0.806100</td>\n",
       "    </tr>\n",
       "    <tr>\n",
       "      <td>4725</td>\n",
       "      <td>0.779600</td>\n",
       "    </tr>\n",
       "    <tr>\n",
       "      <td>4750</td>\n",
       "      <td>0.824600</td>\n",
       "    </tr>\n",
       "    <tr>\n",
       "      <td>4775</td>\n",
       "      <td>0.788300</td>\n",
       "    </tr>\n",
       "    <tr>\n",
       "      <td>4800</td>\n",
       "      <td>0.788500</td>\n",
       "    </tr>\n",
       "    <tr>\n",
       "      <td>4825</td>\n",
       "      <td>0.760400</td>\n",
       "    </tr>\n",
       "    <tr>\n",
       "      <td>4850</td>\n",
       "      <td>0.817500</td>\n",
       "    </tr>\n",
       "    <tr>\n",
       "      <td>4875</td>\n",
       "      <td>0.830300</td>\n",
       "    </tr>\n",
       "    <tr>\n",
       "      <td>4900</td>\n",
       "      <td>0.833100</td>\n",
       "    </tr>\n",
       "    <tr>\n",
       "      <td>4925</td>\n",
       "      <td>0.774800</td>\n",
       "    </tr>\n",
       "    <tr>\n",
       "      <td>4950</td>\n",
       "      <td>0.831500</td>\n",
       "    </tr>\n",
       "    <tr>\n",
       "      <td>4975</td>\n",
       "      <td>0.748500</td>\n",
       "    </tr>\n",
       "    <tr>\n",
       "      <td>5000</td>\n",
       "      <td>0.810700</td>\n",
       "    </tr>\n",
       "    <tr>\n",
       "      <td>5025</td>\n",
       "      <td>0.757700</td>\n",
       "    </tr>\n",
       "    <tr>\n",
       "      <td>5050</td>\n",
       "      <td>0.834500</td>\n",
       "    </tr>\n",
       "    <tr>\n",
       "      <td>5075</td>\n",
       "      <td>0.739200</td>\n",
       "    </tr>\n",
       "    <tr>\n",
       "      <td>5100</td>\n",
       "      <td>0.809100</td>\n",
       "    </tr>\n",
       "    <tr>\n",
       "      <td>5125</td>\n",
       "      <td>0.770800</td>\n",
       "    </tr>\n",
       "    <tr>\n",
       "      <td>5150</td>\n",
       "      <td>0.816900</td>\n",
       "    </tr>\n",
       "    <tr>\n",
       "      <td>5175</td>\n",
       "      <td>0.803900</td>\n",
       "    </tr>\n",
       "    <tr>\n",
       "      <td>5200</td>\n",
       "      <td>0.803200</td>\n",
       "    </tr>\n",
       "    <tr>\n",
       "      <td>5225</td>\n",
       "      <td>0.714400</td>\n",
       "    </tr>\n",
       "    <tr>\n",
       "      <td>5250</td>\n",
       "      <td>0.838000</td>\n",
       "    </tr>\n",
       "    <tr>\n",
       "      <td>5275</td>\n",
       "      <td>0.805000</td>\n",
       "    </tr>\n",
       "    <tr>\n",
       "      <td>5300</td>\n",
       "      <td>0.815000</td>\n",
       "    </tr>\n",
       "    <tr>\n",
       "      <td>5325</td>\n",
       "      <td>0.741900</td>\n",
       "    </tr>\n",
       "    <tr>\n",
       "      <td>5350</td>\n",
       "      <td>0.798500</td>\n",
       "    </tr>\n",
       "    <tr>\n",
       "      <td>5375</td>\n",
       "      <td>0.787700</td>\n",
       "    </tr>\n",
       "    <tr>\n",
       "      <td>5400</td>\n",
       "      <td>0.818500</td>\n",
       "    </tr>\n",
       "    <tr>\n",
       "      <td>5425</td>\n",
       "      <td>0.807600</td>\n",
       "    </tr>\n",
       "    <tr>\n",
       "      <td>5450</td>\n",
       "      <td>0.772400</td>\n",
       "    </tr>\n",
       "    <tr>\n",
       "      <td>5475</td>\n",
       "      <td>0.769000</td>\n",
       "    </tr>\n",
       "    <tr>\n",
       "      <td>5500</td>\n",
       "      <td>0.816900</td>\n",
       "    </tr>\n",
       "    <tr>\n",
       "      <td>5525</td>\n",
       "      <td>0.771200</td>\n",
       "    </tr>\n",
       "    <tr>\n",
       "      <td>5550</td>\n",
       "      <td>0.760000</td>\n",
       "    </tr>\n",
       "    <tr>\n",
       "      <td>5575</td>\n",
       "      <td>0.765700</td>\n",
       "    </tr>\n",
       "    <tr>\n",
       "      <td>5600</td>\n",
       "      <td>0.763900</td>\n",
       "    </tr>\n",
       "    <tr>\n",
       "      <td>5625</td>\n",
       "      <td>0.737400</td>\n",
       "    </tr>\n",
       "    <tr>\n",
       "      <td>5650</td>\n",
       "      <td>0.779300</td>\n",
       "    </tr>\n",
       "    <tr>\n",
       "      <td>5675</td>\n",
       "      <td>0.754800</td>\n",
       "    </tr>\n",
       "    <tr>\n",
       "      <td>5700</td>\n",
       "      <td>0.751100</td>\n",
       "    </tr>\n",
       "    <tr>\n",
       "      <td>5725</td>\n",
       "      <td>0.718700</td>\n",
       "    </tr>\n",
       "    <tr>\n",
       "      <td>5750</td>\n",
       "      <td>0.703900</td>\n",
       "    </tr>\n",
       "    <tr>\n",
       "      <td>5775</td>\n",
       "      <td>0.804200</td>\n",
       "    </tr>\n",
       "    <tr>\n",
       "      <td>5800</td>\n",
       "      <td>0.735800</td>\n",
       "    </tr>\n",
       "    <tr>\n",
       "      <td>5825</td>\n",
       "      <td>0.789600</td>\n",
       "    </tr>\n",
       "    <tr>\n",
       "      <td>5850</td>\n",
       "      <td>0.779100</td>\n",
       "    </tr>\n",
       "    <tr>\n",
       "      <td>5875</td>\n",
       "      <td>0.749900</td>\n",
       "    </tr>\n",
       "    <tr>\n",
       "      <td>5900</td>\n",
       "      <td>0.711100</td>\n",
       "    </tr>\n",
       "    <tr>\n",
       "      <td>5925</td>\n",
       "      <td>0.716000</td>\n",
       "    </tr>\n",
       "    <tr>\n",
       "      <td>5950</td>\n",
       "      <td>0.736200</td>\n",
       "    </tr>\n",
       "    <tr>\n",
       "      <td>5975</td>\n",
       "      <td>0.748600</td>\n",
       "    </tr>\n",
       "    <tr>\n",
       "      <td>6000</td>\n",
       "      <td>0.764500</td>\n",
       "    </tr>\n",
       "    <tr>\n",
       "      <td>6025</td>\n",
       "      <td>0.778000</td>\n",
       "    </tr>\n",
       "    <tr>\n",
       "      <td>6050</td>\n",
       "      <td>0.706400</td>\n",
       "    </tr>\n",
       "    <tr>\n",
       "      <td>6075</td>\n",
       "      <td>0.748900</td>\n",
       "    </tr>\n",
       "    <tr>\n",
       "      <td>6100</td>\n",
       "      <td>0.729000</td>\n",
       "    </tr>\n",
       "    <tr>\n",
       "      <td>6125</td>\n",
       "      <td>0.745900</td>\n",
       "    </tr>\n",
       "    <tr>\n",
       "      <td>6150</td>\n",
       "      <td>0.736900</td>\n",
       "    </tr>\n",
       "    <tr>\n",
       "      <td>6175</td>\n",
       "      <td>0.742200</td>\n",
       "    </tr>\n",
       "    <tr>\n",
       "      <td>6200</td>\n",
       "      <td>0.778900</td>\n",
       "    </tr>\n",
       "    <tr>\n",
       "      <td>6225</td>\n",
       "      <td>0.733500</td>\n",
       "    </tr>\n",
       "    <tr>\n",
       "      <td>6250</td>\n",
       "      <td>0.750600</td>\n",
       "    </tr>\n",
       "    <tr>\n",
       "      <td>6275</td>\n",
       "      <td>0.765000</td>\n",
       "    </tr>\n",
       "    <tr>\n",
       "      <td>6300</td>\n",
       "      <td>0.676800</td>\n",
       "    </tr>\n",
       "    <tr>\n",
       "      <td>6325</td>\n",
       "      <td>0.728300</td>\n",
       "    </tr>\n",
       "    <tr>\n",
       "      <td>6350</td>\n",
       "      <td>0.733200</td>\n",
       "    </tr>\n",
       "    <tr>\n",
       "      <td>6375</td>\n",
       "      <td>0.817700</td>\n",
       "    </tr>\n",
       "    <tr>\n",
       "      <td>6400</td>\n",
       "      <td>0.739300</td>\n",
       "    </tr>\n",
       "    <tr>\n",
       "      <td>6425</td>\n",
       "      <td>0.789700</td>\n",
       "    </tr>\n",
       "    <tr>\n",
       "      <td>6450</td>\n",
       "      <td>0.715800</td>\n",
       "    </tr>\n",
       "    <tr>\n",
       "      <td>6475</td>\n",
       "      <td>0.736100</td>\n",
       "    </tr>\n",
       "    <tr>\n",
       "      <td>6500</td>\n",
       "      <td>0.768700</td>\n",
       "    </tr>\n",
       "    <tr>\n",
       "      <td>6525</td>\n",
       "      <td>0.754400</td>\n",
       "    </tr>\n",
       "    <tr>\n",
       "      <td>6550</td>\n",
       "      <td>0.738700</td>\n",
       "    </tr>\n",
       "    <tr>\n",
       "      <td>6575</td>\n",
       "      <td>0.757900</td>\n",
       "    </tr>\n",
       "    <tr>\n",
       "      <td>6600</td>\n",
       "      <td>0.721300</td>\n",
       "    </tr>\n",
       "    <tr>\n",
       "      <td>6625</td>\n",
       "      <td>0.744700</td>\n",
       "    </tr>\n",
       "    <tr>\n",
       "      <td>6650</td>\n",
       "      <td>0.714200</td>\n",
       "    </tr>\n",
       "    <tr>\n",
       "      <td>6675</td>\n",
       "      <td>0.761600</td>\n",
       "    </tr>\n",
       "    <tr>\n",
       "      <td>6700</td>\n",
       "      <td>0.729400</td>\n",
       "    </tr>\n",
       "    <tr>\n",
       "      <td>6725</td>\n",
       "      <td>0.731200</td>\n",
       "    </tr>\n",
       "    <tr>\n",
       "      <td>6750</td>\n",
       "      <td>0.694900</td>\n",
       "    </tr>\n",
       "    <tr>\n",
       "      <td>6775</td>\n",
       "      <td>0.804200</td>\n",
       "    </tr>\n",
       "    <tr>\n",
       "      <td>6800</td>\n",
       "      <td>0.739600</td>\n",
       "    </tr>\n",
       "    <tr>\n",
       "      <td>6825</td>\n",
       "      <td>0.735000</td>\n",
       "    </tr>\n",
       "    <tr>\n",
       "      <td>6850</td>\n",
       "      <td>0.702300</td>\n",
       "    </tr>\n",
       "    <tr>\n",
       "      <td>6875</td>\n",
       "      <td>0.709100</td>\n",
       "    </tr>\n",
       "    <tr>\n",
       "      <td>6900</td>\n",
       "      <td>0.693000</td>\n",
       "    </tr>\n",
       "    <tr>\n",
       "      <td>6925</td>\n",
       "      <td>0.763400</td>\n",
       "    </tr>\n",
       "    <tr>\n",
       "      <td>6950</td>\n",
       "      <td>0.752200</td>\n",
       "    </tr>\n",
       "    <tr>\n",
       "      <td>6975</td>\n",
       "      <td>0.748000</td>\n",
       "    </tr>\n",
       "    <tr>\n",
       "      <td>7000</td>\n",
       "      <td>0.740500</td>\n",
       "    </tr>\n",
       "    <tr>\n",
       "      <td>7025</td>\n",
       "      <td>0.743700</td>\n",
       "    </tr>\n",
       "    <tr>\n",
       "      <td>7050</td>\n",
       "      <td>0.776900</td>\n",
       "    </tr>\n",
       "    <tr>\n",
       "      <td>7075</td>\n",
       "      <td>0.727600</td>\n",
       "    </tr>\n",
       "    <tr>\n",
       "      <td>7100</td>\n",
       "      <td>0.719200</td>\n",
       "    </tr>\n",
       "    <tr>\n",
       "      <td>7125</td>\n",
       "      <td>0.743400</td>\n",
       "    </tr>\n",
       "    <tr>\n",
       "      <td>7150</td>\n",
       "      <td>0.744100</td>\n",
       "    </tr>\n",
       "    <tr>\n",
       "      <td>7175</td>\n",
       "      <td>0.737900</td>\n",
       "    </tr>\n",
       "    <tr>\n",
       "      <td>7200</td>\n",
       "      <td>0.753000</td>\n",
       "    </tr>\n",
       "    <tr>\n",
       "      <td>7225</td>\n",
       "      <td>0.706100</td>\n",
       "    </tr>\n",
       "    <tr>\n",
       "      <td>7250</td>\n",
       "      <td>0.715500</td>\n",
       "    </tr>\n",
       "    <tr>\n",
       "      <td>7275</td>\n",
       "      <td>0.722900</td>\n",
       "    </tr>\n",
       "    <tr>\n",
       "      <td>7300</td>\n",
       "      <td>0.770900</td>\n",
       "    </tr>\n",
       "    <tr>\n",
       "      <td>7325</td>\n",
       "      <td>0.773500</td>\n",
       "    </tr>\n",
       "    <tr>\n",
       "      <td>7350</td>\n",
       "      <td>0.764800</td>\n",
       "    </tr>\n",
       "    <tr>\n",
       "      <td>7375</td>\n",
       "      <td>0.758700</td>\n",
       "    </tr>\n",
       "    <tr>\n",
       "      <td>7400</td>\n",
       "      <td>0.685400</td>\n",
       "    </tr>\n",
       "    <tr>\n",
       "      <td>7425</td>\n",
       "      <td>0.812600</td>\n",
       "    </tr>\n",
       "    <tr>\n",
       "      <td>7450</td>\n",
       "      <td>0.743200</td>\n",
       "    </tr>\n",
       "    <tr>\n",
       "      <td>7475</td>\n",
       "      <td>0.765500</td>\n",
       "    </tr>\n",
       "    <tr>\n",
       "      <td>7500</td>\n",
       "      <td>0.737100</td>\n",
       "    </tr>\n",
       "    <tr>\n",
       "      <td>7525</td>\n",
       "      <td>0.752300</td>\n",
       "    </tr>\n",
       "    <tr>\n",
       "      <td>7550</td>\n",
       "      <td>0.748100</td>\n",
       "    </tr>\n",
       "    <tr>\n",
       "      <td>7575</td>\n",
       "      <td>0.762900</td>\n",
       "    </tr>\n",
       "    <tr>\n",
       "      <td>7600</td>\n",
       "      <td>0.749000</td>\n",
       "    </tr>\n",
       "    <tr>\n",
       "      <td>7625</td>\n",
       "      <td>0.733400</td>\n",
       "    </tr>\n",
       "    <tr>\n",
       "      <td>7650</td>\n",
       "      <td>0.767300</td>\n",
       "    </tr>\n",
       "    <tr>\n",
       "      <td>7675</td>\n",
       "      <td>0.762000</td>\n",
       "    </tr>\n",
       "    <tr>\n",
       "      <td>7700</td>\n",
       "      <td>0.722700</td>\n",
       "    </tr>\n",
       "    <tr>\n",
       "      <td>7725</td>\n",
       "      <td>0.744800</td>\n",
       "    </tr>\n",
       "    <tr>\n",
       "      <td>7750</td>\n",
       "      <td>0.797200</td>\n",
       "    </tr>\n",
       "    <tr>\n",
       "      <td>7775</td>\n",
       "      <td>0.738900</td>\n",
       "    </tr>\n",
       "    <tr>\n",
       "      <td>7800</td>\n",
       "      <td>0.719800</td>\n",
       "    </tr>\n",
       "    <tr>\n",
       "      <td>7825</td>\n",
       "      <td>0.747200</td>\n",
       "    </tr>\n",
       "    <tr>\n",
       "      <td>7850</td>\n",
       "      <td>0.755500</td>\n",
       "    </tr>\n",
       "    <tr>\n",
       "      <td>7875</td>\n",
       "      <td>0.791300</td>\n",
       "    </tr>\n",
       "    <tr>\n",
       "      <td>7900</td>\n",
       "      <td>0.740800</td>\n",
       "    </tr>\n",
       "    <tr>\n",
       "      <td>7925</td>\n",
       "      <td>0.785500</td>\n",
       "    </tr>\n",
       "    <tr>\n",
       "      <td>7950</td>\n",
       "      <td>0.745600</td>\n",
       "    </tr>\n",
       "    <tr>\n",
       "      <td>7975</td>\n",
       "      <td>0.771600</td>\n",
       "    </tr>\n",
       "    <tr>\n",
       "      <td>8000</td>\n",
       "      <td>0.713300</td>\n",
       "    </tr>\n",
       "    <tr>\n",
       "      <td>8025</td>\n",
       "      <td>0.790500</td>\n",
       "    </tr>\n",
       "    <tr>\n",
       "      <td>8050</td>\n",
       "      <td>0.733000</td>\n",
       "    </tr>\n",
       "    <tr>\n",
       "      <td>8075</td>\n",
       "      <td>0.760500</td>\n",
       "    </tr>\n",
       "    <tr>\n",
       "      <td>8100</td>\n",
       "      <td>0.728300</td>\n",
       "    </tr>\n",
       "    <tr>\n",
       "      <td>8125</td>\n",
       "      <td>0.748500</td>\n",
       "    </tr>\n",
       "    <tr>\n",
       "      <td>8150</td>\n",
       "      <td>0.704700</td>\n",
       "    </tr>\n",
       "    <tr>\n",
       "      <td>8175</td>\n",
       "      <td>0.750700</td>\n",
       "    </tr>\n",
       "    <tr>\n",
       "      <td>8200</td>\n",
       "      <td>0.713000</td>\n",
       "    </tr>\n",
       "    <tr>\n",
       "      <td>8225</td>\n",
       "      <td>0.757600</td>\n",
       "    </tr>\n",
       "    <tr>\n",
       "      <td>8250</td>\n",
       "      <td>0.729300</td>\n",
       "    </tr>\n",
       "    <tr>\n",
       "      <td>8275</td>\n",
       "      <td>0.760200</td>\n",
       "    </tr>\n",
       "    <tr>\n",
       "      <td>8300</td>\n",
       "      <td>0.694200</td>\n",
       "    </tr>\n",
       "    <tr>\n",
       "      <td>8325</td>\n",
       "      <td>0.758800</td>\n",
       "    </tr>\n",
       "  </tbody>\n",
       "</table><p>"
      ],
      "text/plain": [
       "<IPython.core.display.HTML object>"
      ]
     },
     "metadata": {},
     "output_type": "display_data"
    },
    {
     "name": "stderr",
     "output_type": "stream",
     "text": [
      "/home/hermeschen/.cache/pypoetry/virtualenvs/chat-bot-uhayQKRl-py3.11/lib/python3.11/site-packages/peft/utils/other.py:588: UserWarning: Unable to fetch remote file due to the following error (ReadTimeoutError(\"HTTPSConnectionPool(host='huggingface.co', port=443): Read timed out. (read timeout=10)\"), '(Request ID: e445f5bf-db2f-4edb-a19e-051f583fee7a)') - silently ignoring the lookup for the file config.json in meta-llama/Llama-2-7b-chat-hf.\n",
      "  warnings.warn(\n",
      "/home/hermeschen/.cache/pypoetry/virtualenvs/chat-bot-uhayQKRl-py3.11/lib/python3.11/site-packages/peft/utils/save_and_load.py:154: UserWarning: Could not find a config file in meta-llama/Llama-2-7b-chat-hf - will assume that the vocabulary was not modified.\n",
      "  warnings.warn(\n"
     ]
    },
    {
     "data": {
      "text/plain": [
       "TrainOutput(global_step=8340, training_loss=0.79868845985376, metrics={'train_runtime': 63106.1914, 'train_samples_per_second': 0.529, 'train_steps_per_second': 0.132, 'total_flos': 3.844355152962355e+17, 'train_loss': 0.79868845985376, 'epoch': 3.0})"
      ]
     },
     "execution_count": 33,
     "metadata": {},
     "output_type": "execute_result"
    }
   ],
   "source": [
    "tuner.train()"
   ]
  },
  {
   "cell_type": "code",
   "execution_count": 34,
   "metadata": {
    "collapsed": false,
    "execution": {
     "iopub.execute_input": "2024-03-17T17:29:31.307746Z",
     "iopub.status.busy": "2024-03-17T17:29:31.307452Z",
     "iopub.status.idle": "2024-03-17T17:29:31.742306Z",
     "shell.execute_reply": "2024-03-17T17:29:31.741999Z"
    }
   },
   "outputs": [],
   "source": [
    "tuner.model.save_pretrained(fine_tuned_model_name)"
   ]
  },
  {
   "cell_type": "code",
   "execution_count": null,
   "metadata": {},
   "outputs": [],
   "source": []
  }
 ],
 "metadata": {
  "accelerator": "GPU",
  "colab": {
   "gpuType": "T4",
   "provenance": []
  },
  "kernelspec": {
   "display_name": "Python 3 (ipykernel)",
   "language": "python",
   "name": "python3"
  },
  "language_info": {
   "codemirror_mode": {
    "name": "ipython",
    "version": 3
   },
   "file_extension": ".py",
   "mimetype": "text/x-python",
   "name": "python",
   "nbconvert_exporter": "python",
   "pygments_lexer": "ipython3",
   "version": "3.11.8"
  },
  "widgets": {
   "application/vnd.jupyter.widget-state+json": {
    "state": {
     "2b7f52a715924339b2d2ca3d5a0fc02d": {
      "model_module": "@jupyter-widgets/base",
      "model_module_version": "2.0.0",
      "model_name": "LayoutModel",
      "state": {
       "_model_module": "@jupyter-widgets/base",
       "_model_module_version": "2.0.0",
       "_model_name": "LayoutModel",
       "_view_count": null,
       "_view_module": "@jupyter-widgets/base",
       "_view_module_version": "2.0.0",
       "_view_name": "LayoutView",
       "align_content": null,
       "align_items": null,
       "align_self": null,
       "border_bottom": null,
       "border_left": null,
       "border_right": null,
       "border_top": null,
       "bottom": null,
       "display": null,
       "flex": null,
       "flex_flow": null,
       "grid_area": null,
       "grid_auto_columns": null,
       "grid_auto_flow": null,
       "grid_auto_rows": null,
       "grid_column": null,
       "grid_gap": null,
       "grid_row": null,
       "grid_template_areas": null,
       "grid_template_columns": null,
       "grid_template_rows": null,
       "height": null,
       "justify_content": null,
       "justify_items": null,
       "left": null,
       "margin": null,
       "max_height": null,
       "max_width": null,
       "min_height": null,
       "min_width": null,
       "object_fit": null,
       "object_position": null,
       "order": null,
       "overflow": null,
       "padding": null,
       "right": null,
       "top": null,
       "visibility": null,
       "width": null
      }
     },
     "2bd2c1dc7b7447eca8c01a9ed88a6001": {
      "model_module": "@jupyter-widgets/controls",
      "model_module_version": "2.0.0",
      "model_name": "FloatProgressModel",
      "state": {
       "_dom_classes": [],
       "_model_module": "@jupyter-widgets/controls",
       "_model_module_version": "2.0.0",
       "_model_name": "FloatProgressModel",
       "_view_count": null,
       "_view_module": "@jupyter-widgets/controls",
       "_view_module_version": "2.0.0",
       "_view_name": "ProgressView",
       "bar_style": "success",
       "description": "",
       "description_allow_html": false,
       "layout": "IPY_MODEL_9545dbca917d4c529de8cab5e88ab802",
       "max": 2.0,
       "min": 0.0,
       "orientation": "horizontal",
       "style": "IPY_MODEL_c0bf096919ce437e82366fab1aed6d66",
       "tabbable": null,
       "tooltip": null,
       "value": 2.0
      }
     },
     "6190f0ee16244d5f80c2145654259e51": {
      "model_module": "@jupyter-widgets/controls",
      "model_module_version": "2.0.0",
      "model_name": "HTMLStyleModel",
      "state": {
       "_model_module": "@jupyter-widgets/controls",
       "_model_module_version": "2.0.0",
       "_model_name": "HTMLStyleModel",
       "_view_count": null,
       "_view_module": "@jupyter-widgets/base",
       "_view_module_version": "2.0.0",
       "_view_name": "StyleView",
       "background": null,
       "description_width": "",
       "font_size": null,
       "text_color": null
      }
     },
     "9545dbca917d4c529de8cab5e88ab802": {
      "model_module": "@jupyter-widgets/base",
      "model_module_version": "2.0.0",
      "model_name": "LayoutModel",
      "state": {
       "_model_module": "@jupyter-widgets/base",
       "_model_module_version": "2.0.0",
       "_model_name": "LayoutModel",
       "_view_count": null,
       "_view_module": "@jupyter-widgets/base",
       "_view_module_version": "2.0.0",
       "_view_name": "LayoutView",
       "align_content": null,
       "align_items": null,
       "align_self": null,
       "border_bottom": null,
       "border_left": null,
       "border_right": null,
       "border_top": null,
       "bottom": null,
       "display": null,
       "flex": null,
       "flex_flow": null,
       "grid_area": null,
       "grid_auto_columns": null,
       "grid_auto_flow": null,
       "grid_auto_rows": null,
       "grid_column": null,
       "grid_gap": null,
       "grid_row": null,
       "grid_template_areas": null,
       "grid_template_columns": null,
       "grid_template_rows": null,
       "height": null,
       "justify_content": null,
       "justify_items": null,
       "left": null,
       "margin": null,
       "max_height": null,
       "max_width": null,
       "min_height": null,
       "min_width": null,
       "object_fit": null,
       "object_position": null,
       "order": null,
       "overflow": null,
       "padding": null,
       "right": null,
       "top": null,
       "visibility": null,
       "width": null
      }
     },
     "9955ff5df3b94d6f9d2b6e27df304686": {
      "model_module": "@jupyter-widgets/controls",
      "model_module_version": "2.0.0",
      "model_name": "HTMLModel",
      "state": {
       "_dom_classes": [],
       "_model_module": "@jupyter-widgets/controls",
       "_model_module_version": "2.0.0",
       "_model_name": "HTMLModel",
       "_view_count": null,
       "_view_module": "@jupyter-widgets/controls",
       "_view_module_version": "2.0.0",
       "_view_name": "HTMLView",
       "description": "",
       "description_allow_html": false,
       "layout": "IPY_MODEL_e6c4ff3fa1d5475fb22b605b702c5155",
       "placeholder": "​",
       "style": "IPY_MODEL_b74da2f5e9694f8ab607998a522d91ce",
       "tabbable": null,
       "tooltip": null,
       "value": "Loading checkpoint shards: 100%"
      }
     },
     "b48789d2c20a4140b447ae28f84913d0": {
      "model_module": "@jupyter-widgets/controls",
      "model_module_version": "2.0.0",
      "model_name": "HTMLModel",
      "state": {
       "_dom_classes": [],
       "_model_module": "@jupyter-widgets/controls",
       "_model_module_version": "2.0.0",
       "_model_name": "HTMLModel",
       "_view_count": null,
       "_view_module": "@jupyter-widgets/controls",
       "_view_module_version": "2.0.0",
       "_view_name": "HTMLView",
       "description": "",
       "description_allow_html": false,
       "layout": "IPY_MODEL_2b7f52a715924339b2d2ca3d5a0fc02d",
       "placeholder": "​",
       "style": "IPY_MODEL_6190f0ee16244d5f80c2145654259e51",
       "tabbable": null,
       "tooltip": null,
       "value": " 2/2 [00:03&lt;00:00,  1.42s/it]"
      }
     },
     "b74da2f5e9694f8ab607998a522d91ce": {
      "model_module": "@jupyter-widgets/controls",
      "model_module_version": "2.0.0",
      "model_name": "HTMLStyleModel",
      "state": {
       "_model_module": "@jupyter-widgets/controls",
       "_model_module_version": "2.0.0",
       "_model_name": "HTMLStyleModel",
       "_view_count": null,
       "_view_module": "@jupyter-widgets/base",
       "_view_module_version": "2.0.0",
       "_view_name": "StyleView",
       "background": null,
       "description_width": "",
       "font_size": null,
       "text_color": null
      }
     },
     "c0bf096919ce437e82366fab1aed6d66": {
      "model_module": "@jupyter-widgets/controls",
      "model_module_version": "2.0.0",
      "model_name": "ProgressStyleModel",
      "state": {
       "_model_module": "@jupyter-widgets/controls",
       "_model_module_version": "2.0.0",
       "_model_name": "ProgressStyleModel",
       "_view_count": null,
       "_view_module": "@jupyter-widgets/base",
       "_view_module_version": "2.0.0",
       "_view_name": "StyleView",
       "bar_color": null,
       "description_width": ""
      }
     },
     "c1399fbbd87a43caa83b8d25b83f4ccc": {
      "model_module": "@jupyter-widgets/base",
      "model_module_version": "2.0.0",
      "model_name": "LayoutModel",
      "state": {
       "_model_module": "@jupyter-widgets/base",
       "_model_module_version": "2.0.0",
       "_model_name": "LayoutModel",
       "_view_count": null,
       "_view_module": "@jupyter-widgets/base",
       "_view_module_version": "2.0.0",
       "_view_name": "LayoutView",
       "align_content": null,
       "align_items": null,
       "align_self": null,
       "border_bottom": null,
       "border_left": null,
       "border_right": null,
       "border_top": null,
       "bottom": null,
       "display": null,
       "flex": null,
       "flex_flow": null,
       "grid_area": null,
       "grid_auto_columns": null,
       "grid_auto_flow": null,
       "grid_auto_rows": null,
       "grid_column": null,
       "grid_gap": null,
       "grid_row": null,
       "grid_template_areas": null,
       "grid_template_columns": null,
       "grid_template_rows": null,
       "height": null,
       "justify_content": null,
       "justify_items": null,
       "left": null,
       "margin": null,
       "max_height": null,
       "max_width": null,
       "min_height": null,
       "min_width": null,
       "object_fit": null,
       "object_position": null,
       "order": null,
       "overflow": null,
       "padding": null,
       "right": null,
       "top": null,
       "visibility": null,
       "width": null
      }
     },
     "e6c4ff3fa1d5475fb22b605b702c5155": {
      "model_module": "@jupyter-widgets/base",
      "model_module_version": "2.0.0",
      "model_name": "LayoutModel",
      "state": {
       "_model_module": "@jupyter-widgets/base",
       "_model_module_version": "2.0.0",
       "_model_name": "LayoutModel",
       "_view_count": null,
       "_view_module": "@jupyter-widgets/base",
       "_view_module_version": "2.0.0",
       "_view_name": "LayoutView",
       "align_content": null,
       "align_items": null,
       "align_self": null,
       "border_bottom": null,
       "border_left": null,
       "border_right": null,
       "border_top": null,
       "bottom": null,
       "display": null,
       "flex": null,
       "flex_flow": null,
       "grid_area": null,
       "grid_auto_columns": null,
       "grid_auto_flow": null,
       "grid_auto_rows": null,
       "grid_column": null,
       "grid_gap": null,
       "grid_row": null,
       "grid_template_areas": null,
       "grid_template_columns": null,
       "grid_template_rows": null,
       "height": null,
       "justify_content": null,
       "justify_items": null,
       "left": null,
       "margin": null,
       "max_height": null,
       "max_width": null,
       "min_height": null,
       "min_width": null,
       "object_fit": null,
       "object_position": null,
       "order": null,
       "overflow": null,
       "padding": null,
       "right": null,
       "top": null,
       "visibility": null,
       "width": null
      }
     },
     "f4010bea48cf46569f8f2578a7830461": {
      "model_module": "@jupyter-widgets/controls",
      "model_module_version": "2.0.0",
      "model_name": "HBoxModel",
      "state": {
       "_dom_classes": [],
       "_model_module": "@jupyter-widgets/controls",
       "_model_module_version": "2.0.0",
       "_model_name": "HBoxModel",
       "_view_count": null,
       "_view_module": "@jupyter-widgets/controls",
       "_view_module_version": "2.0.0",
       "_view_name": "HBoxView",
       "box_style": "",
       "children": [
        "IPY_MODEL_9955ff5df3b94d6f9d2b6e27df304686",
        "IPY_MODEL_2bd2c1dc7b7447eca8c01a9ed88a6001",
        "IPY_MODEL_b48789d2c20a4140b447ae28f84913d0"
       ],
       "layout": "IPY_MODEL_c1399fbbd87a43caa83b8d25b83f4ccc",
       "tabbable": null,
       "tooltip": null
      }
     }
    },
    "version_major": 2,
    "version_minor": 0
   }
  }
 },
 "nbformat": 4,
 "nbformat_minor": 0
}
