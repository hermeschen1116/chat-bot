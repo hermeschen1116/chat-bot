{
 "cells": [
  {
   "cell_type": "code",
   "id": "initial_id",
   "metadata": {
    "collapsed": true,
    "ExecuteTime": {
     "end_time": "2024-04-16T06:34:34.943328Z",
     "start_time": "2024-04-16T06:34:34.008196Z"
    }
   },
   "source": [
    "import torch\n",
    "from SimilarityAnalyser import SimilarityAnalyser"
   ],
   "outputs": [],
   "execution_count": 1
  },
  {
   "metadata": {
    "ExecuteTime": {
     "end_time": "2024-04-16T06:34:34.946441Z",
     "start_time": "2024-04-16T06:34:34.944583Z"
    }
   },
   "cell_type": "code",
   "source": [
    "dtype = torch.float32\n",
    "device: str = \"cpu\""
   ],
   "id": "7843c1eef483ad9e",
   "outputs": [],
   "execution_count": 2
  },
  {
   "metadata": {
    "ExecuteTime": {
     "end_time": "2024-04-16T06:34:34.949695Z",
     "start_time": "2024-04-16T06:34:34.947332Z"
    }
   },
   "cell_type": "code",
   "source": [
    "def dummy_representation_generator() -> torch.tensor:\n",
    "    return torch.clamp(torch.rand(7, dtype=dtype, device=device), -1, 1)"
   ],
   "id": "950180f439d6e8e0",
   "outputs": [],
   "execution_count": 3
  },
  {
   "metadata": {
    "ExecuteTime": {
     "end_time": "2024-04-16T06:34:34.956476Z",
     "start_time": "2024-04-16T06:34:34.950474Z"
    }
   },
   "cell_type": "code",
   "source": [
    "representations: list[torch.tensor] = [dummy_representation_generator() for _ in range(7)]\n",
    "representations"
   ],
   "id": "27c91b4476dd8d9d",
   "outputs": [
    {
     "data": {
      "text/plain": [
       "[tensor([0.7290, 0.2511, 0.4525, 0.3009, 0.5804, 0.9012, 0.7485]),\n",
       " tensor([0.1633, 0.8735, 0.3068, 0.6218, 0.8081, 0.8080, 0.4277]),\n",
       " tensor([0.4205, 0.1770, 0.1013, 0.3882, 0.3320, 0.7522, 0.3223]),\n",
       " tensor([0.6203, 0.4937, 0.7826, 0.8575, 0.3066, 0.7256, 0.9034]),\n",
       " tensor([0.2746, 0.3678, 0.3002, 0.4593, 0.5033, 0.9030, 0.2519]),\n",
       " tensor([0.6064, 0.3059, 0.8007, 0.6375, 0.7155, 0.1282, 0.5559]),\n",
       " tensor([0.8948, 0.7201, 0.7954, 0.3909, 0.9685, 0.0663, 0.2052])]"
      ]
     },
     "execution_count": 4,
     "metadata": {},
     "output_type": "execute_result"
    }
   ],
   "execution_count": 4
  },
  {
   "metadata": {
    "ExecuteTime": {
     "end_time": "2024-04-16T06:34:34.961185Z",
     "start_time": "2024-04-16T06:34:34.958344Z"
    }
   },
   "cell_type": "code",
   "source": [
    "ideal_representation: torch.tensor = dummy_representation_generator()\n",
    "ideal_representation"
   ],
   "id": "2eb00396eaba40c5",
   "outputs": [
    {
     "data": {
      "text/plain": [
       "tensor([0.2547, 0.7189, 0.8889, 0.1536, 0.0043, 0.1318, 0.7354])"
      ]
     },
     "execution_count": 5,
     "metadata": {},
     "output_type": "execute_result"
    }
   ],
   "execution_count": 5
  },
  {
   "metadata": {
    "ExecuteTime": {
     "end_time": "2024-04-16T06:34:34.964327Z",
     "start_time": "2024-04-16T06:34:34.962041Z"
    }
   },
   "cell_type": "code",
   "source": "analyser = SimilarityAnalyser(0.8, dtype=dtype, device=device)",
   "id": "b14b042b0f93afe5",
   "outputs": [],
   "execution_count": 6
  },
  {
   "metadata": {
    "ExecuteTime": {
     "end_time": "2024-04-16T06:34:34.970184Z",
     "start_time": "2024-04-16T06:34:34.965885Z"
    }
   },
   "cell_type": "code",
   "source": "analyser(representations, ideal_representation)",
   "id": "8f8708d786adfe7f",
   "outputs": [
    {
     "data": {
      "text/plain": [
       "tensor([0.7608, 0.7485, 0.3693, 1.0757, 0.5007, 0.8255, 0.8581])"
      ]
     },
     "execution_count": 7,
     "metadata": {},
     "output_type": "execute_result"
    }
   ],
   "execution_count": 7
  },
  {
   "metadata": {
    "ExecuteTime": {
     "end_time": "2024-04-16T06:34:34.974247Z",
     "start_time": "2024-04-16T06:34:34.970946Z"
    }
   },
   "cell_type": "code",
   "source": "analyser.get_max_similarity()",
   "id": "8b423de04673386e",
   "outputs": [
    {
     "data": {
      "text/plain": [
       "0.7608038187026978"
      ]
     },
     "execution_count": 8,
     "metadata": {},
     "output_type": "execute_result"
    }
   ],
   "execution_count": 8
  },
  {
   "metadata": {
    "ExecuteTime": {
     "end_time": "2024-04-16T06:34:34.978320Z",
     "start_time": "2024-04-16T06:34:34.974835Z"
    }
   },
   "cell_type": "code",
   "source": "analyser.get_most_similar_representation()",
   "id": "1d42b14f703cd591",
   "outputs": [
    {
     "data": {
      "text/plain": [
       "{'representations': [0.7290189862251282,\n",
       "  0.251118540763855,\n",
       "  0.45251137018203735,\n",
       "  0.30093586444854736,\n",
       "  0.5804073810577393,\n",
       "  0.9011753797531128,\n",
       "  0.7484846711158752],\n",
       " 'similarity': 0.7608038187026978}"
      ]
     },
     "execution_count": 9,
     "metadata": {},
     "output_type": "execute_result"
    }
   ],
   "execution_count": 9
  },
  {
   "metadata": {
    "ExecuteTime": {
     "end_time": "2024-04-16T06:34:34.982584Z",
     "start_time": "2024-04-16T06:34:34.979008Z"
    }
   },
   "cell_type": "code",
   "source": "analyser.get_most_similar_representation_index()",
   "id": "ff49d735c3e6bdda",
   "outputs": [
    {
     "data": {
      "text/plain": [
       "0"
      ]
     },
     "execution_count": 10,
     "metadata": {},
     "output_type": "execute_result"
    }
   ],
   "execution_count": 10
  },
  {
   "metadata": {
    "ExecuteTime": {
     "end_time": "2024-04-16T06:34:34.984795Z",
     "start_time": "2024-04-16T06:34:34.983198Z"
    }
   },
   "cell_type": "code",
   "source": "",
   "id": "1b36231ef484ea79",
   "outputs": [],
   "execution_count": 10
  }
 ],
 "metadata": {
  "kernelspec": {
   "display_name": "Python 3",
   "language": "python",
   "name": "python3"
  },
  "language_info": {
   "codemirror_mode": {
    "name": "ipython",
    "version": 2
   },
   "file_extension": ".py",
   "mimetype": "text/x-python",
   "name": "python",
   "nbconvert_exporter": "python",
   "pygments_lexer": "ipython2",
   "version": "2.7.6"
  }
 },
 "nbformat": 4,
 "nbformat_minor": 5
}
