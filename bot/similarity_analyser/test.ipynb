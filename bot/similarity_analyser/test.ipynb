{
 "cells": [
  {
   "cell_type": "code",
   "id": "initial_id",
   "metadata": {
    "collapsed": true,
    "ExecuteTime": {
     "end_time": "2024-04-16T06:43:12.922568Z",
     "start_time": "2024-04-16T06:43:12.038853Z"
    }
   },
   "source": [
    "import torch\n",
    "from SimilarityAnalyser import SimilarityAnalyser"
   ],
   "outputs": [],
   "execution_count": 1
  },
  {
   "metadata": {
    "ExecuteTime": {
     "end_time": "2024-04-16T06:43:12.925794Z",
     "start_time": "2024-04-16T06:43:12.923915Z"
    }
   },
   "cell_type": "code",
   "source": [
    "dtype = torch.float32\n",
    "device: str = \"cpu\""
   ],
   "id": "7843c1eef483ad9e",
   "outputs": [],
   "execution_count": 2
  },
  {
   "metadata": {
    "ExecuteTime": {
     "end_time": "2024-04-16T06:43:12.928564Z",
     "start_time": "2024-04-16T06:43:12.926571Z"
    }
   },
   "cell_type": "code",
   "source": [
    "def dummy_representation_generator() -> torch.tensor:\n",
    "    return torch.clamp(torch.rand(7, dtype=dtype, device=device), -1, 1)"
   ],
   "id": "950180f439d6e8e0",
   "outputs": [],
   "execution_count": 3
  },
  {
   "metadata": {
    "ExecuteTime": {
     "end_time": "2024-04-16T06:43:12.935524Z",
     "start_time": "2024-04-16T06:43:12.929291Z"
    }
   },
   "cell_type": "code",
   "source": [
    "representations: list[torch.tensor] = [dummy_representation_generator() for _ in range(7)]\n",
    "representations"
   ],
   "id": "27c91b4476dd8d9d",
   "outputs": [
    {
     "data": {
      "text/plain": [
       "[tensor([0.8217, 0.2798, 0.2414, 0.3736, 0.4314, 0.0925, 0.1266]),\n",
       " tensor([0.1031, 0.6175, 0.3619, 0.3477, 0.1677, 0.9407, 0.4888]),\n",
       " tensor([0.0542, 0.7901, 0.2594, 0.4039, 0.9206, 0.6410, 0.8666]),\n",
       " tensor([0.7071, 0.2724, 0.6894, 0.8019, 0.4792, 0.6290, 0.7689]),\n",
       " tensor([0.9204, 0.1526, 0.7518, 0.5034, 0.8640, 0.9854, 0.5827]),\n",
       " tensor([0.9763, 0.8896, 0.3347, 0.9345, 0.5914, 0.2590, 0.4803]),\n",
       " tensor([0.0545, 0.7564, 0.7842, 0.9407, 0.7005, 0.5920, 0.9107])]"
      ]
     },
     "execution_count": 4,
     "metadata": {},
     "output_type": "execute_result"
    }
   ],
   "execution_count": 4
  },
  {
   "metadata": {
    "ExecuteTime": {
     "end_time": "2024-04-16T06:43:12.940057Z",
     "start_time": "2024-04-16T06:43:12.937211Z"
    }
   },
   "cell_type": "code",
   "source": [
    "ideal_representation: torch.tensor = dummy_representation_generator()\n",
    "ideal_representation"
   ],
   "id": "2eb00396eaba40c5",
   "outputs": [
    {
     "data": {
      "text/plain": [
       "tensor([0.7336, 0.6280, 0.9341, 0.7592, 0.4753, 0.5371, 0.2454])"
      ]
     },
     "execution_count": 5,
     "metadata": {},
     "output_type": "execute_result"
    }
   ],
   "execution_count": 5
  },
  {
   "metadata": {
    "ExecuteTime": {
     "end_time": "2024-04-16T06:43:12.942520Z",
     "start_time": "2024-04-16T06:43:12.940839Z"
    }
   },
   "cell_type": "code",
   "source": "analyser = SimilarityAnalyser(0.4, dtype=dtype, device=device)",
   "id": "b14b042b0f93afe5",
   "outputs": [],
   "execution_count": 6
  },
  {
   "metadata": {
    "ExecuteTime": {
     "end_time": "2024-04-16T06:43:12.946423Z",
     "start_time": "2024-04-16T06:43:12.943267Z"
    }
   },
   "cell_type": "code",
   "source": "analyser(representations, ideal_representation)",
   "id": "8f8708d786adfe7f",
   "outputs": [
    {
     "data": {
      "text/plain": [
       "tensor([0.5323, 0.5989, 0.7035, 0.9124, 0.9940, 0.9591, 0.9595])"
      ]
     },
     "execution_count": 7,
     "metadata": {},
     "output_type": "execute_result"
    }
   ],
   "execution_count": 7
  },
  {
   "metadata": {
    "ExecuteTime": {
     "end_time": "2024-04-16T06:43:12.949633Z",
     "start_time": "2024-04-16T06:43:12.947202Z"
    }
   },
   "cell_type": "code",
   "source": "analyser.get_max_similarity()",
   "id": "8b423de04673386e",
   "outputs": [
    {
     "data": {
      "text/plain": [
       "0"
      ]
     },
     "execution_count": 8,
     "metadata": {},
     "output_type": "execute_result"
    }
   ],
   "execution_count": 8
  },
  {
   "metadata": {
    "ExecuteTime": {
     "end_time": "2024-04-16T06:43:12.953147Z",
     "start_time": "2024-04-16T06:43:12.950458Z"
    }
   },
   "cell_type": "code",
   "source": "analyser.get_most_similar_representation()",
   "id": "1d42b14f703cd591",
   "outputs": [
    {
     "data": {
      "text/plain": [
       "{'representations': [], 'similarity': 0}"
      ]
     },
     "execution_count": 9,
     "metadata": {},
     "output_type": "execute_result"
    }
   ],
   "execution_count": 9
  },
  {
   "metadata": {
    "ExecuteTime": {
     "end_time": "2024-04-16T06:43:12.956411Z",
     "start_time": "2024-04-16T06:43:12.953950Z"
    }
   },
   "cell_type": "code",
   "source": "analyser.get_most_similar_representation_index()",
   "id": "ff49d735c3e6bdda",
   "outputs": [
    {
     "data": {
      "text/plain": [
       "[]"
      ]
     },
     "execution_count": 10,
     "metadata": {},
     "output_type": "execute_result"
    }
   ],
   "execution_count": 10
  },
  {
   "metadata": {
    "ExecuteTime": {
     "end_time": "2024-04-16T06:43:12.958441Z",
     "start_time": "2024-04-16T06:43:12.957113Z"
    }
   },
   "cell_type": "code",
   "source": "",
   "id": "1b36231ef484ea79",
   "outputs": [],
   "execution_count": 10
  }
 ],
 "metadata": {
  "kernelspec": {
   "display_name": "Python 3",
   "language": "python",
   "name": "python3"
  },
  "language_info": {
   "codemirror_mode": {
    "name": "ipython",
    "version": 2
   },
   "file_extension": ".py",
   "mimetype": "text/x-python",
   "name": "python",
   "nbconvert_exporter": "python",
   "pygments_lexer": "ipython2",
   "version": "2.7.6"
  }
 },
 "nbformat": 4,
 "nbformat_minor": 5
}
