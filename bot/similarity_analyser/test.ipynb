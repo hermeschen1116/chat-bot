{
 "cells": [
  {
   "cell_type": "code",
   "id": "initial_id",
   "metadata": {
    "collapsed": true,
    "ExecuteTime": {
     "end_time": "2024-04-15T17:25:44.450643Z",
     "start_time": "2024-04-15T17:25:44.447206Z"
    }
   },
   "source": [
    "import torch\n",
    "from SimilarityAnalyser import SimilarityAnalyser"
   ],
   "outputs": [],
   "execution_count": 15
  },
  {
   "metadata": {
    "ExecuteTime": {
     "end_time": "2024-04-15T17:28:09.350443Z",
     "start_time": "2024-04-15T17:28:09.346562Z"
    }
   },
   "cell_type": "code",
   "source": [
    "representations: list = [torch.clamp(torch.rand(7, dtype=torch.float32), min=-1, max=1) for _ in range(7)]\n",
    "ideal_representation = torch.clamp(torch.rand(7, dtype=torch.float32), min=-1, max=1)"
   ],
   "id": "30c47671f1a96a50",
   "outputs": [],
   "execution_count": 25
  },
  {
   "metadata": {
    "ExecuteTime": {
     "end_time": "2024-04-15T17:25:44.459676Z",
     "start_time": "2024-04-15T17:25:44.457433Z"
    }
   },
   "cell_type": "code",
   "source": "analyser = SimilarityAnalyser(0.7)",
   "id": "f3d4a1f53bc004da",
   "outputs": [],
   "execution_count": 17
  },
  {
   "metadata": {
    "ExecuteTime": {
     "end_time": "2024-04-15T17:25:44.463987Z",
     "start_time": "2024-04-15T17:25:44.461017Z"
    }
   },
   "cell_type": "code",
   "source": "analyser(representations, ideal_representation)",
   "id": "fb1dd03536f3f88c",
   "outputs": [
    {
     "data": {
      "text/plain": [
       "tensor([0.5770, 0.6464, 0.5190, 0.9392, 0.5931, 0.6070, 0.7978])"
      ]
     },
     "execution_count": 18,
     "metadata": {},
     "output_type": "execute_result"
    }
   ],
   "execution_count": 18
  },
  {
   "metadata": {
    "ExecuteTime": {
     "end_time": "2024-04-15T17:25:44.468384Z",
     "start_time": "2024-04-15T17:25:44.464798Z"
    }
   },
   "cell_type": "code",
   "source": "analyser.cache",
   "id": "714b97cb62ba5dad",
   "outputs": [
    {
     "data": {
      "text/plain": [
       "{'representations': tensor([[0.1307, 0.4271, 0.1470, 0.0822, 0.7135, 0.4340, 0.8956],\n",
       "         [0.3026, 0.2873, 0.6459, 0.8356, 0.9763, 0.5423, 0.5700],\n",
       "         [0.3655, 0.6828, 0.3553, 0.3539, 0.1594, 0.4299, 0.2125],\n",
       "         [0.6713, 0.7771, 0.9645, 0.0295, 0.1837, 0.7586, 0.8946],\n",
       "         [0.7823, 0.4156, 0.8821, 0.2163, 0.9176, 0.1419, 0.2575],\n",
       "         [0.2032, 0.8842, 0.2742, 0.4179, 0.0248, 0.8681, 0.1601],\n",
       "         [0.8051, 0.6730, 0.2509, 0.0815, 0.9035, 0.5056, 0.6583]]),\n",
       " 'ideal_representation': tensor([0.8985, 0.8516, 0.3151, 0.2698, 0.1963, 0.7861, 0.9430]),\n",
       " 'similarity': tensor([0.5770, 0.6464, 0.5190, 0.9392, 0.5931, 0.6070, 0.7978])}"
      ]
     },
     "execution_count": 19,
     "metadata": {},
     "output_type": "execute_result"
    }
   ],
   "execution_count": 19
  },
  {
   "metadata": {
    "ExecuteTime": {
     "end_time": "2024-04-15T17:25:44.471915Z",
     "start_time": "2024-04-15T17:25:44.469203Z"
    }
   },
   "cell_type": "code",
   "source": "analyser.get_most_similar_representation()",
   "id": "88b3061ba4c886b7",
   "outputs": [
    {
     "data": {
      "text/plain": [
       "{'representations': [0.30264705419540405,\n",
       "  0.28726762533187866,\n",
       "  0.6459168195724487,\n",
       "  0.8355845212936401,\n",
       "  0.9763326048851013,\n",
       "  0.542347252368927,\n",
       "  0.56999272108078],\n",
       " 'similarity': 0.6464068293571472}"
      ]
     },
     "execution_count": 20,
     "metadata": {},
     "output_type": "execute_result"
    }
   ],
   "execution_count": 20
  },
  {
   "metadata": {
    "ExecuteTime": {
     "end_time": "2024-04-15T17:25:44.475745Z",
     "start_time": "2024-04-15T17:25:44.473303Z"
    }
   },
   "cell_type": "code",
   "source": "analyser.get_most_similar_representation_index()",
   "id": "b46e56db2798aed6",
   "outputs": [
    {
     "data": {
      "text/plain": [
       "1"
      ]
     },
     "execution_count": 21,
     "metadata": {},
     "output_type": "execute_result"
    }
   ],
   "execution_count": 21
  },
  {
   "metadata": {
    "ExecuteTime": {
     "end_time": "2024-04-15T17:25:44.483383Z",
     "start_time": "2024-04-15T17:25:44.481960Z"
    }
   },
   "cell_type": "code",
   "source": "",
   "id": "86aaeb68cf42f0fe",
   "outputs": [],
   "execution_count": 21
  }
 ],
 "metadata": {
  "kernelspec": {
   "display_name": "Python 3",
   "language": "python",
   "name": "python3"
  },
  "language_info": {
   "codemirror_mode": {
    "name": "ipython",
    "version": 2
   },
   "file_extension": ".py",
   "mimetype": "text/x-python",
   "name": "python",
   "nbconvert_exporter": "python",
   "pygments_lexer": "ipython2",
   "version": "2.7.6"
  }
 },
 "nbformat": 4,
 "nbformat_minor": 5
}
