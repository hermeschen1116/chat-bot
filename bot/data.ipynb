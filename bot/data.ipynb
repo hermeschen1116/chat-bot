{
 "cells": [
  {
   "cell_type": "code",
   "outputs": [],
   "source": [
    "from pprint import pprint\n",
    "import os\n",
    "from huggingface_hub import login\n",
    "from datasets import load_dataset"
   ],
   "metadata": {
    "collapsed": false,
    "ExecuteTime": {
     "end_time": "2024-03-10T14:23:01.840116Z",
     "start_time": "2024-03-10T14:23:01.826439Z"
    }
   },
   "id": "c2fbb7de55a79c34",
   "execution_count": 254
  },
  {
   "cell_type": "code",
   "execution_count": 255,
   "id": "initial_id",
   "metadata": {
    "collapsed": true,
    "ExecuteTime": {
     "end_time": "2024-03-10T14:23:02.359537Z",
     "start_time": "2024-03-10T14:23:01.844233Z"
    }
   },
   "outputs": [
    {
     "name": "stdout",
     "output_type": "stream",
     "text": [
      "Token is valid (permission: read).\n",
      "Your token has been saved in your configured git credential helpers (osxkeychain).\n",
      "Your token has been saved to /Users/hermeschen/.cache/huggingface/token\n",
      "Login successful\n"
     ]
    }
   ],
   "source": [
    "login(token=os.environ.get(\"HF_TOKEN\", \"\"), add_to_git_credential=True)"
   ]
  },
  {
   "cell_type": "markdown",
   "source": [
    "# Load Dataset"
   ],
   "metadata": {
    "collapsed": false
   },
   "id": "4b92e6c3667794d3"
  },
  {
   "cell_type": "code",
   "outputs": [],
   "source": [
    "dataset_name: str = \"benjaminbeilharz/better_daily_dialog\""
   ],
   "metadata": {
    "collapsed": false,
    "ExecuteTime": {
     "end_time": "2024-03-10T14:23:02.363403Z",
     "start_time": "2024-03-10T14:23:02.360828Z"
    }
   },
   "id": "9fa768d30892945a",
   "execution_count": 256
  },
  {
   "cell_type": "code",
   "outputs": [
    {
     "name": "stderr",
     "output_type": "stream",
     "text": [
      "Using the latest cached version of the dataset since benjaminbeilharz/better_daily_dialog couldn't be found on the Hugging Face Hub\n",
      "Found the latest cached dataset configuration 'default' at /Users/hermeschen/.cache/huggingface/datasets/benjaminbeilharz___better_daily_dialog/default/0.0.0/3c24970e7546b993a185e109f6ebfde72812f6ec (last modified on Sun Mar 10 23:15:42 2024).\n"
     ]
    }
   ],
   "source": [
    "dataset = load_dataset(dataset_name, num_proc=8, trust_remote_code=True)"
   ],
   "metadata": {
    "collapsed": false,
    "ExecuteTime": {
     "end_time": "2024-03-10T14:23:05.887829Z",
     "start_time": "2024-03-10T14:23:02.364151Z"
    }
   },
   "id": "9e85b39808132a2",
   "execution_count": 257
  },
  {
   "cell_type": "markdown",
   "source": [
    "# Convert Emotion ID to Text Label"
   ],
   "metadata": {
    "collapsed": false
   },
   "id": "9d219d5e2dd59805"
  },
  {
   "cell_type": "code",
   "outputs": [],
   "source": [
    "dataset = dataset.rename_column(\"emotion\", \"emotion_id\")"
   ],
   "metadata": {
    "collapsed": false,
    "ExecuteTime": {
     "end_time": "2024-03-10T14:23:05.895439Z",
     "start_time": "2024-03-10T14:23:05.890025Z"
    }
   },
   "id": "90b24cb179aa3d15",
   "execution_count": 258
  },
  {
   "cell_type": "code",
   "outputs": [
    {
     "name": "stdout",
     "output_type": "stream",
     "text": [
      "{0: 'neutral',\n",
      " 1: 'anger',\n",
      " 2: 'disgust',\n",
      " 3: 'fear',\n",
      " 4: 'happiness',\n",
      " 5: 'sadness',\n",
      " 6: 'surprise'}\n"
     ]
    }
   ],
   "source": [
    "emotion_labels: list = [\"neutral\", \"anger\", \"disgust\", \"fear\", \"happiness\", \"sadness\", \"surprise\"]\n",
    "emotion_id2labels: dict = {i: emotion for i, emotion in enumerate(emotion_labels)}\n",
    "pprint(emotion_id2labels)"
   ],
   "metadata": {
    "collapsed": false,
    "ExecuteTime": {
     "end_time": "2024-03-10T14:23:05.899292Z",
     "start_time": "2024-03-10T14:23:05.896492Z"
    }
   },
   "id": "c13d2cedc9b25377",
   "execution_count": 259
  },
  {
   "cell_type": "code",
   "outputs": [],
   "source": [
    "dataset = dataset.map(lambda samples: {\n",
    "\t\"emotion\": [emotion_id2labels[sample] for sample in samples[\"emotion_id\"]]\n",
    "}, batched=True)"
   ],
   "metadata": {
    "collapsed": false,
    "ExecuteTime": {
     "end_time": "2024-03-10T14:23:05.912489Z",
     "start_time": "2024-03-10T14:23:05.900408Z"
    }
   },
   "id": "3c3bf3cd63f2251c",
   "execution_count": 260
  },
  {
   "cell_type": "code",
   "outputs": [
    {
     "data": {
      "text/plain": "{'dialog_id': 0,\n 'utterance': 'Say , Jim , how about going for a few beers after dinner ? ',\n 'turn_type': 3,\n 'emotion_id': 0,\n 'emotion': 'neutral'}"
     },
     "execution_count": 261,
     "metadata": {},
     "output_type": "execute_result"
    }
   ],
   "source": [
    "dataset[\"train\"][0]"
   ],
   "metadata": {
    "collapsed": false,
    "ExecuteTime": {
     "end_time": "2024-03-10T14:23:05.916881Z",
     "start_time": "2024-03-10T14:23:05.913187Z"
    }
   },
   "id": "819531b5f00cd616",
   "execution_count": 261
  },
  {
   "cell_type": "markdown",
   "source": [
    "# Edit Features"
   ],
   "metadata": {
    "collapsed": false
   },
   "id": "a415327d17bc6d0b"
  },
  {
   "cell_type": "code",
   "outputs": [],
   "source": [
    "dataset = dataset.remove_columns([\"turn_type\", \"emotion_id\"])"
   ],
   "metadata": {
    "collapsed": false,
    "ExecuteTime": {
     "end_time": "2024-03-10T14:23:05.921825Z",
     "start_time": "2024-03-10T14:23:05.917609Z"
    }
   },
   "id": "6194244d3e7d678c",
   "execution_count": 262
  },
  {
   "cell_type": "code",
   "outputs": [],
   "source": [
    "dataset = dataset.rename_column(\"dialog_id\", \"id\")"
   ],
   "metadata": {
    "collapsed": false,
    "ExecuteTime": {
     "end_time": "2024-03-10T14:23:05.926828Z",
     "start_time": "2024-03-10T14:23:05.922427Z"
    }
   },
   "id": "49cb315c9f9f59f8",
   "execution_count": 263
  },
  {
   "cell_type": "code",
   "outputs": [
    {
     "data": {
      "text/plain": "{'id': 0,\n 'utterance': 'Say , Jim , how about going for a few beers after dinner ? ',\n 'emotion': 'neutral'}"
     },
     "execution_count": 264,
     "metadata": {},
     "output_type": "execute_result"
    }
   ],
   "source": [
    "dataset[\"train\"][0]"
   ],
   "metadata": {
    "collapsed": false,
    "ExecuteTime": {
     "end_time": "2024-03-10T14:23:05.931687Z",
     "start_time": "2024-03-10T14:23:05.928887Z"
    }
   },
   "id": "f0437e2cb29efcd9",
   "execution_count": 264
  },
  {
   "cell_type": "markdown",
   "source": [
    "# Save Dataset to Local"
   ],
   "metadata": {
    "collapsed": false
   },
   "id": "47b6d69cc71041bb"
  },
  {
   "cell_type": "code",
   "outputs": [
    {
     "data": {
      "text/plain": "Creating json from Arrow format:   0%|          | 0/88 [00:00<?, ?ba/s]",
      "application/vnd.jupyter.widget-view+json": {
       "version_major": 2,
       "version_minor": 0,
       "model_id": "a397b893d2cc4a27bab1b2e3b0c927af"
      }
     },
     "metadata": {},
     "output_type": "display_data"
    },
    {
     "data": {
      "text/plain": "Creating json from Arrow format:   0%|          | 0/9 [00:00<?, ?ba/s]",
      "application/vnd.jupyter.widget-view+json": {
       "version_major": 2,
       "version_minor": 0,
       "model_id": "d8ccaea304554256b89c2fbfd9076a50"
      }
     },
     "metadata": {},
     "output_type": "display_data"
    },
    {
     "data": {
      "text/plain": "Creating json from Arrow format:   0%|          | 0/8 [00:00<?, ?ba/s]",
      "application/vnd.jupyter.widget-view+json": {
       "version_major": 2,
       "version_minor": 0,
       "model_id": "767f2470d71a4e9eb988b9d8f7bfb73d"
      }
     },
     "metadata": {},
     "output_type": "display_data"
    }
   ],
   "source": [
    "for split in [\"train\", \"validation\", \"test\"]:\n",
    "\tdataset[split].to_json(f\"./data/daily_dialog_{split}\", num_proc=8)"
   ],
   "metadata": {
    "collapsed": false,
    "ExecuteTime": {
     "end_time": "2024-03-10T14:23:10.484458Z",
     "start_time": "2024-03-10T14:23:05.932277Z"
    }
   },
   "id": "e22ccef89b1257a",
   "execution_count": 265
  },
  {
   "cell_type": "code",
   "outputs": [],
   "source": [],
   "metadata": {
    "collapsed": false,
    "ExecuteTime": {
     "end_time": "2024-03-10T14:23:10.487127Z",
     "start_time": "2024-03-10T14:23:10.485460Z"
    }
   },
   "id": "522ff1d1940425f7",
   "execution_count": 265
  }
 ],
 "metadata": {
  "kernelspec": {
   "display_name": "Python 3",
   "language": "python",
   "name": "python3"
  },
  "language_info": {
   "codemirror_mode": {
    "name": "ipython",
    "version": 2
   },
   "file_extension": ".py",
   "mimetype": "text/x-python",
   "name": "python",
   "nbconvert_exporter": "python",
   "pygments_lexer": "ipython2",
   "version": "2.7.6"
  }
 },
 "nbformat": 4,
 "nbformat_minor": 5
}
