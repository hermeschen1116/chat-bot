{
 "cells": [
  {
   "cell_type": "code",
   "outputs": [],
   "source": [
    "from pprint import pprint\n",
    "import os\n",
    "from huggingface_hub import login\n",
    "from datasets import load_dataset"
   ],
   "metadata": {
    "collapsed": false,
    "ExecuteTime": {
     "end_time": "2024-03-10T14:32:17.158105Z",
     "start_time": "2024-03-10T14:32:16.607885Z"
    }
   },
   "id": "c2fbb7de55a79c34",
   "execution_count": 1
  },
  {
   "cell_type": "code",
   "execution_count": 2,
   "id": "initial_id",
   "metadata": {
    "collapsed": true,
    "ExecuteTime": {
     "end_time": "2024-03-10T14:32:17.468033Z",
     "start_time": "2024-03-10T14:32:17.158963Z"
    }
   },
   "outputs": [
    {
     "name": "stdout",
     "output_type": "stream",
     "text": [
      "Token is valid (permission: read).\n",
      "Your token has been saved in your configured git credential helpers (osxkeychain).\n",
      "Your token has been saved to /Users/hermeschen/.cache/huggingface/token\n",
      "Login successful\n"
     ]
    }
   ],
   "source": [
    "login(token=os.environ.get(\"HF_TOKEN\", \"\"), add_to_git_credential=True)"
   ]
  },
  {
   "cell_type": "markdown",
   "source": [
    "# Load Dataset"
   ],
   "metadata": {
    "collapsed": false
   },
   "id": "4b92e6c3667794d3"
  },
  {
   "cell_type": "code",
   "outputs": [],
   "source": [
    "dataset_name: str = \"benjaminbeilharz/better_daily_dialog\""
   ],
   "metadata": {
    "collapsed": false,
    "ExecuteTime": {
     "end_time": "2024-03-10T14:32:17.470697Z",
     "start_time": "2024-03-10T14:32:17.468824Z"
    }
   },
   "id": "9fa768d30892945a",
   "execution_count": 3
  },
  {
   "cell_type": "code",
   "outputs": [],
   "source": [
    "dataset = load_dataset(dataset_name, num_proc=8, trust_remote_code=True)"
   ],
   "metadata": {
    "collapsed": false,
    "ExecuteTime": {
     "end_time": "2024-03-10T14:32:24.230607Z",
     "start_time": "2024-03-10T14:32:17.471337Z"
    }
   },
   "id": "9e85b39808132a2",
   "execution_count": 4
  },
  {
   "cell_type": "markdown",
   "source": [
    "# Convert Emotion ID to Text Label"
   ],
   "metadata": {
    "collapsed": false
   },
   "id": "9d219d5e2dd59805"
  },
  {
   "cell_type": "code",
   "outputs": [],
   "source": [
    "dataset = dataset.rename_column(\"emotion\", \"emotion_id\")"
   ],
   "metadata": {
    "collapsed": false,
    "ExecuteTime": {
     "end_time": "2024-03-10T14:32:24.241033Z",
     "start_time": "2024-03-10T14:32:24.233580Z"
    }
   },
   "id": "90b24cb179aa3d15",
   "execution_count": 5
  },
  {
   "cell_type": "code",
   "outputs": [
    {
     "name": "stdout",
     "output_type": "stream",
     "text": [
      "{0: 'neutral',\n",
      " 1: 'anger',\n",
      " 2: 'disgust',\n",
      " 3: 'fear',\n",
      " 4: 'happiness',\n",
      " 5: 'sadness',\n",
      " 6: 'surprise'}\n"
     ]
    }
   ],
   "source": [
    "emotion_labels: list = [\"neutral\", \"anger\", \"disgust\", \"fear\", \"happiness\", \"sadness\", \"surprise\"]\n",
    "emotion_id2labels: dict = {i: emotion for i, emotion in enumerate(emotion_labels)}\n",
    "pprint(emotion_id2labels)"
   ],
   "metadata": {
    "collapsed": false,
    "ExecuteTime": {
     "end_time": "2024-03-10T14:32:24.246866Z",
     "start_time": "2024-03-10T14:32:24.242746Z"
    }
   },
   "id": "c13d2cedc9b25377",
   "execution_count": 6
  },
  {
   "cell_type": "code",
   "outputs": [],
   "source": [
    "dataset = dataset.map(lambda samples: {\n",
    "\t\"emotion\": [emotion_id2labels[sample] for sample in samples[\"emotion_id\"]]\n",
    "}, batched=True)"
   ],
   "metadata": {
    "collapsed": false,
    "ExecuteTime": {
     "end_time": "2024-03-10T14:32:24.302356Z",
     "start_time": "2024-03-10T14:32:24.248060Z"
    }
   },
   "id": "3c3bf3cd63f2251c",
   "execution_count": 7
  },
  {
   "cell_type": "code",
   "outputs": [
    {
     "data": {
      "text/plain": "{'dialog_id': 0,\n 'utterance': 'Say , Jim , how about going for a few beers after dinner ? ',\n 'turn_type': 3,\n 'emotion_id': 0,\n 'emotion': 'neutral'}"
     },
     "execution_count": 8,
     "metadata": {},
     "output_type": "execute_result"
    }
   ],
   "source": [
    "dataset[\"train\"][0]"
   ],
   "metadata": {
    "collapsed": false,
    "ExecuteTime": {
     "end_time": "2024-03-10T14:32:24.327891Z",
     "start_time": "2024-03-10T14:32:24.305468Z"
    }
   },
   "id": "819531b5f00cd616",
   "execution_count": 8
  },
  {
   "cell_type": "markdown",
   "source": [
    "# Edit Features"
   ],
   "metadata": {
    "collapsed": false
   },
   "id": "a415327d17bc6d0b"
  },
  {
   "cell_type": "code",
   "outputs": [],
   "source": [
    "dataset = dataset.remove_columns([\"turn_type\", \"emotion_id\"])"
   ],
   "metadata": {
    "collapsed": false,
    "ExecuteTime": {
     "end_time": "2024-03-10T14:32:24.332076Z",
     "start_time": "2024-03-10T14:32:24.328672Z"
    }
   },
   "id": "6194244d3e7d678c",
   "execution_count": 9
  },
  {
   "cell_type": "code",
   "outputs": [],
   "source": [
    "dataset = dataset.rename_column(\"dialog_id\", \"id\")"
   ],
   "metadata": {
    "collapsed": false,
    "ExecuteTime": {
     "end_time": "2024-03-10T14:32:24.335568Z",
     "start_time": "2024-03-10T14:32:24.332641Z"
    }
   },
   "id": "49cb315c9f9f59f8",
   "execution_count": 10
  },
  {
   "cell_type": "code",
   "outputs": [
    {
     "data": {
      "text/plain": "{'id': 0,\n 'utterance': 'Say , Jim , how about going for a few beers after dinner ? ',\n 'emotion': 'neutral'}"
     },
     "execution_count": 11,
     "metadata": {},
     "output_type": "execute_result"
    }
   ],
   "source": [
    "dataset[\"train\"][0]"
   ],
   "metadata": {
    "collapsed": false,
    "ExecuteTime": {
     "end_time": "2024-03-10T14:32:24.338983Z",
     "start_time": "2024-03-10T14:32:24.336458Z"
    }
   },
   "id": "f0437e2cb29efcd9",
   "execution_count": 11
  },
  {
   "cell_type": "markdown",
   "source": [
    "# Save Dataset to Local"
   ],
   "metadata": {
    "collapsed": false
   },
   "id": "47b6d69cc71041bb"
  },
  {
   "cell_type": "code",
   "outputs": [
    {
     "data": {
      "text/plain": "Creating json from Arrow format:   0%|          | 0/88 [00:00<?, ?ba/s]",
      "application/vnd.jupyter.widget-view+json": {
       "version_major": 2,
       "version_minor": 0,
       "model_id": "7be197baf12f471bb612bfe0f3abdcb4"
      }
     },
     "metadata": {},
     "output_type": "display_data"
    },
    {
     "data": {
      "text/plain": "Creating json from Arrow format:   0%|          | 0/9 [00:00<?, ?ba/s]",
      "application/vnd.jupyter.widget-view+json": {
       "version_major": 2,
       "version_minor": 0,
       "model_id": "d88452a93dba44bcb172c5f54f8b13f7"
      }
     },
     "metadata": {},
     "output_type": "display_data"
    },
    {
     "data": {
      "text/plain": "Creating json from Arrow format:   0%|          | 0/8 [00:00<?, ?ba/s]",
      "application/vnd.jupyter.widget-view+json": {
       "version_major": 2,
       "version_minor": 0,
       "model_id": "77dce41177e440c4a8e98ea0e43dc0d5"
      }
     },
     "metadata": {},
     "output_type": "display_data"
    }
   ],
   "source": [
    "# creat data fold in the same directory at first\n",
    "for split in [\"train\", \"validation\", \"test\"]:\n",
    "\tdataset[split].to_json(f\"./data/daily_dialog_{split}.json\", num_proc=8)"
   ],
   "metadata": {
    "collapsed": false,
    "ExecuteTime": {
     "end_time": "2024-03-10T14:32:28.738687Z",
     "start_time": "2024-03-10T14:32:24.339699Z"
    }
   },
   "id": "e22ccef89b1257a",
   "execution_count": 12
  },
  {
   "cell_type": "code",
   "outputs": [],
   "source": [],
   "metadata": {
    "collapsed": false,
    "ExecuteTime": {
     "end_time": "2024-03-10T14:32:28.740795Z",
     "start_time": "2024-03-10T14:32:28.739547Z"
    }
   },
   "id": "522ff1d1940425f7",
   "execution_count": 12
  }
 ],
 "metadata": {
  "kernelspec": {
   "display_name": "Python 3",
   "language": "python",
   "name": "python3"
  },
  "language_info": {
   "codemirror_mode": {
    "name": "ipython",
    "version": 2
   },
   "file_extension": ".py",
   "mimetype": "text/x-python",
   "name": "python",
   "nbconvert_exporter": "python",
   "pygments_lexer": "ipython2",
   "version": "2.7.6"
  }
 },
 "nbformat": 4,
 "nbformat_minor": 5
}
